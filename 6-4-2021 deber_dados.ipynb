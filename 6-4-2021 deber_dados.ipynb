{
 "cells": [
  {
   "cell_type": "markdown",
   "metadata": {},
   "source": [
    "### Universidad Politecnica Salesiana\n",
    "#### Est: Angel Jadan\n",
    "##### Fecha: 5/4/2021"
   ]
  },
  {
   "cell_type": "code",
   "execution_count": 1,
   "metadata": {},
   "outputs": [],
   "source": [
    "import random\n",
    "import matplotlib.pyplot as plot"
   ]
  },
  {
   "cell_type": "code",
   "execution_count": 9,
   "metadata": {},
   "outputs": [
    {
     "name": "stdout",
     "output_type": "stream",
     "text": [
      "Sumas de dados: \n",
      "2: 31\n",
      "3: 69\n",
      "4: 91\n",
      "5: 107\n",
      "6: 121\n",
      "7: 143\n",
      "8: 142\n",
      "9: 124\n",
      "10: 85\n",
      "11: 63\n",
      "12: 24\n",
      "El numero que mas salio es numero 7 salio 143 veces\n",
      "[66, 144, 352, 615, 786, 1057, 1208, 918, 920, 561, 360]\n"
     ]
    },
    {
     "data": {
      "image/png": "[encoded data removed]",
      "text/plain": [
       "<Figure size 432x288 with 1 Axes>"
      ]
     },
     "metadata": {
      "needs_background": "light"
     },
     "output_type": "display_data"
    }
   ],
   "source": [
    "\n",
    "num2=0\n",
    "num3=0\n",
    "num4=0\n",
    "num5=0\n",
    "num6=0\n",
    "num7=0\n",
    "num8=0\n",
    "num9=0\n",
    "num10=0\n",
    "num11=0\n",
    "num12=0\n",
    "\n",
    "histo = []\n",
    "for i in range(1000):\n",
    "    dado1 = random.randint(1,6)\n",
    "    dado2 = random.randint(1,6)\n",
    "    suma = dado1+dado2\n",
    "    histo.append(suma)\n",
    "    if(suma==2):\n",
    "        num2=num2+1\n",
    "    if(suma==3):\n",
    "        num3=num3+1\n",
    "    if(suma==4):\n",
    "        num4=num4+1\n",
    "    if(suma==5):\n",
    "        num5=num5+1\n",
    "    if(suma==6):\n",
    "        num6=num6+1\n",
    "    if(suma==7):\n",
    "        num7=num7+1\n",
    "    if(suma==8):\n",
    "        num8=num8+1\n",
    "    if(suma==9):\n",
    "        num9=num9+1\n",
    "    if(suma==10):\n",
    "        num10=num10+1\n",
    "    if(suma==11):\n",
    "        num11=num11+1\n",
    "    if(suma==12):\n",
    "        num12=num12+1\n",
    "        \n",
    "print(\"Sumas de dados: \")\n",
    "print(\"2: \"+str(num2))\n",
    "print(\"3: \"+str(num3))\n",
    "print(\"4: \"+str(num4))\n",
    "print(\"5: \"+str(num5))\n",
    "print(\"6: \"+str(num6))\n",
    "print(\"7: \"+str(num7))\n",
    "print(\"8: \"+str(num8))\n",
    "print(\"9: \"+str(num9))\n",
    "print(\"10: \"+str(num10))\n",
    "print(\"11: \"+str(num11))\n",
    "print(\"12: \"+str(num12))\n",
    "\n",
    "numero = 0\n",
    "veces = 0\n",
    "if (num2>num3 and num2>num4 and num2>num5 and num2>num6 and num2>num7 and num2>num8 and num2>num9 \\\n",
    "and num2>num10 and num2>num11 and num2>num12):\n",
    "    veces=num2\n",
    "    numero=2\n",
    "elif (num3>num4 and num3>num5 and num3>num6 and num3>num7 and num3>num8 and num3>num9 \\\n",
    "and num3>num10 and num3>num11 and num3>num12):\n",
    "    veces=num3\n",
    "    numero=3\n",
    "elif (num4>num5 and num4>num6 and num4>num7 and num4>num8 and num4>num9 \\\n",
    "and num4>num10 and num4>num11 and num4>num12):\n",
    "    veces=num4\n",
    "    numero=4\n",
    "elif (num5>num6 and num5>num7 and num5>num8 and num5>num9 \\\n",
    "and num5>num10 and num5>num11 and num5>num12):\n",
    "    veces=num5\n",
    "    numero=5\n",
    "elif (num6>num7 and num6>num8 and num6>num8 and num6>num9 and num6>num10 and num6>num11 and num6>num12):\n",
    "    veces=num6\n",
    "    numero=6\n",
    "elif (num7>num8 and num7>num8 and num7>num9 and num7>num10 and num7>num11 and num7>num12):\n",
    "    veces=num7\n",
    "    numero=7\n",
    "elif (num8>num9 and num8>num10 and num8>num11 and num8>num12):\n",
    "    veces=num8\n",
    "    numero=8\n",
    "elif (num9>num10 and num9>num11 and num9>num12):\n",
    "    veces=num9\n",
    "    numero=9\n",
    "elif (num10>num11 and num10>num12):\n",
    "    veces=num10\n",
    "    numero=10\n",
    "elif (num11>num12):\n",
    "    veces = num11\n",
    "    numero = 11\n",
    "else:\n",
    "    veces=num12\n",
    "    numero = 12\n",
    "print(\"El numero que mas salio es numero \"+str(numero)+\" salio \"+str(veces)+\" veces\")\n",
    "\n",
    "print(numbers)\n",
    "intervalos = [2,3,4,5,6,7,8,9,10,11,12,13]\n",
    "\n",
    "plot.hist(x=histo, bins=intervalos, color='#F2AB6D', rwidth=0.85)\n",
    "plot.title('Histograma de numeros generados de la suma de 2 dados')\n",
    "plot.xlabel('numeros')\n",
    "plot.ylabel('cantidad')\n",
    "plot.xticks(intervalos)\n",
    "\n",
    "plot.show() #dibujamos el histograma"
   ]
  },
  {
   "cell_type": "code",
   "execution_count": null,
   "metadata": {},
   "outputs": [],
   "source": []
  }
 ],
 "metadata": {
  "kernelspec": {
   "display_name": "Python 3",
   "language": "python",
   "name": "python3"
  },
  "language_info": {
   "codemirror_mode": {
    "name": "ipython",
    "version": 3
   },
   "file_extension": ".py",
   "mimetype": "text/x-python",
   "name": "python",
   "nbconvert_exporter": "python",
   "pygments_lexer": "ipython3",
   "version": "3.8.3"
  }
 },
 "nbformat": 4,
 "nbformat_minor": 4
}
