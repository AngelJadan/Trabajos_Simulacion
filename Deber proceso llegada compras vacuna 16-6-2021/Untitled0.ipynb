{
  "nbformat": 4,
  "nbformat_minor": 0,
  "metadata": {
    "colab": {
      "name": "Untitled0.ipynb",
      "provenance": [],
      "collapsed_sections": []
    },
    "kernelspec": {
      "name": "python3",
      "display_name": "Python 3"
    },
    "language_info": {
      "name": "python"
    }
  },
  "cells": [
    {
      "cell_type": "markdown",
      "metadata": {
        "id": "Z2ces9r2mQJ0"
      },
      "source": [
        "\n",
        "<center><h1>Universidad Politécnica Salesiana</h1></center>\n",
        "<center><h4>Nombre: Angel Jadan</h4></center>\n",
        "<center><h4>Fecha: 19/07/2021</h4></center>\n",
        "\n",
        "**Ejercicio:**\n",
        "<br>\n",
        "Utilizando las tarea de la predicción de llegadas de vacunas y el recinto de vacunación, realizar un sistema que permita simular y correlacionar el procesos de llegada/compras de vacuna con el procesos de vacunación, en donde si no se tiene un stock/número de vacunas las personas tendran que esperar/reasignar a otro día en donde exista vacunas dentro del establecimiento y realizar el proceso de vacunación"
      ]
    },
    {
      "cell_type": "code",
      "metadata": {
        "id": "GkU5l1ywYFlT",
        "colab": {
          "base_uri": "https://localhost:8080/"
        },
        "outputId": "c50bf99c-cb75-47b9-de07-bea27a93cee3"
      },
      "source": [
        "pip install simpy"
      ],
      "execution_count": 2,
      "outputs": [
        {
          "output_type": "stream",
          "text": [
            "Collecting simpy\n",
            "  Downloading simpy-4.0.1-py2.py3-none-any.whl (29 kB)\n",
            "Installing collected packages: simpy\n",
            "Successfully installed simpy-4.0.1\n"
          ],
          "name": "stdout"
        }
      ]
    },
    {
      "cell_type": "code",
      "metadata": {
        "id": "-7uL5ZpXaSyi"
      },
      "source": [
        "import simpy"
      ],
      "execution_count": 3,
      "outputs": []
    },
    {
      "cell_type": "code",
      "metadata": {
        "colab": {
          "base_uri": "https://localhost:8080/"
        },
        "id": "VRHfvundaWcZ",
        "outputId": "c22aff9d-761d-4601-f989-3339087c6391"
      },
      "source": [
        "def llegada_vacuna(env, bodega):\n",
        "  for i in range(1000):\n",
        "    yield env.timeout(2)\n",
        "    yield bodega.put(f'vacuna{i}')\n",
        "    print(f'Llego la vacuna {i} en el tiempo {env.now}')\n",
        "\n",
        "def paciente(nombre,env,bodega):\n",
        "  while True:\n",
        "    yield env.timeout(1)\n",
        "    print(f'{nombre} se coloca la vacuna en el tiempo {env.now}')\n",
        "env = simpy.Environment()\n",
        "bodega = simpy.Store(env, capacity=1)\n",
        "llegada = env.process(llegada_vacuna(env, bodega))\n",
        "paciente = env.process(paciente(\"1\",env, bodega))\n",
        "env.run(until=10)"
      ],
      "execution_count": 6,
      "outputs": [
        {
          "output_type": "stream",
          "text": [
            "1 se coloca la vacuna en el tiempo 1\n",
            "1 se coloca la vacuna en el tiempo 2\n",
            "Llego la vacuna 0 en el tiempo 2\n",
            "1 se coloca la vacuna en el tiempo 3\n",
            "1 se coloca la vacuna en el tiempo 4\n",
            "1 se coloca la vacuna en el tiempo 5\n",
            "1 se coloca la vacuna en el tiempo 6\n",
            "1 se coloca la vacuna en el tiempo 7\n",
            "1 se coloca la vacuna en el tiempo 8\n",
            "1 se coloca la vacuna en el tiempo 9\n"
          ],
          "name": "stdout"
        }
      ]
    },
    {
      "cell_type": "code",
      "metadata": {
        "colab": {
          "base_uri": "https://localhost:8080/"
        },
        "id": "tqomSrvLgif_",
        "outputId": "0ac5f8ca-f72d-4b79-c8cb-2dd698af2124"
      },
      "source": [
        "def vacuna_terminada(env, problemas):\n",
        "  for problema in [simpy.PriorityItem('P2','#0000'),simpy.PriorityItem('P0','#0001'),simpy.PriorityItem('P3','#0002'),simpy.PriorityItem('P1','#0003')]:\n",
        "    yield env.timeout(1)\n",
        "    print(f'En el tiempo {env.now} se terminarón las vacunas {problema}')\n",
        "    yield problemas.put(problema)\n",
        "    \n",
        "def cambio_punto(env,problemas):\n",
        "  while True:\n",
        "    problema = yield problemas.get()\n",
        "    yield env.timeout(3)\n",
        "    print(f'Se ha cambiado al paciente {problema} en el tiempo {env.now}')\n",
        "\n",
        "\n",
        "env = simpy.Environment()\n",
        "problemas = simpy.PriorityStore(env)\n",
        "env.process(vacuna_terminada(env,problemas))\n",
        "env.process(cambio_punto(env, problemas))\n",
        "env.run(until=20)"
      ],
      "execution_count": 8,
      "outputs": [
        {
          "output_type": "stream",
          "text": [
            "En el tiempo 1 se terminarón las vacunas PriorityItem(priority='P2', item='#0000')\n",
            "En el tiempo 2 se terminarón las vacunas PriorityItem(priority='P0', item='#0001')\n",
            "En el tiempo 3 se terminarón las vacunas PriorityItem(priority='P3', item='#0002')\n",
            "Se ha cambiado al paciente PriorityItem(priority='P2', item='#0000') en el tiempo 4\n",
            "En el tiempo 4 se terminarón las vacunas PriorityItem(priority='P1', item='#0003')\n",
            "Se ha cambiado al paciente PriorityItem(priority='P0', item='#0001') en el tiempo 7\n",
            "Se ha cambiado al paciente PriorityItem(priority='P1', item='#0003') en el tiempo 10\n",
            "Se ha cambiado al paciente PriorityItem(priority='P3', item='#0002') en el tiempo 13\n"
          ],
          "name": "stdout"
        }
      ]
    }
  ]
}