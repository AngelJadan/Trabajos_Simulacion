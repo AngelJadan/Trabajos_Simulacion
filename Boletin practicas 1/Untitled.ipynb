{
 "cells": [
  {
   "cell_type": "markdown",
   "metadata": {},
   "source": [
    "## Universidad Politécnica Salesiana\n",
    "#### Nombre: Angel Jadan\n",
    "#### Fecha: 2/5/2021\n",
    "\n",
    "#### Simulación de movimiento de vehiculos en la Ciudad de Cuenca, entre la Av. Loja y 10 de agosto.\n",
    "\n",
    "![alt text](mapa.png)\n",
    "\n",
    "\n",
    "Configuración de vehiculos para simulación.\n",
    "![alt text](conf_vehiculos.png)\n",
    "Mapa de simulación de avenidas en SimTrafic.\n",
    "![alt text](simulacion.png)\n",
    "\n",
    "Resultado de la simulación.\n",
    "\n",
    "Fuente de datos: http://201.159.222.99/bitstream/datos/7226/1/13172.pdf"
   ]
  },
  {
   "cell_type": "code",
   "execution_count": 115,
   "metadata": {},
   "outputs": [],
   "source": [
    "import pandas as pd\n",
    "import numpy as np\n",
    "from datetime import datetime, timedelta\n",
    "from sklearn.metrics import mean_squared_error\n",
    "from scipy.optimize import curve_fit\n",
    "from scipy.optimize import fsolve\n",
    "from sklearn import linear_model\n",
    "import matplotlib.pyplot as plt\n",
    "%matplotlib inline"
   ]
  },
  {
   "cell_type": "code",
   "execution_count": 116,
   "metadata": {
    "scrolled": true
   },
   "outputs": [
    {
     "name": "stderr",
     "output_type": "stream",
     "text": [
      "<ipython-input-116-12075f068fde>:2: ParserWarning: Falling back to the 'python' engine because the 'c' engine does not support regex separators (separators > 1 char and different from '\\s+' are interpreted as regex); you can avoid this warning by specifying engine='python'.\n",
      "  df = pd.read_csv(url,sep=\"\\;\")\n"
     ]
    },
    {
     "data": {
      "text/html": [
       "<div>\n",
       "<style scoped>\n",
       "    .dataframe tbody tr th:only-of-type {\n",
       "        vertical-align: middle;\n",
       "    }\n",
       "\n",
       "    .dataframe tbody tr th {\n",
       "        vertical-align: top;\n",
       "    }\n",
       "\n",
       "    .dataframe thead th {\n",
       "        text-align: right;\n",
       "    }\n",
       "</style>\n",
       "<table border=\"1\" class=\"dataframe\">\n",
       "  <thead>\n",
       "    <tr style=\"text-align: right;\">\n",
       "      <th></th>\n",
       "      <th>Name</th>\n",
       "      <th>Country Code</th>\n",
       "      <th>Indicator Name</th>\n",
       "      <th>Indicator Code</th>\n",
       "      <th>1960</th>\n",
       "      <th>1961</th>\n",
       "      <th>1962</th>\n",
       "      <th>1963</th>\n",
       "      <th>1964</th>\n",
       "      <th>1965</th>\n",
       "      <th>...</th>\n",
       "      <th>2011</th>\n",
       "      <th>2012</th>\n",
       "      <th>2013</th>\n",
       "      <th>2014</th>\n",
       "      <th>2015</th>\n",
       "      <th>2016</th>\n",
       "      <th>2017</th>\n",
       "      <th>2018</th>\n",
       "      <th>2019</th>\n",
       "      <th>2020</th>\n",
       "    </tr>\n",
       "  </thead>\n",
       "  <tbody>\n",
       "    <tr>\n",
       "      <th>0</th>\n",
       "      <td>Aruba</td>\n",
       "      <td>ABW</td>\n",
       "      <td>Exportaciones de bienes y servicios (% del PIB)</td>\n",
       "      <td>NE.EXP.GNFS.ZS</td>\n",
       "      <td>NaN</td>\n",
       "      <td>NaN</td>\n",
       "      <td>NaN</td>\n",
       "      <td>NaN</td>\n",
       "      <td>NaN</td>\n",
       "      <td>NaN</td>\n",
       "      <td>...</td>\n",
       "      <td>67.813322</td>\n",
       "      <td>65.241349</td>\n",
       "      <td>76.509512</td>\n",
       "      <td>77.555556</td>\n",
       "      <td>73.517030</td>\n",
       "      <td>71.294029</td>\n",
       "      <td>73.332115</td>\n",
       "      <td>NaN</td>\n",
       "      <td>NaN</td>\n",
       "      <td>NaN</td>\n",
       "    </tr>\n",
       "    <tr>\n",
       "      <th>1</th>\n",
       "      <td>Afganist n</td>\n",
       "      <td>AFG</td>\n",
       "      <td>Exportaciones de bienes y servicios (% del PIB)</td>\n",
       "      <td>NE.EXP.GNFS.ZS</td>\n",
       "      <td>4.132233</td>\n",
       "      <td>4.453443</td>\n",
       "      <td>4.878051</td>\n",
       "      <td>9.171601</td>\n",
       "      <td>8.888893</td>\n",
       "      <td>11.258279</td>\n",
       "      <td>...</td>\n",
       "      <td>NaN</td>\n",
       "      <td>NaN</td>\n",
       "      <td>NaN</td>\n",
       "      <td>NaN</td>\n",
       "      <td>NaN</td>\n",
       "      <td>NaN</td>\n",
       "      <td>NaN</td>\n",
       "      <td>NaN</td>\n",
       "      <td>NaN</td>\n",
       "      <td>NaN</td>\n",
       "    </tr>\n",
       "    <tr>\n",
       "      <th>2</th>\n",
       "      <td>Angola</td>\n",
       "      <td>AGO</td>\n",
       "      <td>Exportaciones de bienes y servicios (% del PIB)</td>\n",
       "      <td>NE.EXP.GNFS.ZS</td>\n",
       "      <td>NaN</td>\n",
       "      <td>NaN</td>\n",
       "      <td>NaN</td>\n",
       "      <td>NaN</td>\n",
       "      <td>NaN</td>\n",
       "      <td>NaN</td>\n",
       "      <td>...</td>\n",
       "      <td>60.669948</td>\n",
       "      <td>55.940131</td>\n",
       "      <td>50.747084</td>\n",
       "      <td>44.695031</td>\n",
       "      <td>29.754599</td>\n",
       "      <td>28.124485</td>\n",
       "      <td>29.004100</td>\n",
       "      <td>40.836290</td>\n",
       "      <td>40.556871</td>\n",
       "      <td>NaN</td>\n",
       "    </tr>\n",
       "    <tr>\n",
       "      <th>3</th>\n",
       "      <td>Albania</td>\n",
       "      <td>ALB</td>\n",
       "      <td>Exportaciones de bienes y servicios (% del PIB)</td>\n",
       "      <td>NE.EXP.GNFS.ZS</td>\n",
       "      <td>NaN</td>\n",
       "      <td>NaN</td>\n",
       "      <td>NaN</td>\n",
       "      <td>NaN</td>\n",
       "      <td>NaN</td>\n",
       "      <td>NaN</td>\n",
       "      <td>...</td>\n",
       "      <td>29.241501</td>\n",
       "      <td>28.937487</td>\n",
       "      <td>28.916354</td>\n",
       "      <td>28.212979</td>\n",
       "      <td>27.267393</td>\n",
       "      <td>28.977864</td>\n",
       "      <td>31.569821</td>\n",
       "      <td>31.591574</td>\n",
       "      <td>31.555552</td>\n",
       "      <td>NaN</td>\n",
       "    </tr>\n",
       "    <tr>\n",
       "      <th>4</th>\n",
       "      <td>Andorra</td>\n",
       "      <td>AND</td>\n",
       "      <td>Exportaciones de bienes y servicios (% del PIB)</td>\n",
       "      <td>NE.EXP.GNFS.ZS</td>\n",
       "      <td>NaN</td>\n",
       "      <td>NaN</td>\n",
       "      <td>NaN</td>\n",
       "      <td>NaN</td>\n",
       "      <td>NaN</td>\n",
       "      <td>NaN</td>\n",
       "      <td>...</td>\n",
       "      <td>NaN</td>\n",
       "      <td>NaN</td>\n",
       "      <td>NaN</td>\n",
       "      <td>NaN</td>\n",
       "      <td>NaN</td>\n",
       "      <td>NaN</td>\n",
       "      <td>NaN</td>\n",
       "      <td>NaN</td>\n",
       "      <td>NaN</td>\n",
       "      <td>NaN</td>\n",
       "    </tr>\n",
       "    <tr>\n",
       "      <th>...</th>\n",
       "      <td>...</td>\n",
       "      <td>...</td>\n",
       "      <td>...</td>\n",
       "      <td>...</td>\n",
       "      <td>...</td>\n",
       "      <td>...</td>\n",
       "      <td>...</td>\n",
       "      <td>...</td>\n",
       "      <td>...</td>\n",
       "      <td>...</td>\n",
       "      <td>...</td>\n",
       "      <td>...</td>\n",
       "      <td>...</td>\n",
       "      <td>...</td>\n",
       "      <td>...</td>\n",
       "      <td>...</td>\n",
       "      <td>...</td>\n",
       "      <td>...</td>\n",
       "      <td>...</td>\n",
       "      <td>...</td>\n",
       "      <td>...</td>\n",
       "    </tr>\n",
       "    <tr>\n",
       "      <th>259</th>\n",
       "      <td>Kosovo</td>\n",
       "      <td>XKX</td>\n",
       "      <td>Exportaciones de bienes y servicios (% del PIB)</td>\n",
       "      <td>NE.EXP.GNFS.ZS</td>\n",
       "      <td>NaN</td>\n",
       "      <td>NaN</td>\n",
       "      <td>NaN</td>\n",
       "      <td>NaN</td>\n",
       "      <td>NaN</td>\n",
       "      <td>NaN</td>\n",
       "      <td>...</td>\n",
       "      <td>23.630699</td>\n",
       "      <td>23.256504</td>\n",
       "      <td>21.929561</td>\n",
       "      <td>22.502021</td>\n",
       "      <td>21.937317</td>\n",
       "      <td>23.698127</td>\n",
       "      <td>26.649932</td>\n",
       "      <td>26.431364</td>\n",
       "      <td>29.215526</td>\n",
       "      <td>NaN</td>\n",
       "    </tr>\n",
       "    <tr>\n",
       "      <th>260</th>\n",
       "      <td>Yemen, Rep. del</td>\n",
       "      <td>YEM</td>\n",
       "      <td>Exportaciones de bienes y servicios (% del PIB)</td>\n",
       "      <td>NE.EXP.GNFS.ZS</td>\n",
       "      <td>NaN</td>\n",
       "      <td>NaN</td>\n",
       "      <td>NaN</td>\n",
       "      <td>NaN</td>\n",
       "      <td>NaN</td>\n",
       "      <td>NaN</td>\n",
       "      <td>...</td>\n",
       "      <td>NaN</td>\n",
       "      <td>NaN</td>\n",
       "      <td>NaN</td>\n",
       "      <td>NaN</td>\n",
       "      <td>NaN</td>\n",
       "      <td>NaN</td>\n",
       "      <td>NaN</td>\n",
       "      <td>NaN</td>\n",
       "      <td>NaN</td>\n",
       "      <td>NaN</td>\n",
       "    </tr>\n",
       "    <tr>\n",
       "      <th>261</th>\n",
       "      <td>Sud frica</td>\n",
       "      <td>ZAF</td>\n",
       "      <td>Exportaciones de bienes y servicios (% del PIB)</td>\n",
       "      <td>NE.EXP.GNFS.ZS</td>\n",
       "      <td>29.550915</td>\n",
       "      <td>29.323968</td>\n",
       "      <td>29.406919</td>\n",
       "      <td>28.613876</td>\n",
       "      <td>27.435897</td>\n",
       "      <td>25.704051</td>\n",
       "      <td>...</td>\n",
       "      <td>30.460941</td>\n",
       "      <td>29.723879</td>\n",
       "      <td>30.971341</td>\n",
       "      <td>31.468645</td>\n",
       "      <td>30.152888</td>\n",
       "      <td>30.580928</td>\n",
       "      <td>29.627669</td>\n",
       "      <td>29.907083</td>\n",
       "      <td>29.853839</td>\n",
       "      <td>NaN</td>\n",
       "    </tr>\n",
       "    <tr>\n",
       "      <th>262</th>\n",
       "      <td>Zambia</td>\n",
       "      <td>ZMB</td>\n",
       "      <td>Exportaciones de bienes y servicios (% del PIB)</td>\n",
       "      <td>NE.EXP.GNFS.ZS</td>\n",
       "      <td>NaN</td>\n",
       "      <td>NaN</td>\n",
       "      <td>NaN</td>\n",
       "      <td>NaN</td>\n",
       "      <td>NaN</td>\n",
       "      <td>NaN</td>\n",
       "      <td>...</td>\n",
       "      <td>40.471223</td>\n",
       "      <td>40.082911</td>\n",
       "      <td>40.482717</td>\n",
       "      <td>38.822290</td>\n",
       "      <td>37.138526</td>\n",
       "      <td>35.324676</td>\n",
       "      <td>34.992858</td>\n",
       "      <td>37.957353</td>\n",
       "      <td>34.636161</td>\n",
       "      <td>NaN</td>\n",
       "    </tr>\n",
       "    <tr>\n",
       "      <th>263</th>\n",
       "      <td>Zimbabwe</td>\n",
       "      <td>ZWE</td>\n",
       "      <td>Exportaciones de bienes y servicios (% del PIB)</td>\n",
       "      <td>NE.EXP.GNFS.ZS</td>\n",
       "      <td>NaN</td>\n",
       "      <td>NaN</td>\n",
       "      <td>NaN</td>\n",
       "      <td>NaN</td>\n",
       "      <td>NaN</td>\n",
       "      <td>NaN</td>\n",
       "      <td>...</td>\n",
       "      <td>34.800802</td>\n",
       "      <td>25.163254</td>\n",
       "      <td>21.987759</td>\n",
       "      <td>20.930146</td>\n",
       "      <td>19.160176</td>\n",
       "      <td>19.943532</td>\n",
       "      <td>19.658023</td>\n",
       "      <td>19.000609</td>\n",
       "      <td>NaN</td>\n",
       "      <td>NaN</td>\n",
       "    </tr>\n",
       "  </tbody>\n",
       "</table>\n",
       "<p>264 rows × 65 columns</p>\n",
       "</div>"
      ],
      "text/plain": [
       "                Name Country Code  \\\n",
       "0              Aruba          ABW   \n",
       "1         Afganist n          AFG   \n",
       "2             Angola          AGO   \n",
       "3            Albania          ALB   \n",
       "4            Andorra          AND   \n",
       "..               ...          ...   \n",
       "259           Kosovo          XKX   \n",
       "260  Yemen, Rep. del          YEM   \n",
       "261        Sud frica          ZAF   \n",
       "262           Zambia          ZMB   \n",
       "263         Zimbabwe          ZWE   \n",
       "\n",
       "                                      Indicator Name  Indicator Code  \\\n",
       "0    Exportaciones de bienes y servicios (% del PIB)  NE.EXP.GNFS.ZS   \n",
       "1    Exportaciones de bienes y servicios (% del PIB)  NE.EXP.GNFS.ZS   \n",
       "2    Exportaciones de bienes y servicios (% del PIB)  NE.EXP.GNFS.ZS   \n",
       "3    Exportaciones de bienes y servicios (% del PIB)  NE.EXP.GNFS.ZS   \n",
       "4    Exportaciones de bienes y servicios (% del PIB)  NE.EXP.GNFS.ZS   \n",
       "..                                               ...             ...   \n",
       "259  Exportaciones de bienes y servicios (% del PIB)  NE.EXP.GNFS.ZS   \n",
       "260  Exportaciones de bienes y servicios (% del PIB)  NE.EXP.GNFS.ZS   \n",
       "261  Exportaciones de bienes y servicios (% del PIB)  NE.EXP.GNFS.ZS   \n",
       "262  Exportaciones de bienes y servicios (% del PIB)  NE.EXP.GNFS.ZS   \n",
       "263  Exportaciones de bienes y servicios (% del PIB)  NE.EXP.GNFS.ZS   \n",
       "\n",
       "          1960       1961       1962       1963       1964       1965  ...  \\\n",
       "0          NaN        NaN        NaN        NaN        NaN        NaN  ...   \n",
       "1     4.132233   4.453443   4.878051   9.171601   8.888893  11.258279  ...   \n",
       "2          NaN        NaN        NaN        NaN        NaN        NaN  ...   \n",
       "3          NaN        NaN        NaN        NaN        NaN        NaN  ...   \n",
       "4          NaN        NaN        NaN        NaN        NaN        NaN  ...   \n",
       "..         ...        ...        ...        ...        ...        ...  ...   \n",
       "259        NaN        NaN        NaN        NaN        NaN        NaN  ...   \n",
       "260        NaN        NaN        NaN        NaN        NaN        NaN  ...   \n",
       "261  29.550915  29.323968  29.406919  28.613876  27.435897  25.704051  ...   \n",
       "262        NaN        NaN        NaN        NaN        NaN        NaN  ...   \n",
       "263        NaN        NaN        NaN        NaN        NaN        NaN  ...   \n",
       "\n",
       "          2011       2012       2013       2014       2015       2016  \\\n",
       "0    67.813322  65.241349  76.509512  77.555556  73.517030  71.294029   \n",
       "1          NaN        NaN        NaN        NaN        NaN        NaN   \n",
       "2    60.669948  55.940131  50.747084  44.695031  29.754599  28.124485   \n",
       "3    29.241501  28.937487  28.916354  28.212979  27.267393  28.977864   \n",
       "4          NaN        NaN        NaN        NaN        NaN        NaN   \n",
       "..         ...        ...        ...        ...        ...        ...   \n",
       "259  23.630699  23.256504  21.929561  22.502021  21.937317  23.698127   \n",
       "260        NaN        NaN        NaN        NaN        NaN        NaN   \n",
       "261  30.460941  29.723879  30.971341  31.468645  30.152888  30.580928   \n",
       "262  40.471223  40.082911  40.482717  38.822290  37.138526  35.324676   \n",
       "263  34.800802  25.163254  21.987759  20.930146  19.160176  19.943532   \n",
       "\n",
       "          2017       2018       2019  2020  \n",
       "0    73.332115        NaN        NaN   NaN  \n",
       "1          NaN        NaN        NaN   NaN  \n",
       "2    29.004100  40.836290  40.556871   NaN  \n",
       "3    31.569821  31.591574  31.555552   NaN  \n",
       "4          NaN        NaN        NaN   NaN  \n",
       "..         ...        ...        ...   ...  \n",
       "259  26.649932  26.431364  29.215526   NaN  \n",
       "260        NaN        NaN        NaN   NaN  \n",
       "261  29.627669  29.907083  29.853839   NaN  \n",
       "262  34.992858  37.957353  34.636161   NaN  \n",
       "263  19.658023  19.000609        NaN   NaN  \n",
       "\n",
       "[264 rows x 65 columns]"
      ]
     },
     "execution_count": 116,
     "metadata": {},
     "output_type": "execute_result"
    }
   ],
   "source": [
    "url = \"datos.csv\"\n",
    "df = pd.read_csv(url,sep=\"\\;\")\n",
    "df"
   ]
  },
  {
   "cell_type": "code",
   "execution_count": 117,
   "metadata": {},
   "outputs": [],
   "source": [
    "df = df[df['Name'].isin(['Ecuador'])]\n",
    "\n",
    "df = df.loc[:,['Name','1960','1961','1962','1963','1964','1965','1966','1967','1968',\\\n",
    "           '1968','1969','1970','1971','1972','1973','1974','1975','1976',\\\n",
    "           '1977','1978','1979','1980','1981','1982','1983','1984','1985',\\\n",
    "           '1986','1987','1988','1989','1990','1991','1992','1993','1994',\\\n",
    "           '1995','1996','1997','1998','1999','2000','2001','2002','2003',\\\n",
    "           '2004','2005','2006','2007','2008','2009','2010','2011','2012',\\\n",
    "           '2013','2014','2015','2016','2017','2018','2019']]\n",
    "df = df.set_index('Name').T\n",
    "\n",
    "ecua = df[\"Ecuador\"].astype(int)\n",
    "df['Ecuador'] = ecua\n",
    "anios = df['Ecuador'].index.tolist()\n",
    "df['Anios'] = anios\n",
    "an = df[\"Anios\"].astype(int)\n",
    "df[\"Anios\"] = an"
   ]
  },
  {
   "cell_type": "code",
   "execution_count": 118,
   "metadata": {},
   "outputs": [
    {
     "data": {
      "text/plain": [
       "<matplotlib.axes._subplots.AxesSubplot at 0x158c5c55430>"
      ]
     },
     "execution_count": 118,
     "metadata": {},
     "output_type": "execute_result"
    },
    {
     "data": {
      "image/png": "[encoded data removed]",
      "text/plain": [
       "<Figure size 432x288 with 1 Axes>"
      ]
     },
     "metadata": {
      "needs_background": "light"
     },
     "output_type": "display_data"
    }
   ],
   "source": [
    "df.plot(y=\"Ecuador\", x=\"Anios\")"
   ]
  },
  {
   "cell_type": "markdown",
   "metadata": {},
   "source": [
    "Y = mX + b"
   ]
  },
  {
   "cell_type": "code",
   "execution_count": 119,
   "metadata": {},
   "outputs": [
    {
     "name": "stdout",
     "output_type": "stream",
     "text": [
      "Coeficintes: \n",
      " [2.13272535]\n",
      "Independiente termino: \n",
      " 1948.9404237135661\n"
     ]
    }
   ],
   "source": [
    "x = list(df.iloc [:, 0])\n",
    "y = list(df.iloc [:, 1])\n",
    "\n",
    "regr = linear_model.LinearRegression()\n",
    "\n",
    "regr.fit(np.array(x).reshape(-1, 1), y)\n",
    "\n",
    "print('Coeficintes: \\n',regr.coef_)\n",
    "\n",
    "print(\"Independiente termino: \\n\",regr.intercept_)"
   ]
  },
  {
   "cell_type": "code",
   "execution_count": 120,
   "metadata": {},
   "outputs": [
    {
     "name": "stdout",
     "output_type": "stream",
     "text": [
      "2162\n"
     ]
    }
   ],
   "source": [
    "y_prediccion = regr.predict([[100]])\n",
    "print(int(y_prediccion))"
   ]
  },
  {
   "cell_type": "code",
   "execution_count": 121,
   "metadata": {},
   "outputs": [
    {
     "name": "stdout",
     "output_type": "stream",
     "text": [
      "[10 11 12 13 14 15 16 17 18 19 20 21 22 23 24 25 26 27 28 29 30 31 32 33\n",
      " 34 35 36 37 38 39 40 41 42 43 44 45 46 47 48 49 50 51 52 53 54 55 56 57\n",
      " 58 59 60 61 62 63 64 65 66 67 68 69 70 71 72 73 74 75 76 77 78 79 80 81\n",
      " 82 83 84 85 86 87 88 89]\n"
     ]
    },
    {
     "data": {
      "image/png": "[encoded data removed]",
      "text/plain": [
       "<Figure size 432x288 with 1 Axes>"
      ]
     },
     "metadata": {
      "needs_background": "light"
     },
     "output_type": "display_data"
    }
   ],
   "source": [
    "plt.scatter(x,y)\n",
    "x_real = np.array(range(10,90))\n",
    "print(x_real)\n",
    "plt.plot(x_real, regr.predict(x_real.reshape(-1,1)), color='green')\n",
    "plt.show()"
   ]
  },
  {
   "cell_type": "code",
   "execution_count": 122,
   "metadata": {},
   "outputs": [
    {
     "data": {
      "text/plain": [
       "[1960,\n",
       " 1961,\n",
       " 1962,\n",
       " 1963,\n",
       " 1964,\n",
       " 1965,\n",
       " 1966,\n",
       " 1967,\n",
       " 1968,\n",
       " 1968,\n",
       " 1969,\n",
       " 1970,\n",
       " 1971,\n",
       " 1972,\n",
       " 1973,\n",
       " 1974,\n",
       " 1975,\n",
       " 1976,\n",
       " 1977,\n",
       " 1978,\n",
       " 1979,\n",
       " 1980,\n",
       " 1981,\n",
       " 1982,\n",
       " 1983,\n",
       " 1984,\n",
       " 1985,\n",
       " 1986,\n",
       " 1987,\n",
       " 1988,\n",
       " 1989,\n",
       " 1990,\n",
       " 1991,\n",
       " 1992,\n",
       " 1993,\n",
       " 1994,\n",
       " 1995,\n",
       " 1996,\n",
       " 1997,\n",
       " 1998,\n",
       " 1999,\n",
       " 2000,\n",
       " 2001,\n",
       " 2002,\n",
       " 2003,\n",
       " 2004,\n",
       " 2005,\n",
       " 2006,\n",
       " 2007,\n",
       " 2008,\n",
       " 2009,\n",
       " 2010,\n",
       " 2011,\n",
       " 2012,\n",
       " 2013,\n",
       " 2014,\n",
       " 2015,\n",
       " 2016,\n",
       " 2017,\n",
       " 2018,\n",
       " 2019]"
      ]
     },
     "execution_count": 122,
     "metadata": {},
     "output_type": "execute_result"
    }
   ],
   "source": [
    "y"
   ]
  },
  {
   "cell_type": "markdown",
   "metadata": {},
   "source": [
    "Definamos la función en Python y realicemos elprocedimiento de ajuste de curva utilizado para el crecimiento logístico."
   ]
  },
  {
   "cell_type": "code",
   "execution_count": 123,
   "metadata": {},
   "outputs": [
    {
     "name": "stdout",
     "output_type": "stream",
     "text": [
      "(array([1882.39851097,   37.3091618 ]), array([[ 66.61474569, -22.82928999],\n",
      "       [-22.82928999,   7.97891718]]))\n"
     ]
    }
   ],
   "source": [
    "def modelo_logistico(x,a,b):\n",
    "    return a+b*np.log(x)\n",
    "\n",
    "exp_fit = curve_fit(modelo_logistico,x,y)\n",
    "print(exp_fit)"
   ]
  },
  {
   "cell_type": "code",
   "execution_count": 124,
   "metadata": {},
   "outputs": [
    {
     "data": {
      "image/png": "[encoded data removed]",
      "text/plain": [
       "<Figure size 504x504 with 1 Axes>"
      ]
     },
     "metadata": {
      "needs_background": "light"
     },
     "output_type": "display_data"
    }
   ],
   "source": [
    "pred_x = list(range(min(x),max(x)+50)) # Predecir 50 dias mas\n",
    "plt.rcParams['figure.figsize'] = [7, 7]\n",
    "plt.rc('font', size=14)\n",
    "# Real data\n",
    "plt.scatter(x,y,label=\"Datos Reales\",color=\"red\")\n",
    "# Predicted exponential curve\n",
    "plt.plot(pred_x, [modelo_logistico(i,exp_fit[0][0],exp_fit[0][1]) for i in pred_x], label=\"Modelo Logistico\" )\n",
    "plt.legend()\n",
    "plt.xlabel(\"Desde 1961 del PIB en Ecuador\")\n",
    "plt.ylabel(\"\")\n",
    "plt.ylim((min(y)*0.9,max(y)*3.1)) # Definir los limites de Y\n",
    "plt.show()"
   ]
  },
  {
   "cell_type": "code",
   "execution_count": 125,
   "metadata": {},
   "outputs": [
    {
     "name": "stdout",
     "output_type": "stream",
     "text": [
      "[1.07303055e-03 7.57519397e+00]\n"
     ]
    },
    {
     "data": {
      "image/png": "[encoded data removed]",
      "text/plain": [
       "<Figure size 504x504 with 1 Axes>"
      ]
     },
     "metadata": {
      "needs_background": "light"
     },
     "output_type": "display_data"
    }
   ],
   "source": [
    "curve_fit = np.polyfit(x, np.log(y), deg=1)\n",
    "print(curve_fit)\n",
    "pred_x = np.array(list(range(min(x), max(x)+15)))\n",
    "yx = np.exp(curve_fit[1]) * np.exp(curve_fit[0]*pred_x)\n",
    "plt.plot(x,y,\"o\")\n",
    "plt.plot(pred_x,yx, color=\"gold\")\n",
    "plt.grid(True)"
   ]
  },
  {
   "cell_type": "code",
   "execution_count": null,
   "metadata": {},
   "outputs": [],
   "source": []
  }
 ],
 "metadata": {
  "kernelspec": {
   "display_name": "Python 3",
   "language": "python",
   "name": "python3"
  },
  "language_info": {
   "codemirror_mode": {
    "name": "ipython",
    "version": 3
   },
   "file_extension": ".py",
   "mimetype": "text/x-python",
   "name": "python",
   "nbconvert_exporter": "python",
   "pygments_lexer": "ipython3",
   "version": "3.8.3"
  }
 },
 "nbformat": 4,
 "nbformat_minor": 4
}
