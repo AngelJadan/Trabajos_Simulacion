{
 "cells": [
  {
   "cell_type": "markdown",
   "metadata": {},
   "source": [
    "<center><h1>Universidad Politécnica Salesiana</h1></center>\n",
    "<center><h4>Proyecto final: Bot para busqueda y redacción de noticias. </h4></center>\n",
    "<center><h5>Nombre: Angel Jadan</h5></center>\n",
    "<center><h5>Fecha: 1/8/2021</h5></center>\n",
    "\n",
    "<br>\n",
    "<br>\n",
    "<section>\n",
    "    <abstract>Resumen</abstract>\n",
    "    <p>El bot, busca un anoticia que se le indique en google.com, luego ingresa a algunas paginas, de ciertos periodicos para obtener el título de la noticia y realizar un resumen utilizando herramientas de proceso de lenguaje natural como nlk.</p>\n",
    "</section>"
   ]
  },
  {
   "cell_type": "code",
   "execution_count": 4,
   "metadata": {},
   "outputs": [
    {
     "name": "stdout",
     "output_type": "stream",
     "text": [
      "Requirement already satisfied: selenium in c:\\users\\estangelmesiasjadanc\\anaconda3\\lib\\site-packages (3.141.0)Note: you may need to restart the kernel to use updated packages.\n",
      "Requirement already satisfied: urllib3 in c:\\users\\estangelmesiasjadanc\\anaconda3\\lib\\site-packages (from selenium) (1.25.9)\n",
      "\n"
     ]
    }
   ],
   "source": [
    "pip install selenium"
   ]
  },
  {
   "cell_type": "code",
   "execution_count": 24,
   "metadata": {},
   "outputs": [],
   "source": [
    "import time\n",
    "from selenium import webdriver\n",
    "from selenium.webdriver.chrome.options import Options\n",
    "from selenium.webdriver.common.keys import Keys\n",
    "#Libreria para analisis de sentimientos de un texto\n",
    "from vaderSentiment.vaderSentiment import SentimentIntensityAnalyzer"
   ]
  },
  {
   "cell_type": "code",
   "execution_count": 85,
   "metadata": {
    "scrolled": true
   },
   "outputs": [
    {
     "name": "stderr",
     "output_type": "stream",
     "text": [
      "<ipython-input-85-2e7d9bb2f98a>:6: DeprecationWarning: use options instead of chrome_options\n",
      "  driver = webdriver.Chrome(executable_path=CHOMEDRIVEPATH, chrome_options = chrome_options)\n"
     ]
    },
    {
     "name": "stdout",
     "output_type": "stream",
     "text": [
      "Google\n",
      "Link https://www.elcomercio.com/actualidad/seguridad/policias-movilizan-carcel-guayaquil-posibles-detonaciones.html\n",
      "Link https://www.elcomercio.com/actualidad/politica/cesar-monge-muerte-exministro-guayaquil.html\n",
      "Link https://www.eluniverso.com/noticias/politica/presidente-guillermo-lasso-rindio-homenaje-a-cesar-monge-durante-ceremonia-por-80-anos-del-combate-de-jambeli-nota/\n",
      "Link https://cnnespanol.cnn.com/2021/07/25/muere-cesar-monge-exministro-y-artifice-en-la-carrera-politica-de-guillermo-lasso-orix/\n",
      "Link https://www.elcomercio.com/actualidad/politica/lasso-reunion-presidentes-peru-chile.html\n",
      "Link https://www.eluniverso.com/noticias/ecuador/municipio-elegira-a-la-primera-vicealcaldesa-de-quito-luz-elena-coloma-analia-ledesma-brith-vaca-sesion-convocada-por-santiago-guarderas-nota/\n",
      "Link https://www.elcomercio.com/actualidad/seguridad/preso-muerto-heridos-penitenciaria-guayaquil.html\n",
      "Link https://www.elcomercio.com/actualidad/politica/economista-teresa-minuche-fallecimiento-quito.html\n",
      "Link https://www.elcomercio.com/actualidad/pedro-castillo-gabinete-mujeres-peru.html\n",
      "Link https://www.elcomercio.com/actualidad/politica/frases-juicio-politico-pablo-celi.html\n",
      "Pagina.  Elcomercio.com\n",
      "Pagina.  Elcomercio.com\n",
      "Pagina.  El Universo\n",
      "Pagina.  CNN en Español\n",
      "Pagina.  Elcomercio.com\n",
      "Pagina.  El Universo\n",
      "Pagina.  Elcomercio.com\n",
      "Pagina.  Elcomercio.com\n",
      "Pagina.  Elcomercio.com\n",
      "Pagina.  Elcomercio.com\n"
     ]
    }
   ],
   "source": [
    "CHOMEDRIVEPATH = 'C:/Users/EstAngelMesiasJadanC/Documents/chromedriver_win32/chromedriver.exe'\n",
    "WINDOW_SIZE = \"1920,1080\"\n",
    "chrome_options = Options()\n",
    "chrome_options.add_argument('--window-size=%s'%WINDOW_SIZE)\n",
    "\n",
    "driver = webdriver.Chrome(executable_path=CHOMEDRIVEPATH, chrome_options = chrome_options)\n",
    "driver.get('https://www.google.com')\n",
    "print(driver.title)\n",
    "elemento = driver.find_element_by_name('q')\n",
    "elemento.send_keys('noticias politica ecuador hoy')\n",
    "elemento.submit()\n",
    "\n",
    "#time.sleep(2)\n",
    "#Numero de tabs para ir a seccion de noticias (13 tabs para llegar a marcar seccion de noticias.)\n",
    "driver.find_element_by_tag_name('body').send_keys(Keys.TAB*13, Keys.ENTER)\n",
    "\n",
    "\n",
    "#Para guardar los urls de cadad noticia mostrada por google\n",
    "links = []\n",
    "#Para guardar los nombres de las paginas mostrada por google\n",
    "pages = []\n",
    "#Para guardar los encabezados de cadad noticia mostrada por google\n",
    "encabezados = []\n",
    "\n",
    "\n",
    "#Para obtene el enlace que nos da google en la busqueda.\n",
    "urls = driver.find_elements_by_xpath(\"//div[@class='dbsr']//a[not(@class)]\")\n",
    "\n",
    "#Agregamos los links de las paginas.\n",
    "for res in urls:\n",
    "    enlace = res.get_attribute(\"href\")\n",
    "    print(\"Link\",enlace)\n",
    "    links.append(enlace)\n",
    "    #driver.get(enlace)\n",
    "pnews = driver.find_elements_by_xpath(\"//div[@class='XTjFC WF4CUc']\")\n",
    "\n",
    "#Agregamos los titulos de las paginas como: elcomercio.com\n",
    "for pnew in pnews:\n",
    "    print(\"Pagina. \", pnew.text)\n",
    "    pages.append(pnew.text)\n",
    "driver.close()\n"
   ]
  },
  {
   "cell_type": "code",
   "execution_count": 86,
   "metadata": {},
   "outputs": [
    {
     "name": "stdout",
     "output_type": "stream",
     "text": [
      "https://www.eluniverso.com/noticias/politica/presidente-guillermo-lasso-rindio-homenaje-a-cesar-monge-durante-ceremonia-por-80-anos-del-combate-de-jambeli-nota/\n",
      "El Universo\n"
     ]
    }
   ],
   "source": [
    "print(links[2])\n",
    "print(pages[2])"
   ]
  },
  {
   "cell_type": "code",
   "execution_count": 113,
   "metadata": {},
   "outputs": [],
   "source": [
    "def elcomercio():\n",
    "    datos = driver.find_elements_by_xpath(\"//div[@class='container']\")\n",
    "    analyzer = SentimentIntensityAnalyzer()\n",
    "    print(datos)    \n",
    "\n",
    "\n",
    "    #Para sacar titulo o encabezado de la noticia.\n",
    "    titles  = driver.find_elements_by_xpath(\"//div[@class='container']//div[@class='row']//div//article//header//h1[@class='entry__title']\")\n",
    "    for tit in titles:\n",
    "        print(\"Encabezado noticia. \",tit.text)\n",
    "        #Agregamos el titulo de la noticia\n",
    "        encabezados.append(tit.text)\n",
    "\n",
    "    #Para sacar el cuerpo o encabezado de la noticia\n",
    "    news = driver.find_elements_by_xpath(\"//div[@class='container']//div[@class='row']//div//article//div\\\n",
    "        //div[@class='col-md-11']//div[@class='entry__content']\")\n",
    "    texto =\"\"\"\"\"\"\n",
    "    \n",
    "    for new in news:\n",
    "        print(\"Cuerpo de noticia. \\n\",new.text)\n",
    "        #Para mandar a analizar el texto de la noticia obtenida.\n",
    "        vs = analyzer.polarity_scores(new.text)\n",
    "        #print(\"Resultado de analisis\",vs)\n",
    "        print(\"Negativo: \", vs['neg'])\n",
    "        print(\"Neutral: \", vs['neu'])\n",
    "        print(\"Positivo: \", vs['pos'])\n",
    "        print(\"Medida otros: \", vs['compound'])\n",
    "        texto = texto + \"\"\" \"\"\"+new.text\n",
    "    \n",
    "    return abstract(texto)\n",
    "        "
   ]
  },
  {
   "cell_type": "code",
   "execution_count": 121,
   "metadata": {},
   "outputs": [],
   "source": [
    "def eluniverso():\n",
    "    #datos = driver.find_elements_by_xpath(\"//div[@class='container']\")\n",
    "    print(\"Pagina de 'El universo'\")\n",
    "    analyzer = SentimentIntensityAnalyzer()\n",
    "    print(datos)    \n",
    "\n",
    "\n",
    "    #Para sacar titulo o encabezado de la noticia.\n",
    "    titles  = driver.find_elements_by_xpath(\"//div[@class='container py-4']//div//div//div//h1[@class='text-2xl lg:text-3xl font-bold font-primary']\")\n",
    "    for tit in titles:\n",
    "        print(\"Encabezado noticia. \",tit.text)\n",
    "        #Agregamos el titulo de la noticia\n",
    "        encabezados.append(tit.text)\n",
    "\n",
    "    #Para sacar el cuerpo o encabezado de la noticia\n",
    "    news = driver.find_elements_by_xpath(\"//div[@class='container py-4']//div//div//div\\\n",
    "        //section\")\n",
    "    texto = \"\"\"\"\"\"\n",
    "    for new in news:\n",
    "        print(\"Cuerpo de noticia. \\n\",new.text)\n",
    "        #Para mandar a analizar el texto de la noticia obtenida.\n",
    "        vs = analyzer.polarity_scores(new.text)\n",
    "        #print(\"Resultado de analisis\",vs)\n",
    "        print(\"Negativo: \", vs['neg'])\n",
    "        print(\"Neutral: \", vs['neu'])\n",
    "        print(\"Positivo: \", vs['pos'])\n",
    "        print(\"Medida otros: \", vs['compound'])\n",
    "        texto = texto + \"\"\" \"\"\"+new.text\n",
    "        \n",
    "    return abstract(texto)\n",
    "    "
   ]
  },
  {
   "cell_type": "code",
   "execution_count": 115,
   "metadata": {},
   "outputs": [],
   "source": [
    "def cnn():\n",
    "    #datos = driver.find_elements_by_xpath(\"//div[@class='container']\")\n",
    "    print(\"Pagina de 'CNN'\")\n",
    "    analyzer = SentimentIntensityAnalyzer()\n",
    "    print(datos)    \n",
    "\n",
    "\n",
    "    #Para sacar titulo o encabezado de la noticia.\n",
    "    titles  = driver.find_elements_by_xpath(\"//div[@class='bbc-1151pbn e57qer20']//h1\")\n",
    "    for tit in titles:\n",
    "        print(\"Encabezado noticia. \",tit.text)\n",
    "        #Agregamos el titulo de la noticia\n",
    "        encabezados.append(tit.text)\n",
    "\n",
    "    #Para sacar el cuerpo o encabezado de la noticia\n",
    "    news = driver.find_elements_by_xpath(\"//div[@class='e1j2237y4 bbc-1wf62vy e57qer20']\")\n",
    "    for new in news:\n",
    "        print(\"Cuerpo de noticia. \\n\",new.text)\n",
    "        #Para mandar a analizar el texto de la noticia obtenida.\n",
    "        vs = analyzer.polarity_scores(new.text)\n",
    "        #print(\"Resultado de analisis\",vs)\n",
    "        print(\"Negativo: \", vs['neg'])\n",
    "        print(\"Neutral: \", vs['neu'])\n",
    "        print(\"Positivo: \", vs['pos'])\n",
    "        print(\"Medida otros: \", vs['compound'])\n",
    "    "
   ]
  },
  {
   "cell_type": "code",
   "execution_count": 116,
   "metadata": {},
   "outputs": [],
   "source": [
    "def lahora():\n",
    "    #datos = driver.find_elements_by_xpath(\"//div[@class='container']\")\n",
    "    print(\"Pagina de 'La hora'\")\n",
    "    analyzer = SentimentIntensityAnalyzer()\n",
    "    print(datos)    \n",
    "\n",
    "\n",
    "    #Para sacar titulo o encabezado de la noticia.\n",
    "    titles  = driver.find_elements_by_xpath(\"//h1[@class='tdb-title-text']\")\n",
    "    for tit in titles:\n",
    "        print(\"Encabezado noticia. \",tit.text)\n",
    "        #Agregamos el titulo de la noticia\n",
    "        encabezados.append(tit.text)\n",
    "\n",
    "    #Para sacar el cuerpo o encabezado de la noticia\n",
    "    news = driver.find_elements_by_xpath(\"//div[@class='tdb-block-inner td-fix-index']\")\n",
    "    neg = 0\n",
    "    neu = 0\n",
    "    pos = 0\n",
    "    com = 0\n",
    "    \n",
    "    texto = \"\"\"\"\"\"\n",
    "    resumen = \"\"\" \"\"\"\n",
    "    \n",
    "    print('Cuerpo de noticia')\n",
    "    for new in news:\n",
    "        print(\"Parrafo. \\n\",new.text)\n",
    "        #Para mandar a analizar el texto de la noticia obtenida.\n",
    "        vs = analyzer.polarity_scores(new.text)\n",
    "        #print(\"Resultado de analisis\",vs)\n",
    "        neg = neg + vs['neg']\n",
    "        neu = neu + vs['neu']\n",
    "        pos = pos + vs['pos']\n",
    "        com = com + vs['compound']\n",
    "        \n",
    "        texto = texto+\"\"\" \"\"\"+new.text\n",
    "        \n",
    "    print(\"Negativo: \", neg)\n",
    "    print(\"Neutral: \", neu)\n",
    "    print(\"Positivo: \", pos)\n",
    "    print(\"Medida otros: \", com)\n",
    "    \n",
    "    #Regresa el resumen de la noticia\n",
    "    return abstract(texto)\n",
    "    "
   ]
  },
  {
   "cell_type": "markdown",
   "metadata": {},
   "source": [
    "#### Función para resumir un texto dado.\n",
    "\n",
    "Descargamos:\n",
    "\n",
    "* nltk.download('stopwords')\n",
    "  Sirver para procesar el texto de los lenguajes, pero si utilizar tokens.\n",
    "* nltk.download('punkt')\n",
    "  Sirve para superposicionar las palabras y tokens.\n"
   ]
  },
  {
   "cell_type": "code",
   "execution_count": 117,
   "metadata": {},
   "outputs": [
    {
     "name": "stderr",
     "output_type": "stream",
     "text": [
      "[nltk_data] Downloading package stopwords to\n",
      "[nltk_data]     C:\\Users\\EstAngelMesiasJadanC\\AppData\\Roaming\\nltk_dat\n",
      "[nltk_data]     a...\n",
      "[nltk_data]   Package stopwords is already up-to-date!\n",
      "[nltk_data] Downloading package punkt to\n",
      "[nltk_data]     C:\\Users\\EstAngelMesiasJadanC\\AppData\\Roaming\\nltk_dat\n",
      "[nltk_data]     a...\n",
      "[nltk_data]   Package punkt is already up-to-date!\n"
     ]
    },
    {
     "data": {
      "text/plain": [
       "True"
      ]
     },
     "execution_count": 117,
     "metadata": {},
     "output_type": "execute_result"
    }
   ],
   "source": [
    "# Importa los metodos a trabajar desde NLTK:\n",
    "\n",
    "# stopwords = palabras reservadas.\n",
    "from nltk.corpus import stopwords\n",
    "\n",
    "# word_tokenize = valorizador de palabras.\n",
    "# sent_tokenize = valorizador de oraciones.\n",
    "from nltk.tokenize import word_tokenize, sent_tokenize\n",
    "import nltk\n",
    "\n",
    "nltk.download('stopwords')\n",
    "nltk.download('punkt')"
   ]
  },
  {
   "cell_type": "code",
   "execution_count": 118,
   "metadata": {},
   "outputs": [],
   "source": [
    "\n",
    "\n",
    "#Metodo para realizar el resumen de un texto.\n",
    "def abstract(text):\n",
    "    # Se crean 2 arreglos y 1 variable:\n",
    "\n",
    "    # arreglo 1) - SW - configura el método de entrada o idioma en el que se \n",
    "    # van a trabajar las palabras en el metodo words de stopwords, en este caso, Español.\n",
    "    SW = set(stopwords.words(\"spanish\"))\n",
    "\n",
    "    # text para definir el texto a resumir.\n",
    "    text = text\n",
    "\n",
    "    # arreglo 2) - words - almacena el texto en el método word_tokenize para \n",
    "                            # previamente darle valor.\n",
    "    words = word_tokenize(text)\n",
    "    # Se crea un diccionario para crear una tabla de frecuencias de las palabras.\n",
    "    freqTable = dict()\n",
    "\n",
    "    # Con un for se recorre el texto y se almacena en la tabla.\n",
    "    for word in words:\n",
    "        word = word.lower() # setea las palabras en minúscula y las almacena en word.\n",
    "        if word in SW: \n",
    "            continue # Si la palabra se encuentra en SW, continua con el ciclo.\n",
    "        if word in freqTable: # Si la palabra ya se encuentra en la tabla frecuencia,\n",
    "            freqTable[word] += 1 # Suma 1 a la posición donde se encuentra la palabra.\n",
    "        else:\n",
    "            freqTable[word] = 1 # Sino, la palabra en la TF va a ser igual a 1.\n",
    "    # Crea una variable y un diccionario.\n",
    "\n",
    "    # Variable sentences para almacenar las oraciones a valorizar del texto.\n",
    "    sentences = sent_tokenize(text)\n",
    "\n",
    "    # Diccionario sentenceValue para almacenar los valores de las oraciones.\n",
    "    sentenceValue = dict()\n",
    "    \n",
    "    #Se crea un ciclo for para recorrer las oraciones que se encuentran en el texto.\n",
    "    for sentence in sentences:\n",
    "        # Se crea un segundo for para recorrer los items que se encuentran el la TF.\n",
    "        for word, freq in freqTable.items():\n",
    "            if word in sentence.lower(): # Si la palabra se encuentra en las oraciones (en minuscula)\n",
    "                if sentence in sentenceValue: # Y si la oración está en el diccionario de las oraciones a valorizar.\n",
    "                    sentenceValue[sentence] += freq # Entonces sume 1 al número de frecuencia en la posición de la oración del sV.\n",
    "                else:\n",
    "                    sentenceValue[sentence] = freq # Sino, que el valor de la posición de la oración sea igual a la frecuencia.\n",
    "    \n",
    "    # Se crea una variable donde se almacena la suma de los valores.\n",
    "    sumValues = 0\n",
    "\n",
    "    # Se crea un ciclo for para evaluar la oración dentro del Diccionario de las oraciones valorizadas.\n",
    "    for sentence in sentenceValue:\n",
    "        sumValues += sentenceValue[sentence] # Se suma 1 al valor de la Oración en su respectiva posición\n",
    "\n",
    "    # Valor promedio de una oración desde un texto original\n",
    "    \n",
    "    if sentenceValue ==0:\n",
    "        sentenceValue = 1\n",
    "    average = int(sumValues/ len(sentenceValue)) # Divide la suma de valores en la total de oraciones valorizad\n",
    "    \n",
    "    # Se crea una variable para almacenar el resumen a imprimir.\n",
    "    summary = ''\n",
    "\n",
    "    # Se crea un for para recorrer las oraciones almacenadas\n",
    "    for sentence in sentences:\n",
    "\n",
    "        #Donde si, la oración está las oraciones Valorizadas y la posición de la oración es mayor que 1.2 veces el promedio:\n",
    "        if (sentence in sentenceValue) and (sentenceValue[sentence] > (1.2 * average)):\n",
    "\n",
    "            # El resumen va a agregar un espacio más la oración que aprobó la condición.\n",
    "            summary += \" \" + sentence\n",
    "    \n",
    "    return summary"
   ]
  },
  {
   "cell_type": "code",
   "execution_count": 123,
   "metadata": {},
   "outputs": [
    {
     "name": "stderr",
     "output_type": "stream",
     "text": [
      "<ipython-input-123-ac6ebd4c716e>:6: DeprecationWarning: use options instead of chrome_options\n",
      "  driver = webdriver.Chrome(executable_path=CHOMEDRIVEPATH, chrome_options = chrome_options)\n"
     ]
    },
    {
     "name": "stdout",
     "output_type": "stream",
     "text": [
      "Link c:  0\n",
      "Pagina  Elcomercio.com\n",
      "[<selenium.webdriver.remote.webelement.WebElement (session=\"c7c238a97ab218d092b3f73997829ca4\", element=\"a68ddf9d-72be-4f0a-b3ba-f148d40d2ba5\")>, <selenium.webdriver.remote.webelement.WebElement (session=\"c7c238a97ab218d092b3f73997829ca4\", element=\"215b003d-6148-479e-8fb0-d0acb71ae0aa\")>, <selenium.webdriver.remote.webelement.WebElement (session=\"c7c238a97ab218d092b3f73997829ca4\", element=\"8db34829-ea32-44d5-ad15-3741da745fa2\")>, <selenium.webdriver.remote.webelement.WebElement (session=\"c7c238a97ab218d092b3f73997829ca4\", element=\"1279dbc2-1bd3-446d-a72a-f89928672ccf\")>, <selenium.webdriver.remote.webelement.WebElement (session=\"c7c238a97ab218d092b3f73997829ca4\", element=\"9d2affa0-09cf-4009-8bc1-6ae57a5a531f\")>, <selenium.webdriver.remote.webelement.WebElement (session=\"c7c238a97ab218d092b3f73997829ca4\", element=\"62398477-d1cd-4190-b303-2444bcc33f66\")>, <selenium.webdriver.remote.webelement.WebElement (session=\"c7c238a97ab218d092b3f73997829ca4\", element=\"81ae6063-5f0d-401b-809e-3c77d15a4854\")>, <selenium.webdriver.remote.webelement.WebElement (session=\"c7c238a97ab218d092b3f73997829ca4\", element=\"fe010e63-8759-4146-8856-b4ce4b957c9b\")>, <selenium.webdriver.remote.webelement.WebElement (session=\"c7c238a97ab218d092b3f73997829ca4\", element=\"4e57b427-165a-494f-bde2-6e2e31b7fd26\")>]\n",
      "Encabezado noticia.  Policías se movilizan en la cárcel de Guayaquil ante posibles detonaciones\n",
      "Cuerpo de noticia. \n",
      " Ante posibles detonaciones de arma de fuego, la Policía activó los protocolos de intervención en los pabellones 7 y 8 de la cárcel de Guayaquil.\n",
      "La idea es evitar una nueva matanza como la ocurrida la semana pasada y en febrero pasado.\n",
      "En este momento, unidades tácticas ingresan al centro carcelario para restablecer el orden.\n",
      "En imágenes difundidas por la Policía Nacional en su cuenta de Twitter este 31 de julio del 2021 se observa cómo los agentes incursionan al centro penitenciario.\n",
      "Luego de lo ocurrido estos días, el nueve director de las cárceles, Fausto Cobo, dijo que en este momento lo prioritario es recuperar el control. “El tema que estamos enfrentando no es independiente de lo que está pasando en el país con relación al crimen organizado y el narcotráfico. Esto no es un problema de hoy, de ayer o del mes pasado, esto es un tema que viene arrastrándose por muchos años y que ahora estamos pagando las consecuencias. Ahora existe la voluntad política y se deberán asignar recursos para que esta situación se revierta” dijo.\n",
      "Hasta el momento el Servicio Nacional de Atención Integral a Personas Adultas Privadas de Libertad y a Adolescentes Infractores del Ecuador (SNAI) no se ha pronunciado sobre el hecho.\n",
      "El pasado 21 de julio se registraron incidentes violentos en la Penitenciaría del Litoral y la cárcel de Cotopaxi que dejaron 27 presos muertos, según un informe de la SNAI.\n",
      "Explosivos y granadas en el motín de Cotopaxi dejaron daños en puertas, paredes, techos\n",
      "120 presos fueron trasladados desde la cárcel de Cotopaxi a otro centro carcelario\n",
      "Los exteriores de la Penitenciaría del Litoral de Guayaquil permanecen militarizados por crisis carcelaria\n",
      "Presos de la Penitenciaria de Guayaquil retuvieron a 54 mujeres al inicio de los amotinamientos\n",
      "Negativo:  0.042\n",
      "Neutral:  0.958\n",
      "Positivo:  0.0\n",
      "Medida otros:  -0.8942\n",
      "Resumen de la noticia>   El pasado 21 de julio se registraron incidentes violentos en la Penitenciaría del Litoral y la cárcel de Cotopaxi que dejaron 27 presos muertos, según un informe de la SNAI. Explosivos y granadas en el motín de Cotopaxi dejaron daños en puertas, paredes, techos\n",
      "120 presos fueron trasladados desde la cárcel de Cotopaxi a otro centro carcelario\n",
      "Los exteriores de la Penitenciaría del Litoral de Guayaquil permanecen militarizados por crisis carcelaria\n",
      "Presos de la Penitenciaria de Guayaquil retuvieron a 54 mujeres al inicio de los amotinamientos\n",
      "Link c:  1\n",
      "Pagina  Elcomercio.com\n",
      "[<selenium.webdriver.remote.webelement.WebElement (session=\"c7c238a97ab218d092b3f73997829ca4\", element=\"1d266b12-da61-44eb-b155-c36f982f9630\")>, <selenium.webdriver.remote.webelement.WebElement (session=\"c7c238a97ab218d092b3f73997829ca4\", element=\"d1f01e36-0268-4fec-b40c-297052ed3c04\")>, <selenium.webdriver.remote.webelement.WebElement (session=\"c7c238a97ab218d092b3f73997829ca4\", element=\"b88d6c35-d3e6-41cd-8c0c-25d7be55bdb1\")>, <selenium.webdriver.remote.webelement.WebElement (session=\"c7c238a97ab218d092b3f73997829ca4\", element=\"ad6a025d-68d1-4a8e-893c-1832225ec9a7\")>, <selenium.webdriver.remote.webelement.WebElement (session=\"c7c238a97ab218d092b3f73997829ca4\", element=\"c512e096-3aca-41ab-bcb7-c4aef0b24407\")>, <selenium.webdriver.remote.webelement.WebElement (session=\"c7c238a97ab218d092b3f73997829ca4\", element=\"efd3c075-8ba3-440d-99e3-ffa8e7cd82d9\")>, <selenium.webdriver.remote.webelement.WebElement (session=\"c7c238a97ab218d092b3f73997829ca4\", element=\"6580341b-4a9b-42f4-a570-f9ffc23fba49\")>, <selenium.webdriver.remote.webelement.WebElement (session=\"c7c238a97ab218d092b3f73997829ca4\", element=\"cc691dd1-ad4f-4ebf-a8b5-d03cc3315b9e\")>, <selenium.webdriver.remote.webelement.WebElement (session=\"c7c238a97ab218d092b3f73997829ca4\", element=\"41677895-015c-49a9-9b69-a5b609f81826\")>]\n",
      "Encabezado noticia.  César Monge, director de Creo y exministro de Gobierno, falleció en Guayaquil\n",
      "Cuerpo de noticia. \n",
      " La expresión mano derecha se ajusta a César Monge. Desde que Guillermo Lasso inició su camino en la búsqueda de la Presidencia del Ecuador estuvo a su lado, incluso durante la enfermedad que hoy, domingo 25 de julio del 2021, terminó con su vida.\n",
      "Homero Castanier, viceministro de Gobierno, y el Movimiento Creo confirmaron el deceso de César Monge.\n",
      "Monge tenía cáncer de páncreas. Le fue detectado en julio del 2020. Es decir, un año atrás, quien fue el director Nacional del Movimiento Creo inició una batalla ya no solo en lo político sino también por su salud.\n",
      "El cáncer marcó una pausa en su vida política. Después del diagnóstico decidió alejarse de la vida pública hasta que regresó a finales del 2020 para ser candidato nacional por Creo a la Asamblea Nacional. Estuvo al lado de Lasso durante la campaña que finalmente lo llevó a la Presidencia del Ecuador.\n",
      "En las elecciones de febrero pasado, Monge alcanzó la curul. Fue uno s los asambleístas que logró u espacio por el movimiento Creo. Sin embargo, solo estuvo en ese cargo hasta el 20 de mayo.\n",
      "Decidió renunciar para aceptar el cargo de Ministro de Gobierno en el gabinete de Lasso. Actuó en los diálogos con los transportistas y fue uno de los ministros clave en el nuevo Gobierno.\n",
      "El ocupar ese cargo le valió el ser condecorado por parte de Lasso con la Orden al Mérito Nacional en el grado de Gran Cruz. Dicha distinción se otorga a presidentes de la Asamblea Nacional, Corte Nacional de Justicia y Ministros de Estado, entre otros.\n",
      "Monge también participó en las elecciones seccionales del 2014. En esa oportunidad buscó la Prefectura de Guayas. Sin embargo, no ganó al quedar detrás de Jimmy Jairala y de César Rohon.\n",
      "Antes de su incursión en la política fue Presidente del gremio de productores y exportadores camaroneros más grande del país; presidente y director ejecutivo de la Cámara Nacional de Acuacultura; consultor en Corpei; gerente general de AceroVegetal Cia. Ltda (Grupo Corpesa) Empresa Agro Industrial y Tandilsa S. A, entre otras.\n",
      "Además, fue conductor de los programas televisivos Primera Hora, Juicio Político y Foro político de CN3 y del programa radial Qué Pasa de Radio Fuego.\n",
      "Monge estaba casado y tiene dos hijos. Según lo informó el movimiento hasta la madrugada de este 25 de julio del 2021, permaneció en compañía de su familia en Guayaquil.\n",
      "Falleció en Guayaquil a los 48 años de edad.\n",
      "César Monge se convierte en el cuarto consejero de Gobierno\n",
      "Alexandra Vela asumirá el Ministerio de Gobierno, en reemplazo de César Monge\n",
      "Negativo:  0.027\n",
      "Neutral:  0.973\n",
      "Positivo:  0.0\n",
      "Medida otros:  -0.891\n",
      "Resumen de la noticia>   Desde que Guillermo Lasso inició su camino en la búsqueda de la Presidencia del Ecuador estuvo a su lado, incluso durante la enfermedad que hoy, domingo 25 de julio del 2021, terminó con su vida. Homero Castanier, viceministro de Gobierno, y el Movimiento Creo confirmaron el deceso de César Monge. Es decir, un año atrás, quien fue el director Nacional del Movimiento Creo inició una batalla ya no solo en lo político sino también por su salud. Dicha distinción se otorga a presidentes de la Asamblea Nacional, Corte Nacional de Justicia y Ministros de Estado, entre otros. Además, fue conductor de los programas televisivos Primera Hora, Juicio Político y Foro político de CN3 y del programa radial Qué Pasa de Radio Fuego. Según lo informó el movimiento hasta la madrugada de este 25 de julio del 2021, permaneció en compañía de su familia en Guayaquil.\n",
      "Link c:  2\n",
      "Pagina  El Universo\n"
     ]
    },
    {
     "name": "stdout",
     "output_type": "stream",
     "text": [
      "Pagina de 'El universo'\n",
      "[<selenium.webdriver.remote.webelement.WebElement (session=\"0281e9e90ae3c7d992831d44851d9a4c\", element=\"ee9bbdb8-1b33-40b0-ac08-414b6faac7ab\")>, <selenium.webdriver.remote.webelement.WebElement (session=\"0281e9e90ae3c7d992831d44851d9a4c\", element=\"b3945918-0a22-4719-a13a-4a344429de13\")>, <selenium.webdriver.remote.webelement.WebElement (session=\"0281e9e90ae3c7d992831d44851d9a4c\", element=\"893332ab-672d-4937-9bd8-40a778c5bd6e\")>, <selenium.webdriver.remote.webelement.WebElement (session=\"0281e9e90ae3c7d992831d44851d9a4c\", element=\"751c6334-dcda-41d6-a30e-58c5365f99d9\")>, <selenium.webdriver.remote.webelement.WebElement (session=\"0281e9e90ae3c7d992831d44851d9a4c\", element=\"db768e9c-a7c7-4451-af4f-7cc138068585\")>, <selenium.webdriver.remote.webelement.WebElement (session=\"0281e9e90ae3c7d992831d44851d9a4c\", element=\"ce00c99e-24bd-4ab3-8237-18d4bc0e6e01\")>, <selenium.webdriver.remote.webelement.WebElement (session=\"0281e9e90ae3c7d992831d44851d9a4c\", element=\"e9e6b6e8-0d00-4baa-bc0f-51ac046da88c\")>, <selenium.webdriver.remote.webelement.WebElement (session=\"0281e9e90ae3c7d992831d44851d9a4c\", element=\"4c4cf62f-77d6-4256-994a-36fd821691c5\")>, <selenium.webdriver.remote.webelement.WebElement (session=\"0281e9e90ae3c7d992831d44851d9a4c\", element=\"394ec56a-a2ff-42c3-a93b-c6d1d045dbe0\")>, <selenium.webdriver.remote.webelement.WebElement (session=\"0281e9e90ae3c7d992831d44851d9a4c\", element=\"b4a496ba-fad9-4f9d-9090-a79f6b563527\")>]\n",
      "Encabezado noticia.  Presidente Guillermo Lasso rindió homenaje a César Monge durante ceremonia por 80 años del combate de Jambelí\n",
      "Cuerpo de noticia. \n",
      " La conmemoración de los 80 años del combate de Jambelí (25 de julio de 1941), en el que se celebra el Día Clásico de la Armada Nacional, tuvo un matiz diferente este año.\n",
      "El presidente de la República, Guillermo Lasso, inició su discurso rindiendo homenaje a su amigo y coideario César Monge Ortega, fallecido la madrugada de este domingo 25 de julio a causa de un cáncer de páncreas que lo aquejaba. En el inicio del evento hubo un minuto de silencio por el fallecimiento del político.\n",
      "“Se nos ha ido un gran amigo, hermano, compañero de luchas”, dice el presidente Guillermo Lasso tras la muerte del exministro César Monge\n",
      "Monge fue fundador del movimiento CREO y exministro de Gobierno.\n",
      "Lasso, quien en varios pasajes de su discurso al nombrar a Monge se mostró conmovido, señaló:\n",
      "“Debo comenzar este homenaje por un aniversario más de la gloriosa batalla de Jambelí rindiendo un homenaje a César Monge Ortega, fundador del movimiento CREO, asambleísta nacional, ministro de Gobierno, consejero presidencial y compañero de lucha. Hoy Dios lo recibe en su gloria, le pedimos consuelo para su familia, y le pedimos ahora al propio César que rece por nosotros”, sostuvo el primer mandatario.\n",
      "Familiares de Monge anunciaron que el sepelio del exministro de Gobierno será privado. Su velatorio será desde este domingo 25 de julio en Parques de la Paz, todo el día; y el lunes 26 de julio se oficiará la misa a las 11:00 y el sepelio a continuación.\n",
      "Negativo:  0.0\n",
      "Neutral:  0.99\n",
      "Positivo:  0.01\n",
      "Medida otros:  0.34\n",
      "Resumen de la noticia>   El presidente de la República, Guillermo Lasso, inició su discurso rindiendo homenaje a su amigo y coideario César Monge Ortega, fallecido la madrugada de este domingo 25 de julio a causa de un cáncer de páncreas que lo aquejaba. “Se nos ha ido un gran amigo, hermano, compañero de luchas”, dice el presidente Guillermo Lasso tras la muerte del exministro César Monge\n",
      "Monge fue fundador del movimiento CREO y exministro de Gobierno. Lasso, quien en varios pasajes de su discurso al nombrar a Monge se mostró conmovido, señaló:\n",
      "“Debo comenzar este homenaje por un aniversario más de la gloriosa batalla de Jambelí rindiendo un homenaje a César Monge Ortega, fundador del movimiento CREO, asambleísta nacional, ministro de Gobierno, consejero presidencial y compañero de lucha.\n",
      "Link c:  3\n",
      "Pagina  CNN en Español\n",
      "Pagina de 'CNN'\n",
      "[<selenium.webdriver.remote.webelement.WebElement (session=\"0281e9e90ae3c7d992831d44851d9a4c\", element=\"ee9bbdb8-1b33-40b0-ac08-414b6faac7ab\")>, <selenium.webdriver.remote.webelement.WebElement (session=\"0281e9e90ae3c7d992831d44851d9a4c\", element=\"b3945918-0a22-4719-a13a-4a344429de13\")>, <selenium.webdriver.remote.webelement.WebElement (session=\"0281e9e90ae3c7d992831d44851d9a4c\", element=\"893332ab-672d-4937-9bd8-40a778c5bd6e\")>, <selenium.webdriver.remote.webelement.WebElement (session=\"0281e9e90ae3c7d992831d44851d9a4c\", element=\"751c6334-dcda-41d6-a30e-58c5365f99d9\")>, <selenium.webdriver.remote.webelement.WebElement (session=\"0281e9e90ae3c7d992831d44851d9a4c\", element=\"db768e9c-a7c7-4451-af4f-7cc138068585\")>, <selenium.webdriver.remote.webelement.WebElement (session=\"0281e9e90ae3c7d992831d44851d9a4c\", element=\"ce00c99e-24bd-4ab3-8237-18d4bc0e6e01\")>, <selenium.webdriver.remote.webelement.WebElement (session=\"0281e9e90ae3c7d992831d44851d9a4c\", element=\"e9e6b6e8-0d00-4baa-bc0f-51ac046da88c\")>, <selenium.webdriver.remote.webelement.WebElement (session=\"0281e9e90ae3c7d992831d44851d9a4c\", element=\"4c4cf62f-77d6-4256-994a-36fd821691c5\")>, <selenium.webdriver.remote.webelement.WebElement (session=\"0281e9e90ae3c7d992831d44851d9a4c\", element=\"394ec56a-a2ff-42c3-a93b-c6d1d045dbe0\")>, <selenium.webdriver.remote.webelement.WebElement (session=\"0281e9e90ae3c7d992831d44851d9a4c\", element=\"b4a496ba-fad9-4f9d-9090-a79f6b563527\")>]\n",
      "Resumen de la noticia>  None\n",
      "Link c:  4\n",
      "Pagina  Elcomercio.com\n",
      "[<selenium.webdriver.remote.webelement.WebElement (session=\"c7c238a97ab218d092b3f73997829ca4\", element=\"69ced5e6-e886-40e8-8e28-69ed28352c1b\")>, <selenium.webdriver.remote.webelement.WebElement (session=\"c7c238a97ab218d092b3f73997829ca4\", element=\"f97fe813-40d8-4cab-a63c-ada496652c3a\")>, <selenium.webdriver.remote.webelement.WebElement (session=\"c7c238a97ab218d092b3f73997829ca4\", element=\"58cfaf8e-4958-483f-a100-6c05fab98f0b\")>, <selenium.webdriver.remote.webelement.WebElement (session=\"c7c238a97ab218d092b3f73997829ca4\", element=\"2eca3499-1937-4eca-88e8-05a2ee60a3d2\")>, <selenium.webdriver.remote.webelement.WebElement (session=\"c7c238a97ab218d092b3f73997829ca4\", element=\"0489c6f7-e041-4d6e-b1df-eb313fbaf9de\")>, <selenium.webdriver.remote.webelement.WebElement (session=\"c7c238a97ab218d092b3f73997829ca4\", element=\"6042dfeb-3324-4f17-813b-433ab9c4e854\")>, <selenium.webdriver.remote.webelement.WebElement (session=\"c7c238a97ab218d092b3f73997829ca4\", element=\"537a3d90-10a9-445d-88d8-704a0fc588f7\")>, <selenium.webdriver.remote.webelement.WebElement (session=\"c7c238a97ab218d092b3f73997829ca4\", element=\"a56a845d-9a6d-4644-aa21-c39e0f5d5e55\")>, <selenium.webdriver.remote.webelement.WebElement (session=\"c7c238a97ab218d092b3f73997829ca4\", element=\"b0b63d28-0a7d-44a2-a536-db8a707f0762\")>]\n",
      "Encabezado noticia.  Durante su estadía en Lima el presidente Guillermo Lasso se reunió con sus homólogos de Perú y Chile\n",
      "Cuerpo de noticia. \n",
      " El mandatario ecuatoriano, Guillermo Lasso, sostuvo reuniones con sus homólogos de Perú, Pedro Castillo; y de Chile, Sebastián Piñera, la tarde y noche del 27 de julio del 2021. El Centro de Convenciones de Lima acogió el primer diálogo entre Lasso y el flamante presidente peruano.\n",
      "“Para mí es un honor estar aquí y expresarle nuestro apoyo y respaldo. Le auguramos mucho éxito porque será el de todos los peruanos. Siempre contará conmigo a la distancia, a una llamada telefónica, cuando usted considere tratar cualquier tema de mutuo interés”. \n",
      "El Jefe de Estado ecuatoriano llamó a Castillo a trabajar de manera conjunta, ya que los dos países son miembros de la Comunidad Andina (CAN), junto a Colombia y Bolivia. El Mandatario electo de Perú, en cambio, dijo que existen compromisos por parte de ambos países para trabajar en planes que promuevan el desarrollo. \n",
      "“Agradezco infinitamente la presencia del Presidente del Ecuador. Hoy tenemos retos y desafíos que deben asumirse abriendo las fronteras”, sostuvo Castillo.\n",
      "En el encuentro también se abordaron temas como la recuperación frente a la pandemia, pesca, contaminación del río Tumbes y el deseo de instaurar prácticas inmediatas, como los gabinetes binacionales. Castillo mostró su interés de adquirir la experiencia de Ecuador en el cultivo de flores.  \n",
      "Posteriormente, Lasso se reunió con el presidente de Chile, Sebastián Piñera. Según la Secretaría General de Comunicación de la Presidencia, en la cita se habló sobre mecanismos de integración regional, estrategias para la recuperación económica frente a la pandemia y el plan de vacunación. \n",
      "“Estamos muy contentos de estar con el presidente Lasso, con quien vamos a unir fuerzas para que nuestros pueblos tengan el futuro que se merecen”, apuntó Piñera. \n",
      "Lasso, además, participó en los actos conmemorativos por el Bicentenario de la Independencia de Perú. \n",
      "Guillermo Lasso viajó para participar en cambio de mando presidencial en Perú\n",
      "El presidente saliente de Perú se despide con un llamado contra la pandemia\n",
      "Perú, entre la esperanza y la incertidumbre por la asunción de Pedro Castillo\n"
     ]
    },
    {
     "name": "stdout",
     "output_type": "stream",
     "text": [
      "Negativo:  0.0\n",
      "Neutral:  0.99\n",
      "Positivo:  0.01\n",
      "Medida otros:  0.4939\n",
      "Resumen de la noticia>    El mandatario ecuatoriano, Guillermo Lasso, sostuvo reuniones con sus homólogos de Perú, Pedro Castillo; y de Chile, Sebastián Piñera, la tarde y noche del 27 de julio del 2021. El Jefe de Estado ecuatoriano llamó a Castillo a trabajar de manera conjunta, ya que los dos países son miembros de la Comunidad Andina (CAN), junto a Colombia y Bolivia. El Mandatario electo de Perú, en cambio, dijo que existen compromisos por parte de ambos países para trabajar en planes que promuevan el desarrollo. “Estamos muy contentos de estar con el presidente Lasso, con quien vamos a unir fuerzas para que nuestros pueblos tengan el futuro que se merecen”, apuntó Piñera. Guillermo Lasso viajó para participar en cambio de mando presidencial en Perú\n",
      "El presidente saliente de Perú se despide con un llamado contra la pandemia\n",
      "Perú, entre la esperanza y la incertidumbre por la asunción de Pedro Castillo\n",
      "Link c:  5\n",
      "Pagina  El Universo\n",
      "Pagina de 'El universo'\n",
      "[<selenium.webdriver.remote.webelement.WebElement (session=\"0281e9e90ae3c7d992831d44851d9a4c\", element=\"ee9bbdb8-1b33-40b0-ac08-414b6faac7ab\")>, <selenium.webdriver.remote.webelement.WebElement (session=\"0281e9e90ae3c7d992831d44851d9a4c\", element=\"b3945918-0a22-4719-a13a-4a344429de13\")>, <selenium.webdriver.remote.webelement.WebElement (session=\"0281e9e90ae3c7d992831d44851d9a4c\", element=\"893332ab-672d-4937-9bd8-40a778c5bd6e\")>, <selenium.webdriver.remote.webelement.WebElement (session=\"0281e9e90ae3c7d992831d44851d9a4c\", element=\"751c6334-dcda-41d6-a30e-58c5365f99d9\")>, <selenium.webdriver.remote.webelement.WebElement (session=\"0281e9e90ae3c7d992831d44851d9a4c\", element=\"db768e9c-a7c7-4451-af4f-7cc138068585\")>, <selenium.webdriver.remote.webelement.WebElement (session=\"0281e9e90ae3c7d992831d44851d9a4c\", element=\"ce00c99e-24bd-4ab3-8237-18d4bc0e6e01\")>, <selenium.webdriver.remote.webelement.WebElement (session=\"0281e9e90ae3c7d992831d44851d9a4c\", element=\"e9e6b6e8-0d00-4baa-bc0f-51ac046da88c\")>, <selenium.webdriver.remote.webelement.WebElement (session=\"0281e9e90ae3c7d992831d44851d9a4c\", element=\"4c4cf62f-77d6-4256-994a-36fd821691c5\")>, <selenium.webdriver.remote.webelement.WebElement (session=\"0281e9e90ae3c7d992831d44851d9a4c\", element=\"394ec56a-a2ff-42c3-a93b-c6d1d045dbe0\")>, <selenium.webdriver.remote.webelement.WebElement (session=\"0281e9e90ae3c7d992831d44851d9a4c\", element=\"b4a496ba-fad9-4f9d-9090-a79f6b563527\")>]\n"
     ]
    },
    {
     "ename": "NoSuchWindowException",
     "evalue": "Message: no such window: target window already closed\nfrom unknown error: web view not found\n  (Session info: chrome=92.0.4515.107)\n",
     "output_type": "error",
     "traceback": [
      "\u001b[1;31m---------------------------------------------------------------------------\u001b[0m",
      "\u001b[1;31mNoSuchWindowException\u001b[0m                     Traceback (most recent call last)",
      "\u001b[1;32m<ipython-input-123-ac6ebd4c716e>\u001b[0m in \u001b[0;36m<module>\u001b[1;34m\u001b[0m\n\u001b[0;32m     31\u001b[0m     \u001b[1;32mif\u001b[0m \u001b[0mpages\u001b[0m\u001b[1;33m[\u001b[0m\u001b[0mc\u001b[0m\u001b[1;33m]\u001b[0m \u001b[1;33m==\u001b[0m \u001b[1;34m\"El Universo\"\u001b[0m\u001b[1;33m:\u001b[0m\u001b[1;33m\u001b[0m\u001b[1;33m\u001b[0m\u001b[0m\n\u001b[0;32m     32\u001b[0m         \u001b[0mdriver\u001b[0m\u001b[1;33m.\u001b[0m\u001b[0mget\u001b[0m\u001b[1;33m(\u001b[0m\u001b[0mur\u001b[0m\u001b[1;33m)\u001b[0m\u001b[1;33m\u001b[0m\u001b[1;33m\u001b[0m\u001b[0m\n\u001b[1;32m---> 33\u001b[1;33m         \u001b[0mresumen\u001b[0m \u001b[1;33m=\u001b[0m \u001b[0meluniverso\u001b[0m\u001b[1;33m(\u001b[0m\u001b[1;33m)\u001b[0m\u001b[1;33m\u001b[0m\u001b[1;33m\u001b[0m\u001b[0m\n\u001b[0m\u001b[0;32m     34\u001b[0m         \u001b[0mabstracts\u001b[0m\u001b[1;33m[\u001b[0m\u001b[1;34m\"El Universo\"\u001b[0m\u001b[1;33m+\u001b[0m\u001b[0mstr\u001b[0m\u001b[1;33m(\u001b[0m\u001b[0mc\u001b[0m\u001b[1;33m)\u001b[0m\u001b[1;33m]\u001b[0m\u001b[1;33m=\u001b[0m\u001b[0mresumen\u001b[0m\u001b[1;33m\u001b[0m\u001b[1;33m\u001b[0m\u001b[0m\n\u001b[0;32m     35\u001b[0m         \u001b[0mprint\u001b[0m\u001b[1;33m(\u001b[0m\u001b[1;34m\"Resumen de la noticia> \"\u001b[0m\u001b[1;33m,\u001b[0m\u001b[0mresumen\u001b[0m\u001b[1;33m)\u001b[0m\u001b[1;33m\u001b[0m\u001b[1;33m\u001b[0m\u001b[0m\n",
      "\u001b[1;32m<ipython-input-121-d4ca0c2200fc>\u001b[0m in \u001b[0;36meluniverso\u001b[1;34m()\u001b[0m\n\u001b[0;32m      7\u001b[0m \u001b[1;33m\u001b[0m\u001b[0m\n\u001b[0;32m      8\u001b[0m     \u001b[1;31m#Para sacar titulo o encabezado de la noticia.\u001b[0m\u001b[1;33m\u001b[0m\u001b[1;33m\u001b[0m\u001b[1;33m\u001b[0m\u001b[0m\n\u001b[1;32m----> 9\u001b[1;33m     \u001b[0mtitles\u001b[0m  \u001b[1;33m=\u001b[0m \u001b[0mdriver\u001b[0m\u001b[1;33m.\u001b[0m\u001b[0mfind_elements_by_xpath\u001b[0m\u001b[1;33m(\u001b[0m\u001b[1;34m\"//div[@class='container py-4']//div//div//div//h1[@class='text-2xl lg:text-3xl font-bold font-primary']\"\u001b[0m\u001b[1;33m)\u001b[0m\u001b[1;33m\u001b[0m\u001b[1;33m\u001b[0m\u001b[0m\n\u001b[0m\u001b[0;32m     10\u001b[0m     \u001b[1;32mfor\u001b[0m \u001b[0mtit\u001b[0m \u001b[1;32min\u001b[0m \u001b[0mtitles\u001b[0m\u001b[1;33m:\u001b[0m\u001b[1;33m\u001b[0m\u001b[1;33m\u001b[0m\u001b[0m\n\u001b[0;32m     11\u001b[0m         \u001b[0mprint\u001b[0m\u001b[1;33m(\u001b[0m\u001b[1;34m\"Encabezado noticia. \"\u001b[0m\u001b[1;33m,\u001b[0m\u001b[0mtit\u001b[0m\u001b[1;33m.\u001b[0m\u001b[0mtext\u001b[0m\u001b[1;33m)\u001b[0m\u001b[1;33m\u001b[0m\u001b[1;33m\u001b[0m\u001b[0m\n",
      "\u001b[1;32m~\\anaconda3\\lib\\site-packages\\selenium\\webdriver\\remote\\webdriver.py\u001b[0m in \u001b[0;36mfind_elements_by_xpath\u001b[1;34m(self, xpath)\u001b[0m\n\u001b[0;32m    408\u001b[0m             \u001b[0melements\u001b[0m \u001b[1;33m=\u001b[0m \u001b[0mdriver\u001b[0m\u001b[1;33m.\u001b[0m\u001b[0mfind_elements_by_xpath\u001b[0m\u001b[1;33m(\u001b[0m\u001b[1;34m\"//div[contains(@class, 'foo')]\"\u001b[0m\u001b[1;33m)\u001b[0m\u001b[1;33m\u001b[0m\u001b[1;33m\u001b[0m\u001b[0m\n\u001b[0;32m    409\u001b[0m         \"\"\"\n\u001b[1;32m--> 410\u001b[1;33m         \u001b[1;32mreturn\u001b[0m \u001b[0mself\u001b[0m\u001b[1;33m.\u001b[0m\u001b[0mfind_elements\u001b[0m\u001b[1;33m(\u001b[0m\u001b[0mby\u001b[0m\u001b[1;33m=\u001b[0m\u001b[0mBy\u001b[0m\u001b[1;33m.\u001b[0m\u001b[0mXPATH\u001b[0m\u001b[1;33m,\u001b[0m \u001b[0mvalue\u001b[0m\u001b[1;33m=\u001b[0m\u001b[0mxpath\u001b[0m\u001b[1;33m)\u001b[0m\u001b[1;33m\u001b[0m\u001b[1;33m\u001b[0m\u001b[0m\n\u001b[0m\u001b[0;32m    411\u001b[0m \u001b[1;33m\u001b[0m\u001b[0m\n\u001b[0;32m    412\u001b[0m     \u001b[1;32mdef\u001b[0m \u001b[0mfind_element_by_link_text\u001b[0m\u001b[1;33m(\u001b[0m\u001b[0mself\u001b[0m\u001b[1;33m,\u001b[0m \u001b[0mlink_text\u001b[0m\u001b[1;33m)\u001b[0m\u001b[1;33m:\u001b[0m\u001b[1;33m\u001b[0m\u001b[1;33m\u001b[0m\u001b[0m\n",
      "\u001b[1;32m~\\anaconda3\\lib\\site-packages\\selenium\\webdriver\\remote\\webdriver.py\u001b[0m in \u001b[0;36mfind_elements\u001b[1;34m(self, by, value)\u001b[0m\n\u001b[0;32m   1003\u001b[0m         \u001b[1;31m# Return empty list if driver returns null\u001b[0m\u001b[1;33m\u001b[0m\u001b[1;33m\u001b[0m\u001b[1;33m\u001b[0m\u001b[0m\n\u001b[0;32m   1004\u001b[0m         \u001b[1;31m# See https://github.com/SeleniumHQ/selenium/issues/4555\u001b[0m\u001b[1;33m\u001b[0m\u001b[1;33m\u001b[0m\u001b[1;33m\u001b[0m\u001b[0m\n\u001b[1;32m-> 1005\u001b[1;33m         return self.execute(Command.FIND_ELEMENTS, {\n\u001b[0m\u001b[0;32m   1006\u001b[0m             \u001b[1;34m'using'\u001b[0m\u001b[1;33m:\u001b[0m \u001b[0mby\u001b[0m\u001b[1;33m,\u001b[0m\u001b[1;33m\u001b[0m\u001b[1;33m\u001b[0m\u001b[0m\n\u001b[0;32m   1007\u001b[0m             'value': value})['value'] or []\n",
      "\u001b[1;32m~\\anaconda3\\lib\\site-packages\\selenium\\webdriver\\remote\\webdriver.py\u001b[0m in \u001b[0;36mexecute\u001b[1;34m(self, driver_command, params)\u001b[0m\n\u001b[0;32m    319\u001b[0m         \u001b[0mresponse\u001b[0m \u001b[1;33m=\u001b[0m \u001b[0mself\u001b[0m\u001b[1;33m.\u001b[0m\u001b[0mcommand_executor\u001b[0m\u001b[1;33m.\u001b[0m\u001b[0mexecute\u001b[0m\u001b[1;33m(\u001b[0m\u001b[0mdriver_command\u001b[0m\u001b[1;33m,\u001b[0m \u001b[0mparams\u001b[0m\u001b[1;33m)\u001b[0m\u001b[1;33m\u001b[0m\u001b[1;33m\u001b[0m\u001b[0m\n\u001b[0;32m    320\u001b[0m         \u001b[1;32mif\u001b[0m \u001b[0mresponse\u001b[0m\u001b[1;33m:\u001b[0m\u001b[1;33m\u001b[0m\u001b[1;33m\u001b[0m\u001b[0m\n\u001b[1;32m--> 321\u001b[1;33m             \u001b[0mself\u001b[0m\u001b[1;33m.\u001b[0m\u001b[0merror_handler\u001b[0m\u001b[1;33m.\u001b[0m\u001b[0mcheck_response\u001b[0m\u001b[1;33m(\u001b[0m\u001b[0mresponse\u001b[0m\u001b[1;33m)\u001b[0m\u001b[1;33m\u001b[0m\u001b[1;33m\u001b[0m\u001b[0m\n\u001b[0m\u001b[0;32m    322\u001b[0m             response['value'] = self._unwrap_value(\n\u001b[0;32m    323\u001b[0m                 response.get('value', None))\n",
      "\u001b[1;32m~\\anaconda3\\lib\\site-packages\\selenium\\webdriver\\remote\\errorhandler.py\u001b[0m in \u001b[0;36mcheck_response\u001b[1;34m(self, response)\u001b[0m\n\u001b[0;32m    240\u001b[0m                 \u001b[0malert_text\u001b[0m \u001b[1;33m=\u001b[0m \u001b[0mvalue\u001b[0m\u001b[1;33m[\u001b[0m\u001b[1;34m'alert'\u001b[0m\u001b[1;33m]\u001b[0m\u001b[1;33m.\u001b[0m\u001b[0mget\u001b[0m\u001b[1;33m(\u001b[0m\u001b[1;34m'text'\u001b[0m\u001b[1;33m)\u001b[0m\u001b[1;33m\u001b[0m\u001b[1;33m\u001b[0m\u001b[0m\n\u001b[0;32m    241\u001b[0m             \u001b[1;32mraise\u001b[0m \u001b[0mexception_class\u001b[0m\u001b[1;33m(\u001b[0m\u001b[0mmessage\u001b[0m\u001b[1;33m,\u001b[0m \u001b[0mscreen\u001b[0m\u001b[1;33m,\u001b[0m \u001b[0mstacktrace\u001b[0m\u001b[1;33m,\u001b[0m \u001b[0malert_text\u001b[0m\u001b[1;33m)\u001b[0m\u001b[1;33m\u001b[0m\u001b[1;33m\u001b[0m\u001b[0m\n\u001b[1;32m--> 242\u001b[1;33m         \u001b[1;32mraise\u001b[0m \u001b[0mexception_class\u001b[0m\u001b[1;33m(\u001b[0m\u001b[0mmessage\u001b[0m\u001b[1;33m,\u001b[0m \u001b[0mscreen\u001b[0m\u001b[1;33m,\u001b[0m \u001b[0mstacktrace\u001b[0m\u001b[1;33m)\u001b[0m\u001b[1;33m\u001b[0m\u001b[1;33m\u001b[0m\u001b[0m\n\u001b[0m\u001b[0;32m    243\u001b[0m \u001b[1;33m\u001b[0m\u001b[0m\n\u001b[0;32m    244\u001b[0m     \u001b[1;32mdef\u001b[0m \u001b[0m_value_or_default\u001b[0m\u001b[1;33m(\u001b[0m\u001b[0mself\u001b[0m\u001b[1;33m,\u001b[0m \u001b[0mobj\u001b[0m\u001b[1;33m,\u001b[0m \u001b[0mkey\u001b[0m\u001b[1;33m,\u001b[0m \u001b[0mdefault\u001b[0m\u001b[1;33m)\u001b[0m\u001b[1;33m:\u001b[0m\u001b[1;33m\u001b[0m\u001b[1;33m\u001b[0m\u001b[0m\n",
      "\u001b[1;31mNoSuchWindowException\u001b[0m: Message: no such window: target window already closed\nfrom unknown error: web view not found\n  (Session info: chrome=92.0.4515.107)\n"
     ]
    }
   ],
   "source": [
    "CHOMEDRIVEPATH = 'C:/Users/EstAngelMesiasJadanC/Documents/chromedriver_win32/chromedriver.exe'\n",
    "WINDOW_SIZE = \"1920,1080\"\n",
    "chrome_options = Options()\n",
    "chrome_options.add_argument('--window-size=%s'%WINDOW_SIZE)\n",
    "\n",
    "driver = webdriver.Chrome(executable_path=CHOMEDRIVEPATH, chrome_options = chrome_options)\n",
    "#la hora\n",
    "#ur = 'https://www.lahora.com.ec/un-pais-sin-datos/'\n",
    "#cnn\n",
    "#ur = 'https://www.bbc.com/mundo/noticias-america-latina-57897365'\n",
    "\n",
    "#El universo\n",
    "#ur ='https://www.eluniverso.com/noticias/politica/huelga-de-hambre-de-maestros-se-extendera-a-otras-provincias-en-defensa-de-reformas-a-la-loei-nota/'\n",
    "\n",
    "#El comercio\n",
    "#ur = 'https://www.elcomercio.com/actualidad/politica/cesar-monge-muerte-exministro-guayaquil.html'\n",
    "c = 0\n",
    "\n",
    "abstracts = {}\n",
    "\n",
    "for ur in links:\n",
    "    print(\"Link c: \",c)\n",
    "    print(\"Pagina \",pages[c])\n",
    "    time.sleep(5)\n",
    "    if pages[c] == \"Elcomercio.com\":\n",
    "        driver.get(ur)\n",
    "        resumen = elcomercio()\n",
    "        abstracts[\"Elcomercio.com\"+str(c)]=resumen\n",
    "        print(\"Resumen de la noticia> \",resumen)\n",
    "        \n",
    "    if pages[c] == \"El Universo\":\n",
    "        driver.get(ur)\n",
    "        resumen = eluniverso()\n",
    "        abstracts[\"El Universo\"+str(c)]=resumen\n",
    "        print(\"Resumen de la noticia> \",resumen)\n",
    "    \n",
    "    if pages[c] == \"CNN en Español\":\n",
    "        driver.get(ur)\n",
    "        resumen = cnn()\n",
    "        abstracts[\"CNN en Español\"+str(c)]=resumen\n",
    "        print(\"Resumen de la noticia> \",resumen)\n",
    "    \n",
    "    if pages[c] == \"La hora\":\n",
    "        driver.get(ur)\n",
    "        resumen = lahora()\n",
    "        abstracts[\"La hora\"+str(c)]=resumen\n",
    "        print(\"Resumen de la noticia> \",resumen)\n",
    "    c=c+1\n",
    "\n",
    "driver.close()\n"
   ]
  },
  {
   "cell_type": "markdown",
   "metadata": {},
   "source": [
    "### Nombres claves de periodicos"
   ]
  },
  {
   "cell_type": "code",
   "execution_count": 129,
   "metadata": {},
   "outputs": [
    {
     "name": "stdout",
     "output_type": "stream",
     "text": [
      "dict_keys(['Elcomercio.com0', 'Elcomercio.com1', 'El Universo2', 'CNN en Español3', 'Elcomercio.com4'])\n"
     ]
    }
   ],
   "source": [
    "print(abstracts.keys())"
   ]
  },
  {
   "cell_type": "markdown",
   "metadata": {},
   "source": [
    "### Resumenes de periodicos"
   ]
  },
  {
   "cell_type": "code",
   "execution_count": 131,
   "metadata": {},
   "outputs": [
    {
     "name": "stdout",
     "output_type": "stream",
     "text": [
      " El pasado 21 de julio se registraron incidentes violentos en la Penitenciaría del Litoral y la cárcel de Cotopaxi que dejaron 27 presos muertos, según un informe de la SNAI. Explosivos y granadas en el motín de Cotopaxi dejaron daños en puertas, paredes, techos\n",
      "120 presos fueron trasladados desde la cárcel de Cotopaxi a otro centro carcelario\n",
      "Los exteriores de la Penitenciaría del Litoral de Guayaquil permanecen militarizados por crisis carcelaria\n",
      "Presos de la Penitenciaria de Guayaquil retuvieron a 54 mujeres al inicio de los amotinamientos\n"
     ]
    }
   ],
   "source": [
    "print(abstracts[\"Elcomercio.com0\"])"
   ]
  },
  {
   "cell_type": "code",
   "execution_count": 132,
   "metadata": {},
   "outputs": [
    {
     "name": "stdout",
     "output_type": "stream",
     "text": [
      " Desde que Guillermo Lasso inició su camino en la búsqueda de la Presidencia del Ecuador estuvo a su lado, incluso durante la enfermedad que hoy, domingo 25 de julio del 2021, terminó con su vida. Homero Castanier, viceministro de Gobierno, y el Movimiento Creo confirmaron el deceso de César Monge. Es decir, un año atrás, quien fue el director Nacional del Movimiento Creo inició una batalla ya no solo en lo político sino también por su salud. Dicha distinción se otorga a presidentes de la Asamblea Nacional, Corte Nacional de Justicia y Ministros de Estado, entre otros. Además, fue conductor de los programas televisivos Primera Hora, Juicio Político y Foro político de CN3 y del programa radial Qué Pasa de Radio Fuego. Según lo informó el movimiento hasta la madrugada de este 25 de julio del 2021, permaneció en compañía de su familia en Guayaquil.\n"
     ]
    }
   ],
   "source": [
    "print(abstracts[\"Elcomercio.com1\"])"
   ]
  },
  {
   "cell_type": "code",
   "execution_count": 134,
   "metadata": {},
   "outputs": [
    {
     "name": "stdout",
     "output_type": "stream",
     "text": [
      " El presidente de la República, Guillermo Lasso, inició su discurso rindiendo homenaje a su amigo y coideario César Monge Ortega, fallecido la madrugada de este domingo 25 de julio a causa de un cáncer de páncreas que lo aquejaba. “Se nos ha ido un gran amigo, hermano, compañero de luchas”, dice el presidente Guillermo Lasso tras la muerte del exministro César Monge\n",
      "Monge fue fundador del movimiento CREO y exministro de Gobierno. Lasso, quien en varios pasajes de su discurso al nombrar a Monge se mostró conmovido, señaló:\n",
      "“Debo comenzar este homenaje por un aniversario más de la gloriosa batalla de Jambelí rindiendo un homenaje a César Monge Ortega, fundador del movimiento CREO, asambleísta nacional, ministro de Gobierno, consejero presidencial y compañero de lucha.\n"
     ]
    }
   ],
   "source": [
    "print(abstracts[\"El Universo2\"])"
   ]
  },
  {
   "cell_type": "code",
   "execution_count": 136,
   "metadata": {},
   "outputs": [
    {
     "name": "stdout",
     "output_type": "stream",
     "text": [
      "None\n"
     ]
    }
   ],
   "source": [
    "print(abstracts[\"CNN en Español3\"])"
   ]
  },
  {
   "cell_type": "code",
   "execution_count": 138,
   "metadata": {},
   "outputs": [
    {
     "name": "stdout",
     "output_type": "stream",
     "text": [
      "  El mandatario ecuatoriano, Guillermo Lasso, sostuvo reuniones con sus homólogos de Perú, Pedro Castillo; y de Chile, Sebastián Piñera, la tarde y noche del 27 de julio del 2021. El Jefe de Estado ecuatoriano llamó a Castillo a trabajar de manera conjunta, ya que los dos países son miembros de la Comunidad Andina (CAN), junto a Colombia y Bolivia. El Mandatario electo de Perú, en cambio, dijo que existen compromisos por parte de ambos países para trabajar en planes que promuevan el desarrollo. “Estamos muy contentos de estar con el presidente Lasso, con quien vamos a unir fuerzas para que nuestros pueblos tengan el futuro que se merecen”, apuntó Piñera. Guillermo Lasso viajó para participar en cambio de mando presidencial en Perú\n",
      "El presidente saliente de Perú se despide con un llamado contra la pandemia\n",
      "Perú, entre la esperanza y la incertidumbre por la asunción de Pedro Castillo\n"
     ]
    }
   ],
   "source": [
    "print(abstracts[\"Elcomercio.com4\"])"
   ]
  },
  {
   "cell_type": "code",
   "execution_count": 128,
   "metadata": {},
   "outputs": [
    {
     "name": "stderr",
     "output_type": "stream",
     "text": [
      "<ipython-input-128-9b08e80be370>:6: DeprecationWarning: use options instead of chrome_options\n",
      "  driver = webdriver.Chrome(executable_path=CHOMEDRIVEPATH, chrome_options = chrome_options)\n"
     ]
    }
   ],
   "source": [
    "CHOMEDRIVEPATH = 'C:/Users/EstAngelMesiasJadanC/Documents/chromedriver_win32/chromedriver.exe'\n",
    "WINDOW_SIZE = \"1920,1080\"\n",
    "chrome_options = Options()\n",
    "chrome_options.add_argument('--window-size=%s'%WINDOW_SIZE)\n",
    "\n",
    "driver = webdriver.Chrome(executable_path=CHOMEDRIVEPATH, chrome_options = chrome_options)\n",
    "\n",
    "driver.get(\"https://sites.google.com/d/1DN4cEuQOZwoK7-iNDnOVwYFuaLiEYz70/p/14W1GI_sLIma3IVLtBY-lm0kEvYAmkK9k/edit\")\n",
    "element = driver.find_element_by_name(\"identifier\")\n",
    "element.send_keys(\"angel.jadan12@gmail.com\")\n",
    "driver.find_element_by_tag_name('body').send_keys(Keys.TAB*3, Keys.ENTER)"
   ]
  },
  {
   "cell_type": "code",
   "execution_count": 139,
   "metadata": {},
   "outputs": [
    {
     "name": "stderr",
     "output_type": "stream",
     "text": [
      "<ipython-input-139-84e389ea08a9>:6: DeprecationWarning: use options instead of chrome_options\n",
      "  driver = webdriver.Chrome(executable_path=CHOMEDRIVEPATH, chrome_options = chrome_options)\n"
     ]
    },
    {
     "name": "stdout",
     "output_type": "stream",
     "text": [
      "results\n",
      "https://www.onlinetutorialspoint.com/spring/spring-mvc-login-form-example.html\n",
      "https://dzone.com/articles/spring-mvc-example-for-user-registration-and-login-1\n",
      "https://www.roseindia.net/spring/spring-mvc-login-example.shtml\n",
      "https://www.baeldung.com/spring-security-login\n",
      "https://www.w3spoint.com/login-spring-mvc\n",
      "https://examples.javacodegeeks.com/enterprise-java/spring/mvc/spring-mvc-login-example/\n",
      "https://o7planning.org/10305/simple-login-java-web-application-using-spring-mvc-spring-security-and-spring-jdbc\n",
      "https://www.dev2qa.com/spring-mvc-login-example/\n"
     ]
    }
   ],
   "source": [
    "CHOMEDRIVEPATH = 'C:/Users/EstAngelMesiasJadanC/Documents/chromedriver_win32/chromedriver.exe'\n",
    "WINDOW_SIZE = \"1920,1080\"\n",
    "chrome_options = Options()\n",
    "chrome_options.add_argument('--window-size=%s'%WINDOW_SIZE)\n",
    "\n",
    "driver = webdriver.Chrome(executable_path=CHOMEDRIVEPATH, chrome_options = chrome_options)\n",
    "\n",
    "driver.get(\"http://www.google.com\")\n",
    "element = driver.find_element_by_name(\"q\");\n",
    "element.send_keys(\"Spring MVC Login form Example\");\n",
    "element.submit();\n",
    "\n",
    "results = driver.find_elements_by_xpath(\"//div[@class='g']//div//div//div[@class='yuRUbf']//a[not(@class)]\");\n",
    "print(\"results\")\n",
    "for result in results:\n",
    "    print(result.get_attribute(\"href\"))\n",
    "    \n",
    "driver.close()"
   ]
  },
  {
   "cell_type": "code",
   "execution_count": null,
   "metadata": {},
   "outputs": [],
   "source": []
  }
 ],
 "metadata": {
  "kernelspec": {
   "display_name": "Python 3",
   "language": "python",
   "name": "python3"
  },
  "language_info": {
   "codemirror_mode": {
    "name": "ipython",
    "version": 3
   },
   "file_extension": ".py",
   "mimetype": "text/x-python",
   "name": "python",
   "nbconvert_exporter": "python",
   "pygments_lexer": "ipython3",
   "version": "3.8.3"
  }
 },
 "nbformat": 4,
 "nbformat_minor": 4
}
