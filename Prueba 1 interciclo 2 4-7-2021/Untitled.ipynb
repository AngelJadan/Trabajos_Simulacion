{
 "cells": [
  {
   "cell_type": "code",
   "execution_count": 50,
   "metadata": {},
   "outputs": [],
   "source": [
    "import random\n",
    "import simpy\n",
    "import random\n",
    "import collections"
   ]
  },
  {
   "cell_type": "code",
   "execution_count": 68,
   "metadata": {},
   "outputs": [
    {
     "name": "stdout",
     "output_type": "stream",
     "text": [
      "Escuela básica o bachillerato LA 'ASUNCIÓN' \n",
      "     Númeo de estudiantes\n",
      "*****Hombres: 1004\n",
      "*****Mujeres: 1691\n",
      "     Total: 2695\n",
      "Profesores:  145\n",
      "Profesores vacunados:  130\n",
      "Profesores no vacunados: 15\n",
      "Estudiantes:  2695\n",
      "% de estudiantes que no asisten:  7 %\n",
      "N° Estudiantes que no asisten:  188\n",
      "Estudiantes que asisten:  2507\n",
      "total:  2637\n",
      "Cursos:  ['curso 1', 'curso 2', 'curso 3', 'curso 4', 'curso 5', 'curso 6']\n"
     ]
    }
   ],
   "source": [
    "print(\"Escuela básica o bachillerato LA 'ASUNCIÓN' \")\n",
    "print(\"     Númeo de estudiantes\")\n",
    "print(\"*****Hombres: 1004\")\n",
    "print(\"*****Mujeres: 1691\")\n",
    "print(\"     Total: 2695\")\n",
    "\n",
    "PROFESORES = 145\n",
    "P_PROF_VACUNADOS = int(PROFESORES*0.9)\n",
    "VACUNADOS_PROF = PROFESORES - P_PROF_VACUNADOS\n",
    "print(\"Profesores: \",PROFESORES)\n",
    "print(\"Profesores vacunados: \",P_PROF_VACUNADOS)\n",
    "print(\"Profesores no vacunados:\",VACUNADOS_PROF)\n",
    "ESTUDIANTES = 2695\n",
    "print(\"Estudiantes: \",ESTUDIANTES)\n",
    "P_ESTUDIANTES_NO = random.randint(5,10)\n",
    "print(\"% de estudiantes que no asisten: \",P_ESTUDIANTES_NO,\"%\")\n",
    "ESTUDIANTES_NO_ASISTEN = int(ESTUDIANTES * P_ESTUDIANTES_NO /100)\n",
    "print(\"N° Estudiantes que no asisten: \",ESTUDIANTES_NO_ASISTEN)\n",
    "ESTUDIANTES_ASISTEN = ESTUDIANTES-ESTUDIANTES_NO_ASISTEN\n",
    "print(\"Estudiantes que asisten: \",ESTUDIANTES_ASISTEN)\n",
    "\n",
    "TOTAL = P_PROF_VACUNADOS + ESTUDIANTES_ASISTEN\n",
    "print(\"total: \",TOTAL)\n",
    "\n",
    "cursos = ['curso 1','curso 2','curso 3','curso 4','curso 5','curso 6']\n",
    "print(\"Cursos: \",cursos)\n",
    "\n",
    "#Para el numero de contagiados al final del \n",
    "contagiados = []"
   ]
  },
  {
   "cell_type": "code",
   "execution_count": 52,
   "metadata": {},
   "outputs": [],
   "source": [
    "def p_prueba(env, curso):\n",
    "    print(\"inicia periodo de prueba\")"
   ]
  },
  {
   "cell_type": "code",
   "execution_count": 87,
   "metadata": {},
   "outputs": [],
   "source": [
    "def uso_aula(env,estudiantes,aula,curso):\n",
    "    with curso.contador.request() as uso:\n",
    "        res = yield uso | curso.prueba[aula]\n",
    "        print(res)\n",
    "        return\n",
    "        \n",
    "def clases(env, curso):\n",
    "    print(\"Clases\")\n",
    "    while True:\n",
    "        yield env.timeout(random.expovariate(1/0.5))\n",
    "        \n",
    "        for i in range(len(curso.cursos)):\n",
    "            aula = curso.cursos[i]\n",
    "            print(\"aula\",aula)\n",
    "            env.process(uso_aula(env, estudiantes,aula,curso))"
   ]
  },
  {
   "cell_type": "code",
   "execution_count": 88,
   "metadata": {},
   "outputs": [
    {
     "name": "stdout",
     "output_type": "stream",
     "text": [
      "Institucion educativa\n",
      "cur:  Curso 2\n",
      "capacidad:  {'Curso 1': 442, 'Curso 2': 442, 'Curso 3': 442, 'Curso 4': 442, 'Curso 5': 442, 'Curso 6': 442}\n",
      "prueba:  {'Curso 1': <Event() object at 0x175fd5c8cd0>, 'Curso 2': <Event() object at 0x175fd5c8a90>, 'Curso 3': <Event() object at 0x175fd5a2790>, 'Curso 4': <Event() object at 0x175fd5a28b0>, 'Curso 5': <Event() object at 0x175fd5a2160>, 'Curso 6': <Event() object at 0x175fd5c51f0>}\n",
      "t_curso_llenado:  {'Curso 1': None, 'Curso 2': None, 'Curso 3': None, 'Curso 4': None, 'Curso 5': None, 'Curso 6': None}\n",
      "generados:  {'Curso 1': 0, 'Curso 2': 0, 'Curso 3': 0, 'Curso 4': 0, 'Curso 5': 0, 'Curso 6': 0}\n",
      "Clases\n",
      "aula Curso 1\n"
     ]
    },
    {
     "ename": "NameError",
     "evalue": "name 'estudiantes' is not defined",
     "output_type": "error",
     "traceback": [
      "\u001b[1;31m---------------------------------------------------------------------------\u001b[0m",
      "\u001b[1;31mNameError\u001b[0m                                 Traceback (most recent call last)",
      "\u001b[1;32m<ipython-input-87-bce25cf055b5>\u001b[0m in \u001b[0;36mclases\u001b[1;34m(env, curso)\u001b[0m\n\u001b[0;32m     14\u001b[0m             \u001b[0mprint\u001b[0m\u001b[1;33m(\u001b[0m\u001b[1;34m\"aula\"\u001b[0m\u001b[1;33m,\u001b[0m\u001b[0maula\u001b[0m\u001b[1;33m)\u001b[0m\u001b[1;33m\u001b[0m\u001b[1;33m\u001b[0m\u001b[0m\n\u001b[1;32m---> 15\u001b[1;33m             \u001b[0menv\u001b[0m\u001b[1;33m.\u001b[0m\u001b[0mprocess\u001b[0m\u001b[1;33m(\u001b[0m\u001b[0muso_aula\u001b[0m\u001b[1;33m(\u001b[0m\u001b[0menv\u001b[0m\u001b[1;33m,\u001b[0m \u001b[0mestudiantes\u001b[0m\u001b[1;33m,\u001b[0m\u001b[0maula\u001b[0m\u001b[1;33m,\u001b[0m\u001b[0mcurso\u001b[0m\u001b[1;33m)\u001b[0m\u001b[1;33m)\u001b[0m\u001b[1;33m\u001b[0m\u001b[1;33m\u001b[0m\u001b[0m\n\u001b[0m",
      "\u001b[1;31mNameError\u001b[0m: name 'estudiantes' is not defined",
      "\nThe above exception was the direct cause of the following exception:\n",
      "\u001b[1;31mNameError\u001b[0m                                 Traceback (most recent call last)",
      "\u001b[1;32m<ipython-input-88-6ad96772f169>\u001b[0m in \u001b[0;36m<module>\u001b[1;34m\u001b[0m\n\u001b[0;32m     19\u001b[0m \u001b[0mcurs\u001b[0m \u001b[1;33m=\u001b[0m \u001b[0mCurso\u001b[0m\u001b[1;33m(\u001b[0m\u001b[0mcontador\u001b[0m\u001b[1;33m,\u001b[0m \u001b[0mcursos\u001b[0m\u001b[1;33m,\u001b[0m \u001b[0mcapacidad\u001b[0m\u001b[1;33m,\u001b[0m \u001b[0mprueba\u001b[0m\u001b[1;33m,\u001b[0m\u001b[0mt_curso_lleno\u001b[0m\u001b[1;33m,\u001b[0m\u001b[0mgenerados\u001b[0m\u001b[1;33m)\u001b[0m\u001b[1;33m\u001b[0m\u001b[1;33m\u001b[0m\u001b[0m\n\u001b[0;32m     20\u001b[0m \u001b[0menv\u001b[0m\u001b[1;33m.\u001b[0m\u001b[0mprocess\u001b[0m\u001b[1;33m(\u001b[0m\u001b[0mclases\u001b[0m\u001b[1;33m(\u001b[0m\u001b[0menv\u001b[0m\u001b[1;33m,\u001b[0m\u001b[0mcurs\u001b[0m\u001b[1;33m)\u001b[0m\u001b[1;33m)\u001b[0m\u001b[1;33m\u001b[0m\u001b[1;33m\u001b[0m\u001b[0m\n\u001b[1;32m---> 21\u001b[1;33m \u001b[0menv\u001b[0m\u001b[1;33m.\u001b[0m\u001b[0mrun\u001b[0m\u001b[1;33m(\u001b[0m\u001b[0muntil\u001b[0m\u001b[1;33m=\u001b[0m\u001b[1;36m20\u001b[0m\u001b[1;33m)\u001b[0m\u001b[1;33m\u001b[0m\u001b[1;33m\u001b[0m\u001b[0m\n\u001b[0m",
      "\u001b[1;32m~\\anaconda3\\lib\\site-packages\\simpy\\core.py\u001b[0m in \u001b[0;36mrun\u001b[1;34m(self, until)\u001b[0m\n\u001b[0;32m    252\u001b[0m         \u001b[1;32mtry\u001b[0m\u001b[1;33m:\u001b[0m\u001b[1;33m\u001b[0m\u001b[1;33m\u001b[0m\u001b[0m\n\u001b[0;32m    253\u001b[0m             \u001b[1;32mwhile\u001b[0m \u001b[1;32mTrue\u001b[0m\u001b[1;33m:\u001b[0m\u001b[1;33m\u001b[0m\u001b[1;33m\u001b[0m\u001b[0m\n\u001b[1;32m--> 254\u001b[1;33m                 \u001b[0mself\u001b[0m\u001b[1;33m.\u001b[0m\u001b[0mstep\u001b[0m\u001b[1;33m(\u001b[0m\u001b[1;33m)\u001b[0m\u001b[1;33m\u001b[0m\u001b[1;33m\u001b[0m\u001b[0m\n\u001b[0m\u001b[0;32m    255\u001b[0m         \u001b[1;32mexcept\u001b[0m \u001b[0mStopSimulation\u001b[0m \u001b[1;32mas\u001b[0m \u001b[0mexc\u001b[0m\u001b[1;33m:\u001b[0m\u001b[1;33m\u001b[0m\u001b[1;33m\u001b[0m\u001b[0m\n\u001b[0;32m    256\u001b[0m             \u001b[1;32mreturn\u001b[0m \u001b[0mexc\u001b[0m\u001b[1;33m.\u001b[0m\u001b[0margs\u001b[0m\u001b[1;33m[\u001b[0m\u001b[1;36m0\u001b[0m\u001b[1;33m]\u001b[0m  \u001b[1;31m# == until.value\u001b[0m\u001b[1;33m\u001b[0m\u001b[1;33m\u001b[0m\u001b[0m\n",
      "\u001b[1;32m~\\anaconda3\\lib\\site-packages\\simpy\\core.py\u001b[0m in \u001b[0;36mstep\u001b[1;34m(self)\u001b[0m\n\u001b[0;32m    204\u001b[0m             \u001b[0mexc\u001b[0m \u001b[1;33m=\u001b[0m \u001b[0mtype\u001b[0m\u001b[1;33m(\u001b[0m\u001b[0mevent\u001b[0m\u001b[1;33m.\u001b[0m\u001b[0m_value\u001b[0m\u001b[1;33m)\u001b[0m\u001b[1;33m(\u001b[0m\u001b[1;33m*\u001b[0m\u001b[0mevent\u001b[0m\u001b[1;33m.\u001b[0m\u001b[0m_value\u001b[0m\u001b[1;33m.\u001b[0m\u001b[0margs\u001b[0m\u001b[1;33m)\u001b[0m\u001b[1;33m\u001b[0m\u001b[1;33m\u001b[0m\u001b[0m\n\u001b[0;32m    205\u001b[0m             \u001b[0mexc\u001b[0m\u001b[1;33m.\u001b[0m\u001b[0m__cause__\u001b[0m \u001b[1;33m=\u001b[0m \u001b[0mevent\u001b[0m\u001b[1;33m.\u001b[0m\u001b[0m_value\u001b[0m\u001b[1;33m\u001b[0m\u001b[1;33m\u001b[0m\u001b[0m\n\u001b[1;32m--> 206\u001b[1;33m             \u001b[1;32mraise\u001b[0m \u001b[0mexc\u001b[0m\u001b[1;33m\u001b[0m\u001b[1;33m\u001b[0m\u001b[0m\n\u001b[0m\u001b[0;32m    207\u001b[0m \u001b[1;33m\u001b[0m\u001b[0m\n\u001b[0;32m    208\u001b[0m     def run(\n",
      "\u001b[1;31mNameError\u001b[0m: name 'estudiantes' is not defined"
     ]
    }
   ],
   "source": [
    "Curso = collections.namedtuple('Curso','contador,cursos,capacidad,prueba,t_curso_lleno,generados')\n",
    "print(\"Institucion educativa\")\n",
    "\n",
    "env = simpy.Environment()\n",
    "\n",
    "contador = simpy.Resource(env, capacity=1)\n",
    "cursos = [\"Curso 1\",\"Curso 2\",\"Curso 3\",\"Curso 4\",\"Curso 5\",\"Curso 6\"]\n",
    "capacidad = {curso: int(((TOTAL)/len(cursos))+3) for curso in cursos}\n",
    "prueba = {curso:env.event() for curso in cursos}\n",
    "t_curso_lleno = {curso: None for curso in cursos}\n",
    "generados = {curso: 0 for curso in cursos}\n",
    "\n",
    "print(\"cur: \",cursos[1])\n",
    "print(\"capacidad: \",capacidad)\n",
    "print(\"prueba: \",prueba)\n",
    "print(\"t_curso_llenado: \", t_curso_lleno)\n",
    "print(\"generados: \",generados)\n",
    "\n",
    "curs = Curso(contador, cursos, capacidad, prueba,t_curso_lleno,generados)\n",
    "env.process(clases(env,curs))\n",
    "env.run(until=20)"
   ]
  },
  {
   "cell_type": "code",
   "execution_count": null,
   "metadata": {},
   "outputs": [],
   "source": []
  }
 ],
 "metadata": {
  "kernelspec": {
   "display_name": "Python 3",
   "language": "python",
   "name": "python3"
  },
  "language_info": {
   "codemirror_mode": {
    "name": "ipython",
    "version": 3
   },
   "file_extension": ".py",
   "mimetype": "text/x-python",
   "name": "python",
   "nbconvert_exporter": "python",
   "pygments_lexer": "ipython3",
   "version": "3.8.3"
  }
 },
 "nbformat": 4,
 "nbformat_minor": 4
}
