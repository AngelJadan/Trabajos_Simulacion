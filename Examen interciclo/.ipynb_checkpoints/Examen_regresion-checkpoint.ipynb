{
 "cells": [
  {
   "cell_type": "markdown",
   "metadata": {},
   "source": [
    "<center><h2>Universidad Pólitecnica Salesiana</h2></center>\n",
    "<center><h6>Angel Jadan</h6></center>\n",
    "<center><h6>Simulación</h6></center>\n",
    "<center><h5>Tema:</h5><h6>Predicción de tendencia de twiter, con python</h6></center>"
   ]
  },
  {
   "cell_type": "code",
   "execution_count": 1,
   "metadata": {},
   "outputs": [],
   "source": [
    "import tweepy\n",
    "import json, csv, sys\n",
    "import numpy as np\n",
    "from sklearn.metrics import mean_squared_error\n",
    "from scipy.optimize import curve_fit\n",
    "from scipy.optimize import fsolve\n",
    "from sklearn import linear_model\n",
    "import matplotlib.pyplot as plt\n",
    "%matplotlib inline\n",
    "\n",
    "consumer_key = \"rF0agXMR0fUu58HGg75OZGeRQ\"\n",
    "consumer_secret = \"VpduZzn2ZufMjGrPhKQhzOnpzrfw47LdJjuk7IG9nbubTNuTkL\"\n",
    "access_token = \"309077981-FEp6yFVY9uTimDwCYxcoLamgCuQ7bFTapYk7lLne\"\n",
    "access_token_secret = \"tVacsM1EndkpyKy9gDnkskxtK2s3PKH6sCRi4XH7qmAeZ\"\n",
    "\n",
    "auth = tweepy.OAuthHandler(consumer_key, consumer_secret)\n",
    "\n",
    "auth.set_access_token(access_token, access_token_secret)\n",
    "\n",
    "api = tweepy.API(auth, wait_on_rate_limit=True, wait_on_rate_limit_notify=True)\n",
    "\n",
    "#Obtner datos de mi usuario\n",
    "#data = api.me()\n",
    "\n",
    "#print(json.dumps(data._json, indent=2))"
   ]
  },
  {
   "cell_type": "code",
   "execution_count": 2,
   "metadata": {},
   "outputs": [
    {
     "data": {
      "text/plain": [
       "'data = api.get_user(\"@LassoGuillermo\")\\n#print(json.dumps(data._json, indent=3))\\nitem = json.loads(json.dumps(data._json, indent=3))\\nprint(item)\\nfor i in item:\\n    print(i)\\nprint(\"**********\")\\nstatus = item[\"status\"]\\nretweets = status[\"retweet_count\"]\\nlikes = status[\"favorite_count\"]\\n\\nprint(\"Retweets \",retweets)\\nprint(\"Likes \",likes)'"
      ]
     },
     "execution_count": 2,
     "metadata": {},
     "output_type": "execute_result"
    }
   ],
   "source": [
    "\"\"\"data = api.get_user(\"@LassoGuillermo\")\n",
    "#print(json.dumps(data._json, indent=3))\n",
    "item = json.loads(json.dumps(data._json, indent=3))\n",
    "print(item)\n",
    "for i in item:\n",
    "    print(i)\n",
    "print(\"**********\")\n",
    "status = item[\"status\"]\n",
    "retweets = status[\"retweet_count\"]\n",
    "likes = status[\"favorite_count\"]\n",
    "\n",
    "print(\"Retweets \",retweets)\n",
    "print(\"Likes \",likes)\"\"\""
   ]
  },
  {
   "cell_type": "code",
   "execution_count": 4,
   "metadata": {
    "scrolled": false
   },
   "outputs": [
    {
     "name": "stdout",
     "output_type": "stream",
     "text": [
      "ids [1, 2, 3, 4, 5, 6, 7, 8, 9, 10, 11, 12, 13, 14, 15, 16, 17, 18, 19, 20, 21, 22, 23, 24, 25, 26, 27, 28, 29, 30, 31, 32, 33, 34, 35, 36, 37, 38, 39, 40, 41, 42, 43, 44, 45, 46, 47, 48, 49, 50, 51, 52, 53, 54, 55, 56, 57, 58, 59, 60, 61, 62, 63, 64, 65, 66, 67, 68, 69, 70, 71, 72, 73, 74, 75, 76, 77, 78, 79, 80, 81, 82, 83, 84, 85, 86, 87, 88, 89, 90, 91, 92, 93, 94, 95, 96, 97, 98, 99, 100, 101, 102, 103, 104, 105, 106, 107, 108, 109, 110, 111, 112, 113, 114, 115, 116, 117, 118, 119, 120, 121, 122, 123, 124, 125, 126, 127, 128, 129, 130, 131, 132, 133, 134, 135, 136, 137, 138, 139, 140, 141, 142, 143, 144, 145, 146, 147, 148, 149, 150, 151, 152, 153, 154, 155, 156, 157, 158, 159, 160, 161, 162, 163, 164, 165, 166, 167, 168, 169, 170, 171, 172, 173, 174, 175, 176, 177, 178, 179, 180, 181, 182, 183, 184, 185, 186, 187, 188, 189, 190, 191, 192, 193, 194, 195, 196, 197, 198, 199, 200, 201, 202, 203, 204, 205, 206, 207, 208, 209, 210, 211, 212, 213, 214, 215, 216, 217, 218, 219, 220, 221, 222, 223, 224, 225, 226, 227, 228, 229, 230, 231, 232, 233, 234, 235, 236, 237, 238, 239, 240, 241, 242, 243, 244, 245, 246, 247, 248, 249, 250, 251, 252, 253, 254, 255, 256, 257, 258, 259, 260, 261, 262, 263, 264, 265, 266, 267, 268, 269, 270, 271, 272, 273, 274, 275, 276, 277, 278, 279, 280, 281, 282, 283, 284, 285, 286, 287, 288, 289, 290, 291, 292, 293, 294, 295, 296, 297, 298, 299, 300, 301, 302, 303, 304, 305, 306, 307, 308, 309, 310, 311, 312, 313, 314, 315, 316, 317, 318, 319, 320, 321, 322, 323, 324, 325, 326, 327, 328, 329, 330, 331, 332, 333, 334, 335, 336, 337, 338, 339, 340, 341, 342, 343, 344, 345, 346, 347, 348, 349, 350, 351, 352, 353, 354, 355, 356, 357, 358, 359, 360, 361, 362, 363, 364, 365, 366, 367, 368, 369, 370, 371, 372, 373, 374, 375, 376, 377, 378, 379, 380, 381, 382, 383, 384, 385, 386, 387, 388, 389, 390, 391, 392, 393, 394, 395, 396, 397, 398, 399, 400, 401, 402, 403, 404, 405, 406, 407, 408, 409, 410, 411, 412, 413, 414, 415, 416, 417, 418, 419, 420, 421, 422, 423, 424, 425, 426, 427, 428, 429, 430, 431, 432, 433, 434, 435, 436, 437, 438, 439, 440, 441, 442, 443, 444, 445, 446, 447, 448, 449, 450, 451, 452, 453, 454, 455, 456, 457, 458, 459, 460, 461, 462, 463, 464, 465, 466, 467, 468, 469, 470, 471, 472, 473, 474, 475, 476, 477, 478, 479, 480, 481, 482, 483, 484, 485, 486, 487, 488, 489, 490, 491, 492, 493, 494, 495, 496, 497, 498, 499, 500, 501, 502, 503, 504, 505, 506, 507, 508, 509, 510, 511, 512, 513, 514, 515, 516, 517, 518, 519, 520, 521, 522, 523, 524, 525, 526, 527, 528, 529, 530, 531, 532, 533, 534, 535, 536, 537, 538, 539, 540, 541, 542, 543, 544, 545, 546, 547, 548, 549, 550, 551, 552, 553, 554, 555, 556, 557, 558, 559, 560, 561, 562, 563, 564, 565, 566, 567, 568, 569, 570, 571, 572, 573, 574, 575, 576, 577, 578, 579, 580, 581, 582, 583, 584, 585, 586, 587, 588, 589, 590, 591, 592, 593, 594, 595, 596, 597, 598, 599, 600, 601, 602, 603, 604, 605, 606, 607, 608, 609, 610, 611, 612, 613, 614, 615, 616, 617, 618, 619, 620, 621, 622, 623, 624, 625, 626, 627, 628, 629, 630, 631, 632, 633, 634, 635, 636, 637, 638, 639, 640, 641, 642, 643, 644, 645, 646, 647, 648, 649, 650, 651, 652, 653, 654, 655, 656, 657, 658, 659, 660, 661, 662, 663, 664, 665, 666, 667, 668, 669, 670, 671, 672, 673, 674, 675, 676, 677, 678, 679, 680, 681, 682, 683, 684, 685, 686, 687, 688, 689, 690, 691, 692, 693, 694, 695, 696, 697, 698, 699, 700, 701, 702, 703, 704, 705, 706, 707, 708, 709, 710, 711, 712, 713, 714, 715, 716, 717, 718, 719, 720, 721, 722, 723, 724, 725, 726, 727, 728, 729, 730, 731, 732, 733, 734, 735, 736, 737, 738, 739, 740, 741, 742, 743, 744, 745, 746, 747, 748, 749, 750, 751, 752, 753, 754, 755, 756, 757, 758, 759, 760, 761, 762, 763, 764, 765, 766, 767, 768, 769, 770, 771, 772, 773, 774, 775, 776, 777, 778, 779, 780, 781, 782, 783, 784, 785, 786, 787, 788, 789, 790, 791, 792, 793, 794, 795, 796, 797, 798, 799, 800, 801, 802, 803, 804, 805, 806, 807, 808, 809, 810, 811, 812, 813, 814, 815, 816, 817, 818, 819, 820, 821, 822, 823, 824, 825, 826, 827, 828, 829, 830, 831, 832, 833, 834, 835, 836, 837, 838, 839, 840, 841, 842, 843, 844, 845, 846, 847, 848, 849, 850, 851, 852, 853, 854, 855, 856, 857, 858, 859, 860, 861, 862, 863, 864, 865, 866, 867, 868, 869, 870, 871, 872, 873, 874, 875, 876, 877, 878, 879, 880, 881, 882, 883, 884, 885, 886, 887, 888, 889, 890, 891, 892, 893, 894, 895, 896, 897, 898, 899, 900, 901, 902, 903, 904, 905, 906, 907, 908, 909, 910, 911, 912, 913, 914, 915, 916, 917, 918, 919, 920, 921, 922, 923, 924, 925, 926, 927, 928, 929, 930, 931, 932, 933, 934, 935, 936, 937, 938, 939, 940, 941, 942, 943, 944, 945, 946, 947, 948, 949, 950, 951, 952, 953, 954, 955, 956, 957, 958, 959, 960, 961, 962, 963, 964, 965, 966, 967, 968, 969, 970, 971, 972, 973, 974, 975, 976, 977, 978, 979, 980, 981, 982, 983, 984, 985, 986, 987, 988, 989, 990, 991, 992, 993, 994, 995, 996, 997, 998, 999, 1000]\n",
      "N°  1000\n",
      "Retweets [18, 0, 5, 41, 6, 172, 0, 41, 41, 0, 113, 0, 192, 0, 82, 41, 0, 73, 113, 0, 0, 0, 18, 145, 0, 105, 0, 16, 0, 0, 16, 16, 0, 0, 41, 0, 0, 5, 16, 0, 0, 16, 14, 114, 6, 92, 20, 41, 1, 0, 338, 9, 0, 16, 2, 18, 1, 1, 16, 14, 67, 0, 1, 10, 0, 6, 2, 4, 41, 21, 3, 0, 6, 3, 16, 6, 1, 0, 1, 113, 0, 6, 0, 1, 0, 16, 170, 1, 0, 82, 6, 59, 0, 11, 11, 6, 1, 1, 0, 0, 6, 6, 1, 0, 41, 0, 0, 0, 0, 192, 1, 0, 170, 51, 1, 41, 7, 10, 0, 39, 0, 130, 172, 0, 59, 92, 0, 16, 172, 0, 16, 114, 113, 90, 41, 123, 113, 1, 0, 4, 53, 4, 41, 0, 16, 162, 0, 0, 1, 1, 206, 0, 338, 104, 0, 16, 6, 2, 2, 0, 0, 8, 0, 1, 41, 1, 0, 4, 1, 41, 0, 93, 0, 0, 0, 72, 0, 1, 113, 0, 113, 6, 0, 1, 41, 41, 0, 3, 162, 0, 13, 41, 53, 591, 90, 0, 41, 104, 0, 6, 42, 1, 11, 2, 2, 16, 3, 0, 0, 2, 18, 41, 0, 66, 5, 2, 0, 1, 61, 18, 2, 0, 0, 0, 0, 3, 16, 0, 0, 12, 8, 41, 21, 0, 631, 0, 368, 0, 0, 1, 41, 19, 6, 738, 0, 103, 41, 3, 20, 8, 114, 4, 27, 16, 0, 6, 1, 0, 0, 1, 41, 10, 41, 4, 2, 3, 0, 11, 0, 0, 10, 92, 0, 113, 0, 0, 0, 41, 0, 172, 0, 41, 3, 103, 41, 41, 2, 2, 41, 30, 4, 0, 738, 7, 0, 0, 3, 192, 170, 1, 20, 41, 123, 103, 0, 41, 1, 90, 170, 103, 6, 0, 41, 9, 41, 0, 0, 61, 66, 0, 113, 90, 41, 10, 0, 0, 6, 18, 0, 92, 0, 170, 0, 0, 0, 41, 0, 0, 0, 0, 0, 41, 84, 41, 0, 41, 0, 0, 41, 0, 0, 16, 3, 0, 0, 16, 0, 1, 0, 155, 6, 0, 206, 18, 0, 51, 162, 0, 10, 0, 0, 1, 0, 0, 123, 0, 1, 0, 0, 1, 1, 0, 0, 0, 0, 1, 0, 0, 0, 0, 0, 113, 0, 8, 20, 1, 1, 0, 0, 0, 0, 0, 0, 18, 0, 6, 0, 10, 0, 0, 145, 0, 11, 114, 10, 0, 206, 0, 0, 0, 4, 4, 0, 0, 90, 20, 0, 0, 192, 6, 170, 368, 90, 162, 3, 11, 90, 7, 104, 5, 113, 0, 0, 18, 0, 0, 0, 0, 2, 192, 2, 172, 0, 0, 0, 82, 14, 0, 6, 51, 0, 0, 6, 0, 22, 0, 3, 11, 0, 6, 3, 0, 113, 0, 6, 0, 1, 0, 0, 0, 0, 18, 21, 0, 0, 145, 0, 192, 1, 0, 0, 1, 0, 6, 8, 0, 1, 20, 0, 7, 12, 1, 11, 0, 1, 0, 192, 4, 0, 18, 0, 0, 11, 738, 192, 11, 172, 1, 4, 59, 0, 5, 1, 2, 5, 0, 113, 14, 2, 591, 0, 66, 0, 3, 6, 7, 11, 172, 1, 0, 90, 0, 172, 3, 1, 66, 2, 1, 0, 123, 0, 0, 0, 0, 0, 0, 162, 145, 14, 4, 18, 5, 18, 0, 66, 338, 5, 1, 0, 3, 18, 162, 6, 0, 2, 0, 1, 1, 113, 53, 46, 192, 7, 7, 0, 2, 0, 6, 3, 738, 24, 162, 33, 0, 6, 0, 18, 66, 9, 113, 2, 0, 0, 2, 113, 63, 0, 738, 103, 0, 0, 123, 0, 0, 18, 162, 0, 3, 5, 3, 3, 2, 1, 0, 1, 0, 162, 0, 172, 5, 105, 8, 2, 37, 6, 11, 82, 0, 0, 0, 0, 7, 172, 113, 206, 0, 18, 3, 172, 3, 18, 5, 0, 5, 0, 0, 338, 0, 0, 0, 0, 113, 0, 104, 0, 12, 6, 5, 90, 0, 145, 28, 0, 0, 0, 3, 0, 10, 3, 458, 43, 29, 145, 5, 0, 1, 368, 123, 172, 2, 2, 0, 6, 837, 738, 6, 2, 0, 7, 1, 2, 0, 0, 25, 6, 1, 5, 2, 0, 10, 0, 6, 2, 0, 192, 0, 0, 85, 0, 0, 0, 2, 0, 0, 10, 192, 54, 6, 0, 67, 0, 103, 1, 10, 0, 0, 113, 12, 2, 10, 3, 192, 66, 73, 9, 46, 172, 3, 192, 172, 0, 0, 113, 0, 11, 1, 10, 3, 0, 0, 0, 0, 1, 0, 114, 21, 16, 0, 20, 162, 0, 11, 5, 14, 0, 11, 0, 1, 368, 6, 0, 368, 0, 0, 3, 0, 10, 2, 0, 130, 0, 11, 2, 1, 3, 0, 1, 0, 0, 0, 0, 0, 1, 145, 0, 1, 0, 1, 20, 192, 160, 0, 0, 0, 170, 12, 0, 66, 0, 0, 0, 114, 192, 0, 145, 0, 0, 16, 2, 1, 0, 1, 114, 0, 73, 1, 1, 130, 2, 0, 1, 63, 66, 0, 3, 103, 14, 11, 0, 7, 3, 114, 738, 50, 1, 0, 0, 0, 130, 0, 18, 0, 0, 7, 6, 0, 0, 113, 0, 170, 2, 1, 0, 1, 123, 72, 66, 103, 1, 82, 43, 1, 162, 0, 172, 3, 113, 114, 0, 3, 0, 0, 1, 24, 0, 0, 72, 114, 0, 0, 0, 0, 3, 0, 15, 172, 0, 18, 0, 63, 0, 82, 3, 3, 0, 67, 162, 3, 0, 0, 0, 0, 4, 26, 15, 338, 16, 0, 16, 103, 2, 78, 5, 0, 1, 66, 0, 0, 1, 162, 0, 0, 90, 54, 92, 20, 162, 113, 145, 4, 1, 3436, 21, 192, 0, 130, 0, 0, 1, 0, 0, 276, 0, 0, 0, 0, 6, 0, 8, 0, 206, 5, 2, 113, 1, 0, 10, 0, 0, 170, 0, 0, 220, 113, 1, 2, 0, 738, 22, 92, 104, 1, 1, 14, 66, 172, 0, 0, 172, 3]\n"
     ]
    }
   ],
   "source": [
    "c = 0\n",
    "ids= []\n",
    "rets=[]\n",
    "for tweet in tweepy.Cursor(api.search, q=\"@LassoGuillermo\").items(1000):\n",
    "    c+=1\n",
    "    #Para mostrar todos los datos\n",
    "    item = json.loads(json.dumps(tweet._json, indent=1))\n",
    "    #print(c)\n",
    "    #print('id',item[\"id\"])\n",
    "    ret = item[\"retweet_count\"]\n",
    "    #print('Retweet',ret)\n",
    "    entitie = item[\"entities\"]\n",
    "    hast = entitie[\"hashtags\"]\n",
    "    ids.append(c)\n",
    "    rets.append(ret)\n",
    "    \n",
    "    #print(\"Hashtags=> \",hast)\n",
    "    #print(\"*\\n\")\n",
    "    #print(item)\n",
    "    #user = item['user']\n",
    "    #print(\"Usuario-> \",user)\n",
    "    \n",
    "    #print(\"*****************************************\")\n",
    "print('ids',ids)\n",
    "print('N° ',c)\n",
    "print('Retweets',rets)"
   ]
  },
  {
   "cell_type": "code",
   "execution_count": 5,
   "metadata": {},
   "outputs": [
    {
     "data": {
      "text/plain": [
       "[<matplotlib.lines.Line2D at 0x1706a438130>]"
      ]
     },
     "execution_count": 5,
     "metadata": {},
     "output_type": "execute_result"
    },
    {
     "data": {
      "image/png": "[encoded data removed]",
      "text/plain": [
       "<Figure size 432x288 with 1 Axes>"
      ]
     },
     "metadata": {
      "needs_background": "light"
     },
     "output_type": "display_data"
    }
   ],
   "source": [
    "y=ids\n",
    "x=rets\n",
    "plt.plot(y, x, color=\"red\")"
   ]
  },
  {
   "cell_type": "code",
   "execution_count": 6,
   "metadata": {},
   "outputs": [
    {
     "data": {
      "text/plain": [
       "LinearRegression()"
      ]
     },
     "execution_count": 6,
     "metadata": {},
     "output_type": "execute_result"
    }
   ],
   "source": [
    "regr = linear_model.LinearRegression()\n",
    "regr.fit(np.array(x).reshape(-1,1),y)"
   ]
  },
  {
   "cell_type": "code",
   "execution_count": 7,
   "metadata": {},
   "outputs": [
    {
     "name": "stdout",
     "output_type": "stream",
     "text": [
      "Coefficients: \n",
      " [0.14422821]\n",
      "Independent term: \n",
      " 493.9464144581038\n"
     ]
    }
   ],
   "source": [
    "# Veamos los coeficienetes obtenidos, En nuestro caso, serán la Tangente\n",
    "print('Coefficients: \\n', regr.coef_)\n",
    "# Este es el valor donde corta el eje Y (en X=0)\n",
    "print('Independent term: \\n', regr.intercept_)\n",
    "# Error Cuadrado Medio"
   ]
  },
  {
   "cell_type": "code",
   "execution_count": 8,
   "metadata": {},
   "outputs": [
    {
     "name": "stdout",
     "output_type": "stream",
     "text": [
      "710\n"
     ]
    }
   ],
   "source": [
    "n = 1500\n",
    "y_prediccion = regr.predict([[n]])\n",
    "pred = int(y_prediccion)\n",
    "print(pred)"
   ]
  },
  {
   "cell_type": "code",
   "execution_count": 22,
   "metadata": {},
   "outputs": [
    {
     "name": "stdout",
     "output_type": "stream",
     "text": [
      "14000\n",
      "\n",
      "\n"
     ]
    }
   ],
   "source": [
    "\n",
    "#print('y',y)\n",
    "#print('x',x)\n",
    "x_real = np.array(range(1000, 15000))\n",
    "#print(x_real)\n",
    "print(len(x_real))\n",
    "print('\\n')\n",
    "\n",
    "x_reg=x_real\n",
    "#print('x_reg',x_reg)\n",
    "\n"
   ]
  },
  {
   "cell_type": "code",
   "execution_count": 23,
   "metadata": {},
   "outputs": [
    {
     "data": {
      "image/png": "[encoded data removed]",
      "text/plain": [
       "<Figure size 432x288 with 1 Axes>"
      ]
     },
     "metadata": {
      "needs_background": "light"
     },
     "output_type": "display_data"
    }
   ],
   "source": [
    "plt.scatter(y,x)\n",
    "#plt.plot((x_real, regr.predict(x_real.reshape(-1, 1))), color='green')\n",
    "plt.show()"
   ]
  },
  {
   "cell_type": "code",
   "execution_count": 24,
   "metadata": {
    "scrolled": true
   },
   "outputs": [
    {
     "data": {
      "image/png": "[encoded data removed]",
      "text/plain": [
       "<Figure size 432x288 with 1 Axes>"
      ]
     },
     "metadata": {
      "needs_background": "light"
     },
     "output_type": "display_data"
    }
   ],
   "source": [
    "plt.scatter(x,y)\n",
    "plt.plot((x_real, regr.predict(x_real)), color='green')\n",
    "plt.show()"
   ]
  },
  {
   "cell_type": "code",
   "execution_count": null,
   "metadata": {},
   "outputs": [],
   "source": []
  }
 ],
 "metadata": {
  "kernelspec": {
   "display_name": "Python 3",
   "language": "python",
   "name": "python3"
  },
  "language_info": {
   "codemirror_mode": {
    "name": "ipython",
    "version": 3
   },
   "file_extension": ".py",
   "mimetype": "text/x-python",
   "name": "python",
   "nbconvert_exporter": "python",
   "pygments_lexer": "ipython3",
   "version": "3.8.3"
  }
 },
 "nbformat": 4,
 "nbformat_minor": 4
}
