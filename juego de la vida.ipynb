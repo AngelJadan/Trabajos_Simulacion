{
 "cells": [
  {
   "cell_type": "markdown",
   "metadata": {},
   "source": [
    "# Universidad Politécnica Salesiana\n",
    "#### Materia: Simulación\n",
    "#### Estudiante: Angel Jadan\n",
    "#### Tema: Juego de la vida"
   ]
  },
  {
   "cell_type": "markdown",
   "metadata": {},
   "source": [
    "Se ulizara el numero '0', para las celulas muertas y 1, para las vivas."
   ]
  },
  {
   "cell_type": "code",
   "execution_count": 35,
   "metadata": {},
   "outputs": [],
   "source": [
    "import numpy as np\n",
    "from time import sleep\n",
    "import matplotlib.pyplot as plt\n",
    "import matplotlib.cm as cm\n",
    "from matplotlib import animation"
   ]
  },
  {
   "cell_type": "code",
   "execution_count": 36,
   "metadata": {},
   "outputs": [],
   "source": [
    "def vecindario(b):\n",
    "    \"\"\"Celulas vivas\"\"\"\n",
    "    vencidario = (\n",
    "    np.roll(np.roll(b,1,1),1,0) + #Arriba izquierda\n",
    "    np.roll(b, 1, 0) + #Arriba\n",
    "    np.roll(np.roll(b, -1, 1), 1, 0) + #Arriba derecha\n",
    "    np.roll(b, -1, 1)+ #Derecha\n",
    "    np.roll(np.roll(b, -1, 1), -1, 0)+ #Abajo derecha\n",
    "    np.roll(b, -1, 0)+ #Abajo\n",
    "    np.roll(np.roll(b, 1, 1), -1, 0)+ #Abajo izquieda\n",
    "    np.roll(b, 1, 1) #Izquierda\n",
    "    )\n",
    "    return vecindario"
   ]
  },
  {
   "cell_type": "code",
   "execution_count": 37,
   "metadata": {},
   "outputs": [],
   "source": [
    "def paso(b):\n",
    "    v = vecindario(b)\n",
    "    buffer_b = b.copy()\n",
    "    for i in range(buffer_b[0]):\n",
    "        for j in range(buffer_b.shape[1]):\n",
    "            if v[i, j] == 3 or (v[i, j] == 2 and buffer_b[i, j]):\n",
    "                buffer_b[i, j] = 1\n",
    "            else:\n",
    "                buffer_b[i, j] = 0\n",
    "    return buffer_b"
   ]
  },
  {
   "cell_type": "code",
   "execution_count": 39,
   "metadata": {},
   "outputs": [
    {
     "data": {
      "image/png": "[encoded data removed]",
      "text/plain": [
       "<Figure size 288x288 with 1 Axes>"
      ]
     },
     "metadata": {
      "needs_background": "light"
     },
     "output_type": "display_data"
    }
   ],
   "source": [
    "GENERACIONES = 50\n",
    "N = 8\n",
    "M = 8\n",
    "tablero = np.zeros((N, M), dtype=int)\n",
    "\n",
    "tablero[1, 1:4]=1\n",
    "tablero[2, 1] = 1\n",
    "tablero[3, 2] = 1\n",
    "\n",
    "fig = plt. figure(figsize=(4, 4))\n",
    "ax = fig.add_subplot(111)\n",
    "ax.axis('off')\n",
    "b = tablero\n",
    "imagen = ax.imshow(b, interpolation = \"none\", cmap=cm.gray_r)\n",
    "\n",
    "\n",
    "def animate(i):\n",
    "    global b\n",
    "    b = paso(b)\n",
    "    imagen.set_data(b)\n",
    "    \n"
   ]
  },
  {
   "cell_type": "code",
   "execution_count": null,
   "metadata": {},
   "outputs": [],
   "source": []
  }
 ],
 "metadata": {
  "kernelspec": {
   "display_name": "Python 3",
   "language": "python",
   "name": "python3"
  },
  "language_info": {
   "codemirror_mode": {
    "name": "ipython",
    "version": 3
   },
   "file_extension": ".py",
   "mimetype": "text/x-python",
   "name": "python",
   "nbconvert_exporter": "python",
   "pygments_lexer": "ipython3",
   "version": "3.8.3"
  }
 },
 "nbformat": 4,
 "nbformat_minor": 4
}
