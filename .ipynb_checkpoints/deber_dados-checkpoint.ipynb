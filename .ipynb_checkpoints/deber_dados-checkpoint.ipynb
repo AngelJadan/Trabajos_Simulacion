{
 "cells": [
  {
   "cell_type": "code",
   "execution_count": 3,
   "metadata": {},
   "outputs": [
    {
     "name": "stdout",
     "output_type": "stream",
     "text": [
      "66\n",
      "144\n",
      "356\n",
      "605\n",
      "756\n",
      "1162\n",
      "1096\n",
      "1116\n",
      "780\n",
      "561\n",
      "324\n"
     ]
    }
   ],
   "source": [
    "import random\n",
    "num2=0\n",
    "num3=0\n",
    "num4=0\n",
    "num5=0\n",
    "num6=0\n",
    "num7=0\n",
    "num8=0\n",
    "num9=0\n",
    "num10=0\n",
    "num11=0\n",
    "num12=0\n",
    "\n",
    "for i in range(1000):\n",
    "    dado1 = random.randint(1,6)\n",
    "    dado2 = random.randint(1,6)\n",
    "    suma = dado1+dado2\n",
    "    if(suma==2):\n",
    "        num2=num2+suma\n",
    "    if(suma==3):\n",
    "        num3=num3+suma\n",
    "    if(suma==4):\n",
    "        num4=num4+suma\n",
    "    if(suma==5):\n",
    "        num5=num5+suma\n",
    "    if(suma==6):\n",
    "        num6=num6+suma\n",
    "    if(suma==7):\n",
    "        num7=num7+suma\n",
    "    if(suma==8):\n",
    "        num8=num8+suma\n",
    "    if(suma==9):\n",
    "        num9=num9+suma\n",
    "    if(suma==10):\n",
    "        num10=num10+suma\n",
    "    if(suma==11):\n",
    "        num11=num11+suma\n",
    "    if(suma==12):\n",
    "        num12=num12+suma\n",
    "        \n",
    "print(num2)\n",
    "print(num3)\n",
    "print(num4)\n",
    "print(num5)\n",
    "print(num6)\n",
    "print(num7)\n",
    "print(num8)\n",
    "print(num9)\n",
    "print(num10)\n",
    "print(num11)\n",
    "print(num12)\n",
    "\n",
    "if (num2>num3 and num2>num4 and num2>num5 and num2>num6 and num2>num7 and num2>num8 and num2>num8 and num2>num10 and num2>num11 and num2>num12):\n",
    "    print(\"El nuemero mayor es :\"+str(num2)\n"
   ]
  },
  {
   "cell_type": "code",
   "execution_count": null,
   "metadata": {},
   "outputs": [],
   "source": []
  }
 ],
 "metadata": {
  "kernelspec": {
   "display_name": "Python 3",
   "language": "python",
   "name": "python3"
  }
 },
 "nbformat": 4,
 "nbformat_minor": 4
}
