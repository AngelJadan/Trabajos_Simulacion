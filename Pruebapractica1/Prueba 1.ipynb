{
 "cells": [
  {
   "cell_type": "markdown",
   "metadata": {},
   "source": [
    "# Universidad Pólitecnica Salesiana\n",
    "### Estudiante: Angel Jadan\n",
    "### Fecha: 11/05/2021\n",
    "### Asignatura: Simulación\n"
   ]
  },
  {
   "cell_type": "code",
   "execution_count": 109,
   "metadata": {},
   "outputs": [
    {
     "data": {
      "text/html": [
       "<div>\n",
       "<style scoped>\n",
       "    .dataframe tbody tr th:only-of-type {\n",
       "        vertical-align: middle;\n",
       "    }\n",
       "\n",
       "    .dataframe tbody tr th {\n",
       "        vertical-align: top;\n",
       "    }\n",
       "\n",
       "    .dataframe thead th {\n",
       "        text-align: right;\n",
       "    }\n",
       "</style>\n",
       "<table border=\"1\" class=\"dataframe\">\n",
       "  <thead>\n",
       "    <tr style=\"text-align: right;\">\n",
       "      <th></th>\n",
       "      <th>fecha</th>\n",
       "      <th>dosis_total</th>\n",
       "      <th>primera_dosis</th>\n",
       "      <th>segunda_dosis</th>\n",
       "    </tr>\n",
       "  </thead>\n",
       "  <tbody>\n",
       "    <tr>\n",
       "      <th>0</th>\n",
       "      <td>21/01/2021</td>\n",
       "      <td>0</td>\n",
       "      <td>0</td>\n",
       "      <td>0</td>\n",
       "    </tr>\n",
       "    <tr>\n",
       "      <th>1</th>\n",
       "      <td>22/01/2021</td>\n",
       "      <td>108</td>\n",
       "      <td>108</td>\n",
       "      <td>0</td>\n",
       "    </tr>\n",
       "    <tr>\n",
       "      <th>2</th>\n",
       "      <td>27/01/2021</td>\n",
       "      <td>2982</td>\n",
       "      <td>2982</td>\n",
       "      <td>0</td>\n",
       "    </tr>\n",
       "    <tr>\n",
       "      <th>3</th>\n",
       "      <td>04/02/2021</td>\n",
       "      <td>6228</td>\n",
       "      <td>6228</td>\n",
       "      <td>0</td>\n",
       "    </tr>\n",
       "    <tr>\n",
       "      <th>4</th>\n",
       "      <td>17/02/2021</td>\n",
       "      <td>8190</td>\n",
       "      <td>6228</td>\n",
       "      <td>1962</td>\n",
       "    </tr>\n",
       "  </tbody>\n",
       "</table>\n",
       "</div>"
      ],
      "text/plain": [
       "        fecha  dosis_total  primera_dosis  segunda_dosis\n",
       "0  21/01/2021            0              0              0\n",
       "1  22/01/2021          108            108              0\n",
       "2  27/01/2021         2982           2982              0\n",
       "3  04/02/2021         6228           6228              0\n",
       "4  17/02/2021         8190           6228           1962"
      ]
     },
     "execution_count": 109,
     "metadata": {},
     "output_type": "execute_result"
    }
   ],
   "source": [
    "import pandas as pd\n",
    "import numpy as np\n",
    "from datetime import datetime,timedelta\n",
    "from sklearn.metrics import mean_squared_error\n",
    "from scipy.optimize import curve_fit\n",
    "from scipy.optimize import fsolve\n",
    "from sklearn import linear_model\n",
    "import matplotlib.pyplot as plt\n",
    "%matplotlib inline\n",
    "\n",
    "url = 'https://raw.githubusercontent.com/andrab/ecuacovid/master/datos_crudos/vacunas/vacunas.csv'\n",
    "\n",
    "df = pd.read_csv(url)\n",
    "df.head()"
   ]
  },
  {
   "cell_type": "code",
   "execution_count": 110,
   "metadata": {},
   "outputs": [
    {
     "data": {
      "text/html": [
       "<div>\n",
       "<style scoped>\n",
       "    .dataframe tbody tr th:only-of-type {\n",
       "        vertical-align: middle;\n",
       "    }\n",
       "\n",
       "    .dataframe tbody tr th {\n",
       "        vertical-align: top;\n",
       "    }\n",
       "\n",
       "    .dataframe thead th {\n",
       "        text-align: right;\n",
       "    }\n",
       "</style>\n",
       "<table border=\"1\" class=\"dataframe\">\n",
       "  <thead>\n",
       "    <tr style=\"text-align: right;\">\n",
       "      <th></th>\n",
       "      <th>fecha</th>\n",
       "      <th>dosis_total</th>\n",
       "      <th>primera_dosis</th>\n",
       "      <th>segunda_dosis</th>\n",
       "      <th>index</th>\n",
       "    </tr>\n",
       "  </thead>\n",
       "  <tbody>\n",
       "    <tr>\n",
       "      <th>0</th>\n",
       "      <td>21/01/2021</td>\n",
       "      <td>0</td>\n",
       "      <td>0</td>\n",
       "      <td>0</td>\n",
       "      <td>0</td>\n",
       "    </tr>\n",
       "    <tr>\n",
       "      <th>1</th>\n",
       "      <td>22/01/2021</td>\n",
       "      <td>108</td>\n",
       "      <td>108</td>\n",
       "      <td>0</td>\n",
       "      <td>1</td>\n",
       "    </tr>\n",
       "    <tr>\n",
       "      <th>2</th>\n",
       "      <td>27/01/2021</td>\n",
       "      <td>2982</td>\n",
       "      <td>2982</td>\n",
       "      <td>0</td>\n",
       "      <td>2</td>\n",
       "    </tr>\n",
       "    <tr>\n",
       "      <th>3</th>\n",
       "      <td>04/02/2021</td>\n",
       "      <td>6228</td>\n",
       "      <td>6228</td>\n",
       "      <td>0</td>\n",
       "      <td>3</td>\n",
       "    </tr>\n",
       "    <tr>\n",
       "      <th>4</th>\n",
       "      <td>17/02/2021</td>\n",
       "      <td>8190</td>\n",
       "      <td>6228</td>\n",
       "      <td>1962</td>\n",
       "      <td>4</td>\n",
       "    </tr>\n",
       "  </tbody>\n",
       "</table>\n",
       "</div>"
      ],
      "text/plain": [
       "        fecha  dosis_total  primera_dosis  segunda_dosis  index\n",
       "0  21/01/2021            0              0              0      0\n",
       "1  22/01/2021          108            108              0      1\n",
       "2  27/01/2021         2982           2982              0      2\n",
       "3  04/02/2021         6228           6228              0      3\n",
       "4  17/02/2021         8190           6228           1962      4"
      ]
     },
     "execution_count": 110,
     "metadata": {},
     "output_type": "execute_result"
    }
   ],
   "source": [
    "df['index'] = df.index\n",
    "\n",
    "df.head()"
   ]
  },
  {
   "cell_type": "code",
   "execution_count": 111,
   "metadata": {},
   "outputs": [
    {
     "data": {
      "text/html": [
       "<div>\n",
       "<style scoped>\n",
       "    .dataframe tbody tr th:only-of-type {\n",
       "        vertical-align: middle;\n",
       "    }\n",
       "\n",
       "    .dataframe tbody tr th {\n",
       "        vertical-align: top;\n",
       "    }\n",
       "\n",
       "    .dataframe thead th {\n",
       "        text-align: right;\n",
       "    }\n",
       "</style>\n",
       "<table border=\"1\" class=\"dataframe\">\n",
       "  <thead>\n",
       "    <tr style=\"text-align: right;\">\n",
       "      <th></th>\n",
       "      <th>fecha</th>\n",
       "      <th>dosis_total</th>\n",
       "      <th>primera_dosis</th>\n",
       "      <th>segunda_dosis</th>\n",
       "      <th>index</th>\n",
       "    </tr>\n",
       "  </thead>\n",
       "  <tbody>\n",
       "    <tr>\n",
       "      <th>45</th>\n",
       "      <td>04/05/2021</td>\n",
       "      <td>1141262</td>\n",
       "      <td>889218</td>\n",
       "      <td>252044</td>\n",
       "      <td>45</td>\n",
       "    </tr>\n",
       "  </tbody>\n",
       "</table>\n",
       "</div>"
      ],
      "text/plain": [
       "         fecha  dosis_total  primera_dosis  segunda_dosis  index\n",
       "45  04/05/2021      1141262         889218         252044     45"
      ]
     },
     "execution_count": 111,
     "metadata": {},
     "output_type": "execute_result"
    }
   ],
   "source": [
    "filt = df[df['fecha'].isin([\"04/05/2021\"])]\n",
    "filt"
   ]
  },
  {
   "cell_type": "code",
   "execution_count": 112,
   "metadata": {},
   "outputs": [
    {
     "data": {
      "text/plain": [
       "<matplotlib.axes._subplots.AxesSubplot at 0x2417d1c37f0>"
      ]
     },
     "execution_count": 112,
     "metadata": {},
     "output_type": "execute_result"
    },
    {
     "data": {
      "image/png": "[encoded data removed]",
      "text/plain": [
       "<Figure size 432x288 with 1 Axes>"
      ]
     },
     "metadata": {
      "needs_background": "light"
     },
     "output_type": "display_data"
    }
   ],
   "source": [
    "df.plot(x ='fecha', y='primera_dosis')"
   ]
  },
  {
   "cell_type": "code",
   "execution_count": 113,
   "metadata": {},
   "outputs": [
    {
     "data": {
      "text/plain": [
       "<matplotlib.axes._subplots.AxesSubplot at 0x2417d41bdf0>"
      ]
     },
     "execution_count": 113,
     "metadata": {},
     "output_type": "execute_result"
    },
    {
     "data": {
      "image/png": "[encoded data removed]",
      "text/plain": [
       "<Figure size 432x288 with 1 Axes>"
      ]
     },
     "metadata": {
      "needs_background": "light"
     },
     "output_type": "display_data"
    }
   ],
   "source": [
    "df.plot(x ='fecha', y='segunda_dosis')"
   ]
  },
  {
   "cell_type": "code",
   "execution_count": 114,
   "metadata": {},
   "outputs": [
    {
     "data": {
      "text/plain": [
       "<matplotlib.axes._subplots.AxesSubplot at 0x2417d47ff70>"
      ]
     },
     "execution_count": 114,
     "metadata": {},
     "output_type": "execute_result"
    },
    {
     "data": {
      "image/png": "[encoded data removed]",
      "text/plain": [
       "<Figure size 432x288 with 1 Axes>"
      ]
     },
     "metadata": {
      "needs_background": "light"
     },
     "output_type": "display_data"
    }
   ],
   "source": [
    "df.plot(x ='fecha', y='dosis_total')"
   ]
  },
  {
   "cell_type": "markdown",
   "metadata": {},
   "source": [
    "#### Datos por fabricante y fechas.\n"
   ]
  },
  {
   "cell_type": "code",
   "execution_count": 115,
   "metadata": {},
   "outputs": [
    {
     "data": {
      "text/html": [
       "<div>\n",
       "<style scoped>\n",
       "    .dataframe tbody tr th:only-of-type {\n",
       "        vertical-align: middle;\n",
       "    }\n",
       "\n",
       "    .dataframe tbody tr th {\n",
       "        vertical-align: top;\n",
       "    }\n",
       "\n",
       "    .dataframe thead th {\n",
       "        text-align: right;\n",
       "    }\n",
       "</style>\n",
       "<table border=\"1\" class=\"dataframe\">\n",
       "  <thead>\n",
       "    <tr style=\"text-align: right;\">\n",
       "      <th></th>\n",
       "      <th>vaccine</th>\n",
       "      <th>total</th>\n",
       "      <th>arrived_at</th>\n",
       "    </tr>\n",
       "  </thead>\n",
       "  <tbody>\n",
       "    <tr>\n",
       "      <th>0</th>\n",
       "      <td>Pfizer/BioNTech</td>\n",
       "      <td>8190</td>\n",
       "      <td>20/01/2021</td>\n",
       "    </tr>\n",
       "    <tr>\n",
       "      <th>1</th>\n",
       "      <td>Pfizer/BioNTech</td>\n",
       "      <td>16380</td>\n",
       "      <td>17/02/2021</td>\n",
       "    </tr>\n",
       "    <tr>\n",
       "      <th>2</th>\n",
       "      <td>Pfizer/BioNTech</td>\n",
       "      <td>17550</td>\n",
       "      <td>24/02/2021</td>\n",
       "    </tr>\n",
       "    <tr>\n",
       "      <th>3</th>\n",
       "      <td>Pfizer/BioNTech</td>\n",
       "      <td>31590</td>\n",
       "      <td>03/03/2021</td>\n",
       "    </tr>\n",
       "    <tr>\n",
       "      <th>4</th>\n",
       "      <td>Sinovac</td>\n",
       "      <td>20000</td>\n",
       "      <td>06/03/2021</td>\n",
       "    </tr>\n",
       "    <tr>\n",
       "      <th>5</th>\n",
       "      <td>Pfizer/BioNTech</td>\n",
       "      <td>73710</td>\n",
       "      <td>10/03/2021</td>\n",
       "    </tr>\n",
       "    <tr>\n",
       "      <th>6</th>\n",
       "      <td>Oxford/AstraZeneca</td>\n",
       "      <td>84000</td>\n",
       "      <td>17/03/2021</td>\n",
       "    </tr>\n",
       "    <tr>\n",
       "      <th>7</th>\n",
       "      <td>Pfizer/BioNTech</td>\n",
       "      <td>62010</td>\n",
       "      <td>17/03/2021</td>\n",
       "    </tr>\n",
       "    <tr>\n",
       "      <th>8</th>\n",
       "      <td>Pfizer/BioNTech</td>\n",
       "      <td>65520</td>\n",
       "      <td>24/03/2021</td>\n",
       "    </tr>\n",
       "    <tr>\n",
       "      <th>9</th>\n",
       "      <td>Pfizer/BioNTech</td>\n",
       "      <td>66690</td>\n",
       "      <td>31/03/2021</td>\n",
       "    </tr>\n",
       "    <tr>\n",
       "      <th>10</th>\n",
       "      <td>Pfizer/BioNTech</td>\n",
       "      <td>53820</td>\n",
       "      <td>05/04/2021</td>\n",
       "    </tr>\n",
       "    <tr>\n",
       "      <th>11</th>\n",
       "      <td>Sinovac</td>\n",
       "      <td>300000</td>\n",
       "      <td>07/04/2021</td>\n",
       "    </tr>\n",
       "    <tr>\n",
       "      <th>12</th>\n",
       "      <td>Sinovac</td>\n",
       "      <td>700000</td>\n",
       "      <td>10/04/2021</td>\n",
       "    </tr>\n",
       "    <tr>\n",
       "      <th>13</th>\n",
       "      <td>Pfizer/BioNTech</td>\n",
       "      <td>53820</td>\n",
       "      <td>14/04/2021</td>\n",
       "    </tr>\n",
       "    <tr>\n",
       "      <th>14</th>\n",
       "      <td>Pfizer/BioNTech</td>\n",
       "      <td>54990</td>\n",
       "      <td>21/04/2021</td>\n",
       "    </tr>\n",
       "    <tr>\n",
       "      <th>15</th>\n",
       "      <td>Oxford/AstraZeneca</td>\n",
       "      <td>336000</td>\n",
       "      <td>24/04/2021</td>\n",
       "    </tr>\n",
       "    <tr>\n",
       "      <th>16</th>\n",
       "      <td>Pfizer/BioNTech</td>\n",
       "      <td>54990</td>\n",
       "      <td>28/04/2021</td>\n",
       "    </tr>\n",
       "    <tr>\n",
       "      <th>17</th>\n",
       "      <td>Pfizer/BioNTech</td>\n",
       "      <td>100620</td>\n",
       "      <td>04/05/2021</td>\n",
       "    </tr>\n",
       "  </tbody>\n",
       "</table>\n",
       "</div>"
      ],
      "text/plain": [
       "               vaccine   total  arrived_at\n",
       "0      Pfizer/BioNTech    8190  20/01/2021\n",
       "1      Pfizer/BioNTech   16380  17/02/2021\n",
       "2      Pfizer/BioNTech   17550  24/02/2021\n",
       "3      Pfizer/BioNTech   31590  03/03/2021\n",
       "4              Sinovac   20000  06/03/2021\n",
       "5      Pfizer/BioNTech   73710  10/03/2021\n",
       "6   Oxford/AstraZeneca   84000  17/03/2021\n",
       "7      Pfizer/BioNTech   62010  17/03/2021\n",
       "8      Pfizer/BioNTech   65520  24/03/2021\n",
       "9      Pfizer/BioNTech   66690  31/03/2021\n",
       "10     Pfizer/BioNTech   53820  05/04/2021\n",
       "11             Sinovac  300000  07/04/2021\n",
       "12             Sinovac  700000  10/04/2021\n",
       "13     Pfizer/BioNTech   53820  14/04/2021\n",
       "14     Pfizer/BioNTech   54990  21/04/2021\n",
       "15  Oxford/AstraZeneca  336000  24/04/2021\n",
       "16     Pfizer/BioNTech   54990  28/04/2021\n",
       "17     Pfizer/BioNTech  100620  04/05/2021"
      ]
     },
     "execution_count": 115,
     "metadata": {},
     "output_type": "execute_result"
    }
   ],
   "source": [
    "url_fab = 'https://raw.githubusercontent.com/andrab/ecuacovid/master/datos_crudos/vacunas/fabricantes.csv'\n",
    "\n",
    "df_fab = pd.read_csv(url_fab)\n",
    "df_fab"
   ]
  },
  {
   "cell_type": "markdown",
   "metadata": {},
   "source": [
    "#### Gráfica de pie de vacunas obtenidas en total"
   ]
  },
  {
   "cell_type": "code",
   "execution_count": 116,
   "metadata": {},
   "outputs": [
    {
     "data": {
      "image/png": "[encoded data removed]",
      "text/plain": [
       "<Figure size 432x288 with 1 Axes>"
      ]
     },
     "metadata": {},
     "output_type": "display_data"
    }
   ],
   "source": [
    "pfizer = df_fab[df_fab['vaccine'].isin(['Pfizer/BioNTech'])]\n",
    "sinovac = df_fab[df_fab['vaccine'].isin(['Sinovac'])]\n",
    "oxford = df_fab[df_fab[\"vaccine\"].isin(['Oxford/AstraZeneca'])]\n",
    "\n",
    "#print(pfizer)\n",
    "#print(sinovac)\n",
    "#print(oxford)\n",
    "\n",
    "ptot = pfizer[\"total\"]\n",
    "pdat = pfizer[\"arrived_at\"]\n",
    "stot = sinovac[\"total\"]\n",
    "sdat = sinovac[\"arrived_at\"]\n",
    "otot = oxford[\"total\"]\n",
    "odat = oxford[\"arrived_at\"]\n",
    "\n",
    "psum = ptot.values.sum()\n",
    "ssum = stot.values.sum()\n",
    "osum = otot.values.sum()\n",
    "\n",
    "datos = [psum,ssum, osum]\n",
    "facts = ['Pfizer/BioNTech','Sinovac','Oxford/AstraZeneca']\n",
    "\n",
    "'''plt.plot(pfizer[\"total\"],pfizer['arrived_at'],'blue',sinovac[\"total\"], sinovac[\"arrived_at\"],\\\n",
    "        oxford[\"total\"], oxford[\"arrived_at\"])\n",
    "    plt.legend([\"Pfizer/BioTech\",\"Sinovac\",\"Oxford/AstraZeneca\"])\n",
    "        '''\n",
    "\n",
    "#print(datos.values)\n",
    "plt.pie(datos, labels=facts, autopct=\"%0.1f %%\")\n",
    "\n",
    "plt.axis(\"equal\")\n",
    "plt.title(\"Vacunas obtenidas según las fabricas\")\n",
    "plt.show()\n",
    "\n"
   ]
  },
  {
   "cell_type": "code",
   "execution_count": 117,
   "metadata": {},
   "outputs": [
    {
     "data": {
      "image/png": "[encoded data removed]",
      "text/plain": [
       "<Figure size 432x288 with 1 Axes>"
      ]
     },
     "metadata": {
      "needs_background": "light"
     },
     "output_type": "display_data"
    },
    {
     "data": {
      "text/html": [
       "<div>\n",
       "<style scoped>\n",
       "    .dataframe tbody tr th:only-of-type {\n",
       "        vertical-align: middle;\n",
       "    }\n",
       "\n",
       "    .dataframe tbody tr th {\n",
       "        vertical-align: top;\n",
       "    }\n",
       "\n",
       "    .dataframe thead th {\n",
       "        text-align: right;\n",
       "    }\n",
       "</style>\n",
       "<table border=\"1\" class=\"dataframe\">\n",
       "  <thead>\n",
       "    <tr style=\"text-align: right;\">\n",
       "      <th></th>\n",
       "      <th>total</th>\n",
       "      <th>month</th>\n",
       "    </tr>\n",
       "  </thead>\n",
       "  <tbody>\n",
       "    <tr>\n",
       "      <th>4</th>\n",
       "      <td>20000</td>\n",
       "      <td>3</td>\n",
       "    </tr>\n",
       "    <tr>\n",
       "      <th>11</th>\n",
       "      <td>300000</td>\n",
       "      <td>4</td>\n",
       "    </tr>\n",
       "    <tr>\n",
       "      <th>12</th>\n",
       "      <td>700000</td>\n",
       "      <td>4</td>\n",
       "    </tr>\n",
       "  </tbody>\n",
       "</table>\n",
       "</div>"
      ],
      "text/plain": [
       "     total  month\n",
       "4    20000      3\n",
       "11  300000      4\n",
       "12  700000      4"
      ]
     },
     "execution_count": 117,
     "metadata": {},
     "output_type": "execute_result"
    }
   ],
   "source": [
    "\n",
    "#df_fab[\"month\"] = df_fab['arrived_at']\n",
    "month= df_fab['arrived_at']\n",
    "me = []\n",
    "for m in month:\n",
    "    mes = m.split(\"/\")\n",
    "    me.append(int(mes[1]))\n",
    "df_fab[\"month\"]=me\n",
    "\n",
    "\n",
    "pfi = df_fab[df_fab['vaccine'].isin(['Pfizer/BioNTech'])]\n",
    "pfi = pfi.loc[:,['total','month']]\n",
    "\n",
    "sin = df_fab[df_fab['vaccine'].isin(['Sinovac'])]\n",
    "sin = sin.loc[:,['total', 'month']]\n",
    "\n",
    "oxf = df_fab[df_fab['vaccine'].isin(['Oxford/AstraZeneca'])]\n",
    "oxf = oxf.loc[:,['total', 'month']]\n",
    "\n",
    "plt.title(\"Histograma de vacunas por mes de llegada y fabricante\")\n",
    "plt.xlabel(\"Meses\")\n",
    "plt.ylabel(\"N° dias llegados\")\n",
    "\n",
    "plt.hist([pfi[\"month\"], sin[\"month\"],oxf['month']], label=['Pfizer/BioNTech','Sinovac','Oxford/AstraZeneca'])\n",
    "plt.legend(loc=\"upper right\")\n",
    "plt.show()\n",
    "sin\n"
   ]
  },
  {
   "cell_type": "markdown",
   "metadata": {},
   "source": [
    "# Falta implementar parametrizar por rango de fechas inicio y fin."
   ]
  },
  {
   "cell_type": "code",
   "execution_count": 118,
   "metadata": {},
   "outputs": [
    {
     "data": {
      "text/html": [
       "<div>\n",
       "<style scoped>\n",
       "    .dataframe tbody tr th:only-of-type {\n",
       "        vertical-align: middle;\n",
       "    }\n",
       "\n",
       "    .dataframe tbody tr th {\n",
       "        vertical-align: top;\n",
       "    }\n",
       "\n",
       "    .dataframe thead th {\n",
       "        text-align: right;\n",
       "    }\n",
       "</style>\n",
       "<table border=\"1\" class=\"dataframe\">\n",
       "  <thead>\n",
       "    <tr style=\"text-align: right;\">\n",
       "      <th></th>\n",
       "      <th>vaccine</th>\n",
       "      <th>total</th>\n",
       "      <th>arrived_at</th>\n",
       "      <th>month</th>\n",
       "    </tr>\n",
       "  </thead>\n",
       "  <tbody>\n",
       "    <tr>\n",
       "      <th>0</th>\n",
       "      <td>Pfizer/BioNTech</td>\n",
       "      <td>8190</td>\n",
       "      <td>20/01/2021</td>\n",
       "      <td>1</td>\n",
       "    </tr>\n",
       "    <tr>\n",
       "      <th>1</th>\n",
       "      <td>Pfizer/BioNTech</td>\n",
       "      <td>16380</td>\n",
       "      <td>17/02/2021</td>\n",
       "      <td>2</td>\n",
       "    </tr>\n",
       "    <tr>\n",
       "      <th>2</th>\n",
       "      <td>Pfizer/BioNTech</td>\n",
       "      <td>17550</td>\n",
       "      <td>24/02/2021</td>\n",
       "      <td>2</td>\n",
       "    </tr>\n",
       "    <tr>\n",
       "      <th>3</th>\n",
       "      <td>Pfizer/BioNTech</td>\n",
       "      <td>31590</td>\n",
       "      <td>03/03/2021</td>\n",
       "      <td>3</td>\n",
       "    </tr>\n",
       "    <tr>\n",
       "      <th>4</th>\n",
       "      <td>Sinovac</td>\n",
       "      <td>20000</td>\n",
       "      <td>06/03/2021</td>\n",
       "      <td>3</td>\n",
       "    </tr>\n",
       "    <tr>\n",
       "      <th>5</th>\n",
       "      <td>Pfizer/BioNTech</td>\n",
       "      <td>73710</td>\n",
       "      <td>10/03/2021</td>\n",
       "      <td>3</td>\n",
       "    </tr>\n",
       "    <tr>\n",
       "      <th>6</th>\n",
       "      <td>Oxford/AstraZeneca</td>\n",
       "      <td>84000</td>\n",
       "      <td>17/03/2021</td>\n",
       "      <td>3</td>\n",
       "    </tr>\n",
       "    <tr>\n",
       "      <th>7</th>\n",
       "      <td>Pfizer/BioNTech</td>\n",
       "      <td>62010</td>\n",
       "      <td>17/03/2021</td>\n",
       "      <td>3</td>\n",
       "    </tr>\n",
       "    <tr>\n",
       "      <th>8</th>\n",
       "      <td>Pfizer/BioNTech</td>\n",
       "      <td>65520</td>\n",
       "      <td>24/03/2021</td>\n",
       "      <td>3</td>\n",
       "    </tr>\n",
       "    <tr>\n",
       "      <th>9</th>\n",
       "      <td>Pfizer/BioNTech</td>\n",
       "      <td>66690</td>\n",
       "      <td>31/03/2021</td>\n",
       "      <td>3</td>\n",
       "    </tr>\n",
       "    <tr>\n",
       "      <th>10</th>\n",
       "      <td>Pfizer/BioNTech</td>\n",
       "      <td>53820</td>\n",
       "      <td>05/04/2021</td>\n",
       "      <td>4</td>\n",
       "    </tr>\n",
       "    <tr>\n",
       "      <th>11</th>\n",
       "      <td>Sinovac</td>\n",
       "      <td>300000</td>\n",
       "      <td>07/04/2021</td>\n",
       "      <td>4</td>\n",
       "    </tr>\n",
       "    <tr>\n",
       "      <th>12</th>\n",
       "      <td>Sinovac</td>\n",
       "      <td>700000</td>\n",
       "      <td>10/04/2021</td>\n",
       "      <td>4</td>\n",
       "    </tr>\n",
       "    <tr>\n",
       "      <th>13</th>\n",
       "      <td>Pfizer/BioNTech</td>\n",
       "      <td>53820</td>\n",
       "      <td>14/04/2021</td>\n",
       "      <td>4</td>\n",
       "    </tr>\n",
       "    <tr>\n",
       "      <th>14</th>\n",
       "      <td>Pfizer/BioNTech</td>\n",
       "      <td>54990</td>\n",
       "      <td>21/04/2021</td>\n",
       "      <td>4</td>\n",
       "    </tr>\n",
       "    <tr>\n",
       "      <th>15</th>\n",
       "      <td>Oxford/AstraZeneca</td>\n",
       "      <td>336000</td>\n",
       "      <td>24/04/2021</td>\n",
       "      <td>4</td>\n",
       "    </tr>\n",
       "    <tr>\n",
       "      <th>16</th>\n",
       "      <td>Pfizer/BioNTech</td>\n",
       "      <td>54990</td>\n",
       "      <td>28/04/2021</td>\n",
       "      <td>4</td>\n",
       "    </tr>\n",
       "    <tr>\n",
       "      <th>17</th>\n",
       "      <td>Pfizer/BioNTech</td>\n",
       "      <td>100620</td>\n",
       "      <td>04/05/2021</td>\n",
       "      <td>5</td>\n",
       "    </tr>\n",
       "  </tbody>\n",
       "</table>\n",
       "</div>"
      ],
      "text/plain": [
       "               vaccine   total  arrived_at  month\n",
       "0      Pfizer/BioNTech    8190  20/01/2021      1\n",
       "1      Pfizer/BioNTech   16380  17/02/2021      2\n",
       "2      Pfizer/BioNTech   17550  24/02/2021      2\n",
       "3      Pfizer/BioNTech   31590  03/03/2021      3\n",
       "4              Sinovac   20000  06/03/2021      3\n",
       "5      Pfizer/BioNTech   73710  10/03/2021      3\n",
       "6   Oxford/AstraZeneca   84000  17/03/2021      3\n",
       "7      Pfizer/BioNTech   62010  17/03/2021      3\n",
       "8      Pfizer/BioNTech   65520  24/03/2021      3\n",
       "9      Pfizer/BioNTech   66690  31/03/2021      3\n",
       "10     Pfizer/BioNTech   53820  05/04/2021      4\n",
       "11             Sinovac  300000  07/04/2021      4\n",
       "12             Sinovac  700000  10/04/2021      4\n",
       "13     Pfizer/BioNTech   53820  14/04/2021      4\n",
       "14     Pfizer/BioNTech   54990  21/04/2021      4\n",
       "15  Oxford/AstraZeneca  336000  24/04/2021      4\n",
       "16     Pfizer/BioNTech   54990  28/04/2021      4\n",
       "17     Pfizer/BioNTech  100620  04/05/2021      5"
      ]
     },
     "execution_count": 118,
     "metadata": {},
     "output_type": "execute_result"
    }
   ],
   "source": [
    "df_fab"
   ]
  },
  {
   "cell_type": "markdown",
   "metadata": {},
   "source": [
    "### Modelos de simulación\n",
    "\n",
    "#### Regresión lineal"
   ]
  },
  {
   "cell_type": "code",
   "execution_count": 119,
   "metadata": {},
   "outputs": [
    {
     "data": {
      "text/html": [
       "<div>\n",
       "<style scoped>\n",
       "    .dataframe tbody tr th:only-of-type {\n",
       "        vertical-align: middle;\n",
       "    }\n",
       "\n",
       "    .dataframe tbody tr th {\n",
       "        vertical-align: top;\n",
       "    }\n",
       "\n",
       "    .dataframe thead th {\n",
       "        text-align: right;\n",
       "    }\n",
       "</style>\n",
       "<table border=\"1\" class=\"dataframe\">\n",
       "  <thead>\n",
       "    <tr style=\"text-align: right;\">\n",
       "      <th></th>\n",
       "      <th>fecha</th>\n",
       "      <th>primera_dosis</th>\n",
       "      <th>segunda_dosis</th>\n",
       "      <th>index</th>\n",
       "      <th>total</th>\n",
       "      <th>mes</th>\n",
       "    </tr>\n",
       "  </thead>\n",
       "  <tbody>\n",
       "    <tr>\n",
       "      <th>0</th>\n",
       "      <td>21/01/2021</td>\n",
       "      <td>0</td>\n",
       "      <td>0</td>\n",
       "      <td>0</td>\n",
       "      <td>0</td>\n",
       "      <td>1</td>\n",
       "    </tr>\n",
       "    <tr>\n",
       "      <th>1</th>\n",
       "      <td>22/01/2021</td>\n",
       "      <td>108</td>\n",
       "      <td>0</td>\n",
       "      <td>1</td>\n",
       "      <td>108</td>\n",
       "      <td>1</td>\n",
       "    </tr>\n",
       "    <tr>\n",
       "      <th>2</th>\n",
       "      <td>27/01/2021</td>\n",
       "      <td>2982</td>\n",
       "      <td>0</td>\n",
       "      <td>2</td>\n",
       "      <td>2982</td>\n",
       "      <td>1</td>\n",
       "    </tr>\n",
       "    <tr>\n",
       "      <th>3</th>\n",
       "      <td>04/02/2021</td>\n",
       "      <td>6228</td>\n",
       "      <td>0</td>\n",
       "      <td>3</td>\n",
       "      <td>6228</td>\n",
       "      <td>2</td>\n",
       "    </tr>\n",
       "    <tr>\n",
       "      <th>4</th>\n",
       "      <td>17/02/2021</td>\n",
       "      <td>6228</td>\n",
       "      <td>1962</td>\n",
       "      <td>4</td>\n",
       "      <td>8190</td>\n",
       "      <td>2</td>\n",
       "    </tr>\n",
       "  </tbody>\n",
       "</table>\n",
       "</div>"
      ],
      "text/plain": [
       "        fecha  primera_dosis  segunda_dosis  index  total  mes\n",
       "0  21/01/2021              0              0      0      0    1\n",
       "1  22/01/2021            108              0      1    108    1\n",
       "2  27/01/2021           2982              0      2   2982    1\n",
       "3  04/02/2021           6228              0      3   6228    2\n",
       "4  17/02/2021           6228           1962      4   8190    2"
      ]
     },
     "execution_count": 119,
     "metadata": {},
     "output_type": "execute_result"
    }
   ],
   "source": [
    "df_dos = df\n",
    "\n",
    "month= df['fecha']\n",
    "me = []\n",
    "for m in month:\n",
    "    mes = m.split(\"/\")\n",
    "    me.append(int(mes[1]))\n",
    "df_dos[\"total\"] = df[\"dosis_total\"]\n",
    "df_dos[\"mes\"] = me\n",
    "del df_dos[\"dosis_total\"]\n",
    "df_dos.head()"
   ]
  },
  {
   "cell_type": "code",
   "execution_count": 125,
   "metadata": {},
   "outputs": [
    {
     "name": "stdout",
     "output_type": "stream",
     "text": [
      "Coefficients: \n",
      " [334108.28718762]\n",
      "Independent term: \n",
      " -711493.2566441887\n"
     ]
    }
   ],
   "source": [
    "x = list(df.iloc[:,5])#Fecha\n",
    "y = list(df.iloc[:,4])#Total\n",
    "regr = linear_model.LinearRegression()\n",
    "regr.fit(np.array(x).reshape(-1,1),y)\n",
    "\n",
    "# Veamos los coeficienetes obtenidos, En nuestro caso, serán la Tangente\n",
    "print('Coefficients: \\n', regr.coef_)\n",
    "# Este es el valor donde corta el eje Y (en X=0)\n",
    "print('Independent term: \\n', regr.intercept_)\n",
    "# Error Cuadrado Medio"
   ]
  },
  {
   "cell_type": "code",
   "execution_count": 137,
   "metadata": {},
   "outputs": [
    {
     "name": "stdout",
     "output_type": "stream",
     "text": [
      "Problación 17 268 000  n° vacunar 17664462\n",
      "Tiempo para vacunación de población completa:  4.58  Años =  55  meses.\n"
     ]
    }
   ],
   "source": [
    "#Vamos a comprobar:\n",
    "# Quiero predecir cuántos \"Casos\" voy a obtener por en el dia 100,\n",
    "# según nuestro modelo, hacemos:\n",
    "n = 55\n",
    "y_prediccion = regr.predict([[n]])\n",
    "pred = int(y_prediccion)\n",
    "if pred >= 17268000:\n",
    "    print('Problación 17 268 000',' n° vacunar',pred)\n",
    "    print('Tiempo para vacunación de población completa: ',round(n/12,2),\" Años = \",n,' meses.')\n",
    "else:\n",
    "    print('vacunados ',pred)"
   ]
  },
  {
   "cell_type": "code",
   "execution_count": 138,
   "metadata": {},
   "outputs": [
    {
     "name": "stdout",
     "output_type": "stream",
     "text": [
      "[ 1  2  3  4  5  6  7  8  9 10 11 12 13 14 15 16 17 18 19 20 21 22 23 24\n",
      " 25 26 27 28 29 30 31 32 33 34 35 36 37 38 39 40 41 42 43 44 45 46 47 48\n",
      " 49 50 51 52 53 54]\n"
     ]
    },
    {
     "data": {
      "image/png": "[encoded data removed]",
      "text/plain": [
       "<Figure size 432x288 with 1 Axes>"
      ]
     },
     "metadata": {
      "needs_background": "light"
     },
     "output_type": "display_data"
    }
   ],
   "source": [
    "#Grafica\n",
    "plt.scatter(x, y)\n",
    "x_real = np.array(range(1, 55))\n",
    "\n",
    "print(x_real)\n",
    "plt.plot(x_real, regr.predict(x_real.reshape(-1, 1)), color='green')\n",
    "plt.show()"
   ]
  },
  {
   "cell_type": "markdown",
   "metadata": {},
   "source": [
    "#Graficar\n",
    "plt.scatter(x, y)\n",
    "x_real = np.array(range(1, 6))\n",
    "print(x_real)\n",
    "plt.plot(x_real, regr.predict(x_real.reshape(-1, 1)), color='green')\n",
    "plt.show()"
   ]
  },
  {
   "cell_type": "markdown",
   "metadata": {},
   "source": [
    "### Modelo exponencial"
   ]
  },
  {
   "cell_type": "code",
   "execution_count": 139,
   "metadata": {},
   "outputs": [
    {
     "name": "stdout",
     "output_type": "stream",
     "text": [
      "[ -11646.56510892  214175.38317867 -634600.53432616  450209.7682928 ]\n",
      "[[ 1.97563658e+08 -1.84230568e+09  5.12288633e+09 -3.91790539e+09]\n",
      " [-1.84230568e+09  1.74096905e+10 -4.92238360e+10  3.85623690e+10]\n",
      " [ 5.12288633e+09 -4.92238360e+10  1.42445201e+11 -1.15938000e+11]\n",
      " [-3.91790539e+09  3.85623690e+10 -1.15938000e+11  1.01467466e+11]]\n"
     ]
    }
   ],
   "source": [
    "from scipy.optimize import curve_fit\n",
    "x = np.array(df[\"mes\"])\n",
    "y = np.array(df[\"total\"])\n",
    "#y[0]=1\n",
    "\n",
    "def func(x, a, b, c, d):\n",
    "    return a*x**3 + b*x**2 +c*x + d\n",
    "\n",
    "res1 , res2 = curve_fit(func,x,y)\n",
    "print(res1)\n",
    "print(res2)\n"
   ]
  },
  {
   "cell_type": "code",
   "execution_count": 140,
   "metadata": {},
   "outputs": [
    {
     "data": {
      "image/png": "[encoded data removed]",
      "text/plain": [
       "<Figure size 432x288 with 1 Axes>"
      ]
     },
     "metadata": {
      "needs_background": "light"
     },
     "output_type": "display_data"
    }
   ],
   "source": [
    "#Grafica\n",
    "plt.plot(x,y)\n",
    "plt.plot(x,y, label=\"Datos\")\n",
    "\n",
    "plt.plot(x, func(x, *res1), label=\"Curva ajustada\")\n",
    "\n",
    "plt.legend(loc='upper left')\n",
    "plt.show()"
   ]
  },
  {
   "cell_type": "markdown",
   "metadata": {},
   "source": [
    "### Modelo polinomico"
   ]
  },
  {
   "cell_type": "code",
   "execution_count": 141,
   "metadata": {},
   "outputs": [
    {
     "data": {
      "text/plain": [
       "[<matplotlib.lines.Line2D at 0x2417a52b400>]"
      ]
     },
     "execution_count": 141,
     "metadata": {},
     "output_type": "execute_result"
    },
    {
     "data": {
      "image/png": "[encoded data removed]",
      "text/plain": [
       "<Figure size 432x288 with 1 Axes>"
      ]
     },
     "metadata": {
      "needs_background": "light"
     },
     "output_type": "display_data"
    }
   ],
   "source": [
    "from sklearn.linear_model import LinearRegression\n",
    "from sklearn.preprocessing import PolynomialFeatures\n",
    "\n",
    "x = x.reshape(-1,1)\n",
    "y = y.reshape(-1,1)\n",
    "\n",
    "model = LinearRegression()\n",
    "pre_proces = PolynomialFeatures(degree=3)\n",
    "\n",
    "x_polin = pre_proces.fit_transform(x)\n",
    "\n",
    "pr_model = LinearRegression()\n",
    "pr_model.fit(x_polin,y)\n",
    "y_pred = pr_model.predict(x_polin)\n",
    "\n",
    "plt.scatter(x,y,c=\"black\")\n",
    "plt.xlabel(\"Mes\")\n",
    "plt.ylabel(\"vacunados\")\n",
    "plt.plot(x,y_pred)"
   ]
  },
  {
   "cell_type": "code",
   "execution_count": 142,
   "metadata": {},
   "outputs": [
    {
     "data": {
      "text/plain": [
       "array([[3550992.17432014]])"
      ]
     },
     "execution_count": 142,
     "metadata": {},
     "output_type": "execute_result"
    }
   ],
   "source": [
    "y_mes = pr_model.predict(pre_proces.fit_transform([[12]]))\n",
    "y_mes"
   ]
  },
  {
   "cell_type": "code",
   "execution_count": null,
   "metadata": {},
   "outputs": [],
   "source": []
  },
  {
   "cell_type": "markdown",
   "metadata": {},
   "source": [
    "\n",
    "### Datos de vacunación en España\n",
    "URL:https://raw.githubusercontent.com/montera34/escovid19data/master/data/original/vacunas/estado_vacunacion_.csv"
   ]
  },
  {
   "cell_type": "code",
   "execution_count": 143,
   "metadata": {},
   "outputs": [
    {
     "name": "stdout",
     "output_type": "stream",
     "text": [
      "Total=> 1834    6327447.0\n",
      "Name: Total pauta completada, dtype: float64\n"
     ]
    },
    {
     "data": {
      "text/html": [
       "<div>\n",
       "<style scoped>\n",
       "    .dataframe tbody tr th:only-of-type {\n",
       "        vertical-align: middle;\n",
       "    }\n",
       "\n",
       "    .dataframe tbody tr th {\n",
       "        vertical-align: top;\n",
       "    }\n",
       "\n",
       "    .dataframe thead th {\n",
       "        text-align: right;\n",
       "    }\n",
       "</style>\n",
       "<table border=\"1\" class=\"dataframe\">\n",
       "  <thead>\n",
       "    <tr style=\"text-align: right;\">\n",
       "      <th></th>\n",
       "      <th>date_pub</th>\n",
       "      <th>ccaa</th>\n",
       "      <th>Dosis entregadas Pfizer</th>\n",
       "      <th>Dosis entregadas Moderna</th>\n",
       "      <th>Dosis entregadas AstraZeneca</th>\n",
       "      <th>Dosis entregadas Janssen</th>\n",
       "      <th>Dosis entregadas</th>\n",
       "      <th>Dosis administradas</th>\n",
       "      <th>% sobre entregadas</th>\n",
       "      <th>Total 1 vacuna</th>\n",
       "      <th>Total pauta completada</th>\n",
       "      <th>Última fecha de actualización de datos</th>\n",
       "      <th>Fecha de la ultima vacuna registrada</th>\n",
       "      <th>source_name</th>\n",
       "      <th>source</th>\n",
       "    </tr>\n",
       "  </thead>\n",
       "  <tbody>\n",
       "    <tr>\n",
       "      <th>0</th>\n",
       "      <td>4/1/21</td>\n",
       "      <td>Andalucía</td>\n",
       "      <td>NaN</td>\n",
       "      <td>NaN</td>\n",
       "      <td>NaN</td>\n",
       "      <td>NaN</td>\n",
       "      <td>140295</td>\n",
       "      <td>25809</td>\n",
       "      <td>0.183962</td>\n",
       "      <td>NaN</td>\n",
       "      <td>NaN</td>\n",
       "      <td>3/1/21</td>\n",
       "      <td>3/1/21</td>\n",
       "      <td>Ministerio de Sanidad - Vacuna Covid 19</td>\n",
       "      <td>https://www.mscbs.gob.es/profesionales/saludPu...</td>\n",
       "    </tr>\n",
       "    <tr>\n",
       "      <th>1</th>\n",
       "      <td>4/1/21</td>\n",
       "      <td>Aragón</td>\n",
       "      <td>NaN</td>\n",
       "      <td>NaN</td>\n",
       "      <td>NaN</td>\n",
       "      <td>NaN</td>\n",
       "      <td>23715</td>\n",
       "      <td>2004</td>\n",
       "      <td>0.084503</td>\n",
       "      <td>NaN</td>\n",
       "      <td>NaN</td>\n",
       "      <td>2/1/21</td>\n",
       "      <td>2/1/21</td>\n",
       "      <td>Ministerio de Sanidad - Vacuna Covid 20</td>\n",
       "      <td>https://www.mscbs.gob.es/profesionales/saludPu...</td>\n",
       "    </tr>\n",
       "    <tr>\n",
       "      <th>2</th>\n",
       "      <td>4/1/21</td>\n",
       "      <td>Asturias</td>\n",
       "      <td>NaN</td>\n",
       "      <td>NaN</td>\n",
       "      <td>NaN</td>\n",
       "      <td>NaN</td>\n",
       "      <td>23720</td>\n",
       "      <td>9380</td>\n",
       "      <td>0.395447</td>\n",
       "      <td>NaN</td>\n",
       "      <td>NaN</td>\n",
       "      <td>3/1/21</td>\n",
       "      <td>3/1/21</td>\n",
       "      <td>Ministerio de Sanidad - Vacuna Covid 21</td>\n",
       "      <td>https://www.mscbs.gob.es/profesionales/saludPu...</td>\n",
       "    </tr>\n",
       "    <tr>\n",
       "      <th>3</th>\n",
       "      <td>4/1/21</td>\n",
       "      <td>Baleares</td>\n",
       "      <td>NaN</td>\n",
       "      <td>NaN</td>\n",
       "      <td>NaN</td>\n",
       "      <td>NaN</td>\n",
       "      <td>8940</td>\n",
       "      <td>153</td>\n",
       "      <td>0.017114</td>\n",
       "      <td>NaN</td>\n",
       "      <td>NaN</td>\n",
       "      <td>28/12/20</td>\n",
       "      <td>28/12/20</td>\n",
       "      <td>Ministerio de Sanidad - Vacuna Covid 22</td>\n",
       "      <td>https://www.mscbs.gob.es/profesionales/saludPu...</td>\n",
       "    </tr>\n",
       "    <tr>\n",
       "      <th>4</th>\n",
       "      <td>4/1/21</td>\n",
       "      <td>Canarias</td>\n",
       "      <td>NaN</td>\n",
       "      <td>NaN</td>\n",
       "      <td>NaN</td>\n",
       "      <td>NaN</td>\n",
       "      <td>20835</td>\n",
       "      <td>4846</td>\n",
       "      <td>0.232589</td>\n",
       "      <td>NaN</td>\n",
       "      <td>NaN</td>\n",
       "      <td>3/1/21</td>\n",
       "      <td>3/1/21</td>\n",
       "      <td>Ministerio de Sanidad - Vacuna Covid 23</td>\n",
       "      <td>https://www.mscbs.gob.es/profesionales/saludPu...</td>\n",
       "    </tr>\n",
       "  </tbody>\n",
       "</table>\n",
       "</div>"
      ],
      "text/plain": [
       "  date_pub       ccaa  Dosis entregadas Pfizer  Dosis entregadas Moderna  \\\n",
       "0   4/1/21  Andalucía                      NaN                       NaN   \n",
       "1   4/1/21     Aragón                      NaN                       NaN   \n",
       "2   4/1/21   Asturias                      NaN                       NaN   \n",
       "3   4/1/21   Baleares                      NaN                       NaN   \n",
       "4   4/1/21   Canarias                      NaN                       NaN   \n",
       "\n",
       "   Dosis entregadas AstraZeneca  Dosis entregadas Janssen  Dosis entregadas  \\\n",
       "0                           NaN                       NaN            140295   \n",
       "1                           NaN                       NaN             23715   \n",
       "2                           NaN                       NaN             23720   \n",
       "3                           NaN                       NaN              8940   \n",
       "4                           NaN                       NaN             20835   \n",
       "\n",
       "   Dosis administradas  % sobre entregadas  Total 1 vacuna  \\\n",
       "0                25809            0.183962             NaN   \n",
       "1                 2004            0.084503             NaN   \n",
       "2                 9380            0.395447             NaN   \n",
       "3                  153            0.017114             NaN   \n",
       "4                 4846            0.232589             NaN   \n",
       "\n",
       "   Total pauta completada Última fecha de actualización de datos  \\\n",
       "0                     NaN                                 3/1/21   \n",
       "1                     NaN                                 2/1/21   \n",
       "2                     NaN                                 3/1/21   \n",
       "3                     NaN                               28/12/20   \n",
       "4                     NaN                                 3/1/21   \n",
       "\n",
       "  Fecha de la ultima vacuna registrada  \\\n",
       "0                               3/1/21   \n",
       "1                               2/1/21   \n",
       "2                               3/1/21   \n",
       "3                             28/12/20   \n",
       "4                               3/1/21   \n",
       "\n",
       "                               source_name  \\\n",
       "0  Ministerio de Sanidad - Vacuna Covid 19   \n",
       "1  Ministerio de Sanidad - Vacuna Covid 20   \n",
       "2  Ministerio de Sanidad - Vacuna Covid 21   \n",
       "3  Ministerio de Sanidad - Vacuna Covid 22   \n",
       "4  Ministerio de Sanidad - Vacuna Covid 23   \n",
       "\n",
       "                                              source  \n",
       "0  https://www.mscbs.gob.es/profesionales/saludPu...  \n",
       "1  https://www.mscbs.gob.es/profesionales/saludPu...  \n",
       "2  https://www.mscbs.gob.es/profesionales/saludPu...  \n",
       "3  https://www.mscbs.gob.es/profesionales/saludPu...  \n",
       "4  https://www.mscbs.gob.es/profesionales/saludPu...  "
      ]
     },
     "execution_count": 143,
     "metadata": {},
     "output_type": "execute_result"
    }
   ],
   "source": [
    "url_es = 'https://raw.githubusercontent.com/montera34/escovid19data/master/data/original/vacunas/estado_vacunacion_.csv'\n",
    "\n",
    "df_es = pd.read_csv(url_es)\n",
    "print('Total=>',df_es[\"Total pauta completada\"].tail(1))\n",
    "df_es.head()\n"
   ]
  },
  {
   "cell_type": "code",
   "execution_count": 144,
   "metadata": {},
   "outputs": [],
   "source": [
    "month= df_es['date_pub']\n",
    "me = []\n",
    "for m in month:\n",
    "    mes = m.split(\"/\")\n",
    "    me.append(int(mes[1]))\n",
    "df_es[\"mes\"]=me"
   ]
  },
  {
   "cell_type": "code",
   "execution_count": 145,
   "metadata": {},
   "outputs": [
    {
     "data": {
      "text/plain": [
       "<matplotlib.axes._subplots.AxesSubplot at 0x241793c08e0>"
      ]
     },
     "execution_count": 145,
     "metadata": {},
     "output_type": "execute_result"
    },
    {
     "data": {
      "image/png": "[encoded data removed]",
      "text/plain": [
       "<Figure size 432x288 with 1 Axes>"
      ]
     },
     "metadata": {
      "needs_background": "light"
     },
     "output_type": "display_data"
    }
   ],
   "source": [
    "mes = np.array(df_es[\"date_pub\"])\n",
    "\n",
    "df_es.plot(x='date_pub', y = \"Total 1 vacuna\",label=\"Primera dosis\")"
   ]
  },
  {
   "cell_type": "code",
   "execution_count": 146,
   "metadata": {},
   "outputs": [
    {
     "data": {
      "text/plain": [
       "<matplotlib.axes._subplots.AxesSubplot at 0x241739dfbb0>"
      ]
     },
     "execution_count": 146,
     "metadata": {},
     "output_type": "execute_result"
    },
    {
     "data": {
      "image/png": "[encoded data removed]",
      "text/plain": [
       "<Figure size 432x288 with 1 Axes>"
      ]
     },
     "metadata": {
      "needs_background": "light"
     },
     "output_type": "display_data"
    }
   ],
   "source": [
    "df_es.plot(x=\"date_pub\", y = 'Total pauta completada', label='segunda dosis')"
   ]
  },
  {
   "cell_type": "code",
   "execution_count": 147,
   "metadata": {},
   "outputs": [
    {
     "data": {
      "text/plain": [
       "<matplotlib.axes._subplots.AxesSubplot at 0x2417392b5e0>"
      ]
     },
     "execution_count": 147,
     "metadata": {},
     "output_type": "execute_result"
    },
    {
     "data": {
      "image/png": "[encoded data removed]",
      "text/plain": [
       "<Figure size 432x288 with 1 Axes>"
      ]
     },
     "metadata": {
      "needs_background": "light"
     },
     "output_type": "display_data"
    }
   ],
   "source": [
    "df_es.plot(x=\"date_pub\", y = 'Dosis administradas', label =\"Dosis total\")"
   ]
  },
  {
   "cell_type": "code",
   "execution_count": 148,
   "metadata": {},
   "outputs": [
    {
     "data": {
      "image/png": "[encoded data removed]",
      "text/plain": [
       "<Figure size 432x288 with 1 Axes>"
      ]
     },
     "metadata": {
      "needs_background": "light"
     },
     "output_type": "display_data"
    }
   ],
   "source": [
    "plt.plot(df_es[\"mes\"],df_es[\"Total 1 vacuna\"], label=\"Primera dosis\")\n",
    "plt.plot(df_es[\"mes\"], df_es[\"Total pauta completada\"], label='Segunda dosis')\n",
    "plt.plot(df_es[\"mes\"], df_es[\"Dosis administradas\"], label=\"Dosis Administrada\")\n",
    "plt.legend(loc='upper left')\n",
    "plt.show()"
   ]
  },
  {
   "cell_type": "markdown",
   "metadata": {},
   "source": [
    "### Datos de chile\n",
    " https://raw.githubusercontent.com/montera34/escovid19data/master/data/original/vacunas/estado_vacunacion_.csv"
   ]
  },
  {
   "cell_type": "code",
   "execution_count": 149,
   "metadata": {},
   "outputs": [
    {
     "data": {
      "text/html": [
       "<div>\n",
       "<style scoped>\n",
       "    .dataframe tbody tr th:only-of-type {\n",
       "        vertical-align: middle;\n",
       "    }\n",
       "\n",
       "    .dataframe tbody tr th {\n",
       "        vertical-align: top;\n",
       "    }\n",
       "\n",
       "    .dataframe thead th {\n",
       "        text-align: right;\n",
       "    }\n",
       "</style>\n",
       "<table border=\"1\" class=\"dataframe\">\n",
       "  <thead>\n",
       "    <tr style=\"text-align: right;\">\n",
       "      <th></th>\n",
       "      <th>date_pub</th>\n",
       "      <th>ccaa</th>\n",
       "      <th>Dosis entregadas Pfizer</th>\n",
       "      <th>Dosis entregadas Moderna</th>\n",
       "      <th>Dosis entregadas AstraZeneca</th>\n",
       "      <th>Dosis entregadas Janssen</th>\n",
       "      <th>Dosis entregadas</th>\n",
       "      <th>Dosis administradas</th>\n",
       "      <th>% sobre entregadas</th>\n",
       "      <th>Total 1 vacuna</th>\n",
       "      <th>Total pauta completada</th>\n",
       "      <th>Última fecha de actualización de datos</th>\n",
       "      <th>Fecha de la ultima vacuna registrada</th>\n",
       "      <th>source_name</th>\n",
       "      <th>source</th>\n",
       "    </tr>\n",
       "  </thead>\n",
       "  <tbody>\n",
       "    <tr>\n",
       "      <th>0</th>\n",
       "      <td>4/1/21</td>\n",
       "      <td>Andalucía</td>\n",
       "      <td>NaN</td>\n",
       "      <td>NaN</td>\n",
       "      <td>NaN</td>\n",
       "      <td>NaN</td>\n",
       "      <td>140295</td>\n",
       "      <td>25809</td>\n",
       "      <td>0.183962</td>\n",
       "      <td>NaN</td>\n",
       "      <td>NaN</td>\n",
       "      <td>3/1/21</td>\n",
       "      <td>3/1/21</td>\n",
       "      <td>Ministerio de Sanidad - Vacuna Covid 19</td>\n",
       "      <td>https://www.mscbs.gob.es/profesionales/saludPu...</td>\n",
       "    </tr>\n",
       "    <tr>\n",
       "      <th>1</th>\n",
       "      <td>4/1/21</td>\n",
       "      <td>Aragón</td>\n",
       "      <td>NaN</td>\n",
       "      <td>NaN</td>\n",
       "      <td>NaN</td>\n",
       "      <td>NaN</td>\n",
       "      <td>23715</td>\n",
       "      <td>2004</td>\n",
       "      <td>0.084503</td>\n",
       "      <td>NaN</td>\n",
       "      <td>NaN</td>\n",
       "      <td>2/1/21</td>\n",
       "      <td>2/1/21</td>\n",
       "      <td>Ministerio de Sanidad - Vacuna Covid 20</td>\n",
       "      <td>https://www.mscbs.gob.es/profesionales/saludPu...</td>\n",
       "    </tr>\n",
       "    <tr>\n",
       "      <th>2</th>\n",
       "      <td>4/1/21</td>\n",
       "      <td>Asturias</td>\n",
       "      <td>NaN</td>\n",
       "      <td>NaN</td>\n",
       "      <td>NaN</td>\n",
       "      <td>NaN</td>\n",
       "      <td>23720</td>\n",
       "      <td>9380</td>\n",
       "      <td>0.395447</td>\n",
       "      <td>NaN</td>\n",
       "      <td>NaN</td>\n",
       "      <td>3/1/21</td>\n",
       "      <td>3/1/21</td>\n",
       "      <td>Ministerio de Sanidad - Vacuna Covid 21</td>\n",
       "      <td>https://www.mscbs.gob.es/profesionales/saludPu...</td>\n",
       "    </tr>\n",
       "    <tr>\n",
       "      <th>3</th>\n",
       "      <td>4/1/21</td>\n",
       "      <td>Baleares</td>\n",
       "      <td>NaN</td>\n",
       "      <td>NaN</td>\n",
       "      <td>NaN</td>\n",
       "      <td>NaN</td>\n",
       "      <td>8940</td>\n",
       "      <td>153</td>\n",
       "      <td>0.017114</td>\n",
       "      <td>NaN</td>\n",
       "      <td>NaN</td>\n",
       "      <td>28/12/20</td>\n",
       "      <td>28/12/20</td>\n",
       "      <td>Ministerio de Sanidad - Vacuna Covid 22</td>\n",
       "      <td>https://www.mscbs.gob.es/profesionales/saludPu...</td>\n",
       "    </tr>\n",
       "    <tr>\n",
       "      <th>4</th>\n",
       "      <td>4/1/21</td>\n",
       "      <td>Canarias</td>\n",
       "      <td>NaN</td>\n",
       "      <td>NaN</td>\n",
       "      <td>NaN</td>\n",
       "      <td>NaN</td>\n",
       "      <td>20835</td>\n",
       "      <td>4846</td>\n",
       "      <td>0.232589</td>\n",
       "      <td>NaN</td>\n",
       "      <td>NaN</td>\n",
       "      <td>3/1/21</td>\n",
       "      <td>3/1/21</td>\n",
       "      <td>Ministerio de Sanidad - Vacuna Covid 23</td>\n",
       "      <td>https://www.mscbs.gob.es/profesionales/saludPu...</td>\n",
       "    </tr>\n",
       "  </tbody>\n",
       "</table>\n",
       "</div>"
      ],
      "text/plain": [
       "  date_pub       ccaa  Dosis entregadas Pfizer  Dosis entregadas Moderna  \\\n",
       "0   4/1/21  Andalucía                      NaN                       NaN   \n",
       "1   4/1/21     Aragón                      NaN                       NaN   \n",
       "2   4/1/21   Asturias                      NaN                       NaN   \n",
       "3   4/1/21   Baleares                      NaN                       NaN   \n",
       "4   4/1/21   Canarias                      NaN                       NaN   \n",
       "\n",
       "   Dosis entregadas AstraZeneca  Dosis entregadas Janssen  Dosis entregadas  \\\n",
       "0                           NaN                       NaN            140295   \n",
       "1                           NaN                       NaN             23715   \n",
       "2                           NaN                       NaN             23720   \n",
       "3                           NaN                       NaN              8940   \n",
       "4                           NaN                       NaN             20835   \n",
       "\n",
       "   Dosis administradas  % sobre entregadas  Total 1 vacuna  \\\n",
       "0                25809            0.183962             NaN   \n",
       "1                 2004            0.084503             NaN   \n",
       "2                 9380            0.395447             NaN   \n",
       "3                  153            0.017114             NaN   \n",
       "4                 4846            0.232589             NaN   \n",
       "\n",
       "   Total pauta completada Última fecha de actualización de datos  \\\n",
       "0                     NaN                                 3/1/21   \n",
       "1                     NaN                                 2/1/21   \n",
       "2                     NaN                                 3/1/21   \n",
       "3                     NaN                               28/12/20   \n",
       "4                     NaN                                 3/1/21   \n",
       "\n",
       "  Fecha de la ultima vacuna registrada  \\\n",
       "0                               3/1/21   \n",
       "1                               2/1/21   \n",
       "2                               3/1/21   \n",
       "3                             28/12/20   \n",
       "4                               3/1/21   \n",
       "\n",
       "                               source_name  \\\n",
       "0  Ministerio de Sanidad - Vacuna Covid 19   \n",
       "1  Ministerio de Sanidad - Vacuna Covid 20   \n",
       "2  Ministerio de Sanidad - Vacuna Covid 21   \n",
       "3  Ministerio de Sanidad - Vacuna Covid 22   \n",
       "4  Ministerio de Sanidad - Vacuna Covid 23   \n",
       "\n",
       "                                              source  \n",
       "0  https://www.mscbs.gob.es/profesionales/saludPu...  \n",
       "1  https://www.mscbs.gob.es/profesionales/saludPu...  \n",
       "2  https://www.mscbs.gob.es/profesionales/saludPu...  \n",
       "3  https://www.mscbs.gob.es/profesionales/saludPu...  \n",
       "4  https://www.mscbs.gob.es/profesionales/saludPu...  "
      ]
     },
     "execution_count": 149,
     "metadata": {},
     "output_type": "execute_result"
    }
   ],
   "source": [
    "url_ch = \"https://raw.githubusercontent.com/montera34/escovid19data/master/data/original/vacunas/estado_vacunacion_.csv\"\n",
    "df_ch = pd.read_csv(url_ch)\n",
    "df_ch.head()"
   ]
  },
  {
   "cell_type": "code",
   "execution_count": 150,
   "metadata": {},
   "outputs": [
    {
     "data": {
      "text/plain": [
       "Text(0.5, 1.0, 'Dosis entregadas')"
      ]
     },
     "execution_count": 150,
     "metadata": {},
     "output_type": "execute_result"
    },
    {
     "data": {
      "image/png": "[encoded data removed]",
      "text/plain": [
       "<Figure size 432x288 with 1 Axes>"
      ]
     },
     "metadata": {
      "needs_background": "light"
     },
     "output_type": "display_data"
    }
   ],
   "source": [
    "month= df_ch['date_pub']\n",
    "me = []\n",
    "for m in month:\n",
    "    mes = m.split(\"/\")\n",
    "    me.append(int(mes[1]))\n",
    "df_ch[\"mes\"]=me\n",
    "\n",
    "df_ch.plot(x = \"date_pub\", y =\"Dosis entregadas\")\n",
    "plt.title(\"Dosis entregadas\")\n"
   ]
  },
  {
   "cell_type": "code",
   "execution_count": 151,
   "metadata": {},
   "outputs": [
    {
     "data": {
      "text/plain": [
       "Text(0.5, 1.0, 'Dosis administradas')"
      ]
     },
     "execution_count": 151,
     "metadata": {},
     "output_type": "execute_result"
    },
    {
     "data": {
      "image/png": "[encoded data removed]",
      "text/plain": [
       "<Figure size 432x288 with 1 Axes>"
      ]
     },
     "metadata": {
      "needs_background": "light"
     },
     "output_type": "display_data"
    }
   ],
   "source": [
    "df_ch.plot(x = \"date_pub\", y =\"Dosis administradas\")\n",
    "plt.title(\"Dosis administradas\")"
   ]
  },
  {
   "cell_type": "markdown",
   "metadata": {},
   "source": [
    "## Datos de vacunación en Estados Unidos\n",
    "\n",
    "https://raw.githubusercontent.com/MinCiencia/Datos-COVID19/master/input/Vacunacion/WORK_ARCHIVO_1.csv"
   ]
  },
  {
   "cell_type": "code",
   "execution_count": 152,
   "metadata": {},
   "outputs": [],
   "source": [
    "url_eu = 'https://raw.githubusercontent.com/MinCiencia/Datos-COVID19/master/input/Vacunacion/WORK_ARCHIVO_1.csv'"
   ]
  },
  {
   "cell_type": "code",
   "execution_count": 153,
   "metadata": {},
   "outputs": [
    {
     "data": {
      "text/html": [
       "<div>\n",
       "<style scoped>\n",
       "    .dataframe tbody tr th:only-of-type {\n",
       "        vertical-align: middle;\n",
       "    }\n",
       "\n",
       "    .dataframe tbody tr th {\n",
       "        vertical-align: top;\n",
       "    }\n",
       "\n",
       "    .dataframe thead th {\n",
       "        text-align: right;\n",
       "    }\n",
       "</style>\n",
       "<table border=\"1\" class=\"dataframe\">\n",
       "  <thead>\n",
       "    <tr style=\"text-align: right;\">\n",
       "      <th></th>\n",
       "      <th>REGION_CORTO</th>\n",
       "      <th>COD_COMUNA_FINAL</th>\n",
       "      <th>FECHA_INMUNIZACION</th>\n",
       "      <th>SUM_of_SUM_of_1aDOSIS</th>\n",
       "      <th>SUM_of_SUM_of_2aDOSIS</th>\n",
       "      <th>mes</th>\n",
       "      <th>total</th>\n",
       "    </tr>\n",
       "  </thead>\n",
       "  <tbody>\n",
       "    <tr>\n",
       "      <th>0</th>\n",
       "      <td>Metropolitana  Santiago</td>\n",
       "      <td>13101</td>\n",
       "      <td>24/12/2020</td>\n",
       "      <td>280.0</td>\n",
       "      <td>NaN</td>\n",
       "      <td>12</td>\n",
       "      <td>NaN</td>\n",
       "    </tr>\n",
       "    <tr>\n",
       "      <th>1</th>\n",
       "      <td>Metropolitana  Santiago</td>\n",
       "      <td>13108</td>\n",
       "      <td>24/12/2020</td>\n",
       "      <td>70.0</td>\n",
       "      <td>NaN</td>\n",
       "      <td>12</td>\n",
       "      <td>NaN</td>\n",
       "    </tr>\n",
       "    <tr>\n",
       "      <th>2</th>\n",
       "      <td>Metropolitana  Santiago</td>\n",
       "      <td>13123</td>\n",
       "      <td>24/12/2020</td>\n",
       "      <td>70.0</td>\n",
       "      <td>NaN</td>\n",
       "      <td>12</td>\n",
       "      <td>NaN</td>\n",
       "    </tr>\n",
       "    <tr>\n",
       "      <th>3</th>\n",
       "      <td>Bíobío</td>\n",
       "      <td>8101</td>\n",
       "      <td>25/12/2020</td>\n",
       "      <td>406.0</td>\n",
       "      <td>NaN</td>\n",
       "      <td>12</td>\n",
       "      <td>NaN</td>\n",
       "    </tr>\n",
       "    <tr>\n",
       "      <th>4</th>\n",
       "      <td>Bíobío</td>\n",
       "      <td>8107</td>\n",
       "      <td>25/12/2020</td>\n",
       "      <td>45.0</td>\n",
       "      <td>NaN</td>\n",
       "      <td>12</td>\n",
       "      <td>NaN</td>\n",
       "    </tr>\n",
       "    <tr>\n",
       "      <th>...</th>\n",
       "      <td>...</td>\n",
       "      <td>...</td>\n",
       "      <td>...</td>\n",
       "      <td>...</td>\n",
       "      <td>...</td>\n",
       "      <td>...</td>\n",
       "      <td>...</td>\n",
       "    </tr>\n",
       "    <tr>\n",
       "      <th>26666</th>\n",
       "      <td>Ñuble</td>\n",
       "      <td>16301</td>\n",
       "      <td>10/05/2021</td>\n",
       "      <td>205.0</td>\n",
       "      <td>243.0</td>\n",
       "      <td>5</td>\n",
       "      <td>448.0</td>\n",
       "    </tr>\n",
       "    <tr>\n",
       "      <th>26667</th>\n",
       "      <td>Ñuble</td>\n",
       "      <td>16302</td>\n",
       "      <td>10/05/2021</td>\n",
       "      <td>151.0</td>\n",
       "      <td>66.0</td>\n",
       "      <td>5</td>\n",
       "      <td>217.0</td>\n",
       "    </tr>\n",
       "    <tr>\n",
       "      <th>26668</th>\n",
       "      <td>Ñuble</td>\n",
       "      <td>16303</td>\n",
       "      <td>10/05/2021</td>\n",
       "      <td>24.0</td>\n",
       "      <td>16.0</td>\n",
       "      <td>5</td>\n",
       "      <td>40.0</td>\n",
       "    </tr>\n",
       "    <tr>\n",
       "      <th>26669</th>\n",
       "      <td>Ñuble</td>\n",
       "      <td>16304</td>\n",
       "      <td>10/05/2021</td>\n",
       "      <td>24.0</td>\n",
       "      <td>10.0</td>\n",
       "      <td>5</td>\n",
       "      <td>34.0</td>\n",
       "    </tr>\n",
       "    <tr>\n",
       "      <th>26670</th>\n",
       "      <td>Ñuble</td>\n",
       "      <td>16305</td>\n",
       "      <td>10/05/2021</td>\n",
       "      <td>50.0</td>\n",
       "      <td>57.0</td>\n",
       "      <td>5</td>\n",
       "      <td>107.0</td>\n",
       "    </tr>\n",
       "  </tbody>\n",
       "</table>\n",
       "<p>26671 rows × 7 columns</p>\n",
       "</div>"
      ],
      "text/plain": [
       "                  REGION_CORTO  COD_COMUNA_FINAL FECHA_INMUNIZACION  \\\n",
       "0      Metropolitana  Santiago             13101         24/12/2020   \n",
       "1      Metropolitana  Santiago             13108         24/12/2020   \n",
       "2      Metropolitana  Santiago             13123         24/12/2020   \n",
       "3                       Bíobío              8101         25/12/2020   \n",
       "4                       Bíobío              8107         25/12/2020   \n",
       "...                        ...               ...                ...   \n",
       "26666                    Ñuble             16301         10/05/2021   \n",
       "26667                    Ñuble             16302         10/05/2021   \n",
       "26668                    Ñuble             16303         10/05/2021   \n",
       "26669                    Ñuble             16304         10/05/2021   \n",
       "26670                    Ñuble             16305         10/05/2021   \n",
       "\n",
       "       SUM_of_SUM_of_1aDOSIS  SUM_of_SUM_of_2aDOSIS  mes  total  \n",
       "0                      280.0                    NaN   12    NaN  \n",
       "1                       70.0                    NaN   12    NaN  \n",
       "2                       70.0                    NaN   12    NaN  \n",
       "3                      406.0                    NaN   12    NaN  \n",
       "4                       45.0                    NaN   12    NaN  \n",
       "...                      ...                    ...  ...    ...  \n",
       "26666                  205.0                  243.0    5  448.0  \n",
       "26667                  151.0                   66.0    5  217.0  \n",
       "26668                   24.0                   16.0    5   40.0  \n",
       "26669                   24.0                   10.0    5   34.0  \n",
       "26670                   50.0                   57.0    5  107.0  \n",
       "\n",
       "[26671 rows x 7 columns]"
      ]
     },
     "execution_count": 153,
     "metadata": {},
     "output_type": "execute_result"
    }
   ],
   "source": [
    "df_eu = pd.read_csv(url_eu,sep=\";\",encoding=\"latin-1\")\n",
    "\n",
    "month= df_eu['FECHA_INMUNIZACION']\n",
    "me = []\n",
    "for m in month:\n",
    "    mes = m.split(\"/\")\n",
    "    me.append(int(mes[1]))\n",
    "df_eu[\"mes\"]=me\n",
    "\n",
    "tot = np.array(df_eu[\"SUM_of_SUM_of_1aDOSIS\"])+np.array(df_eu['SUM_of_SUM_of_2aDOSIS'])\n",
    "df_eu[\"total\"]=tot\n",
    "df_eu"
   ]
  },
  {
   "cell_type": "code",
   "execution_count": 154,
   "metadata": {},
   "outputs": [
    {
     "data": {
      "text/plain": [
       "<matplotlib.axes._subplots.AxesSubplot at 0x2417b9e9610>"
      ]
     },
     "execution_count": 154,
     "metadata": {},
     "output_type": "execute_result"
    },
    {
     "data": {
      "image/png": "[encoded data removed]",
      "text/plain": [
       "<Figure size 432x288 with 1 Axes>"
      ]
     },
     "metadata": {
      "needs_background": "light"
     },
     "output_type": "display_data"
    }
   ],
   "source": [
    "df_eu.plot(x=\"FECHA_INMUNIZACION\", y =\"SUM_of_SUM_of_1aDOSIS\", label=\"Primera dosis\")"
   ]
  },
  {
   "cell_type": "code",
   "execution_count": 155,
   "metadata": {},
   "outputs": [
    {
     "data": {
      "text/plain": [
       "<matplotlib.axes._subplots.AxesSubplot at 0x2417ba9e7f0>"
      ]
     },
     "execution_count": 155,
     "metadata": {},
     "output_type": "execute_result"
    },
    {
     "data": {
      "image/png": "[encoded data removed]",
      "text/plain": [
       "<Figure size 432x288 with 1 Axes>"
      ]
     },
     "metadata": {
      "needs_background": "light"
     },
     "output_type": "display_data"
    }
   ],
   "source": [
    "df_eu.plot(x='FECHA_INMUNIZACION', y=\"SUM_of_SUM_of_2aDOSIS\", label=\"Segunda dosis\")"
   ]
  },
  {
   "cell_type": "code",
   "execution_count": 156,
   "metadata": {},
   "outputs": [
    {
     "data": {
      "text/plain": [
       "<matplotlib.axes._subplots.AxesSubplot at 0x2417b9cce50>"
      ]
     },
     "execution_count": 156,
     "metadata": {},
     "output_type": "execute_result"
    },
    {
     "data": {
      "image/png": "[encoded data removed]",
      "text/plain": [
       "<Figure size 432x288 with 1 Axes>"
      ]
     },
     "metadata": {
      "needs_background": "light"
     },
     "output_type": "display_data"
    }
   ],
   "source": [
    "df_eu.plot(x='mes', y=\"SUM_of_SUM_of_2aDOSIS\", label=\"Segunda dosis\")"
   ]
  },
  {
   "cell_type": "code",
   "execution_count": 157,
   "metadata": {},
   "outputs": [
    {
     "data": {
      "text/plain": [
       "<matplotlib.axes._subplots.AxesSubplot at 0x2417a473310>"
      ]
     },
     "execution_count": 157,
     "metadata": {},
     "output_type": "execute_result"
    },
    {
     "data": {
      "image/png": "[encoded data removed]",
      "text/plain": [
       "<Figure size 432x288 with 1 Axes>"
      ]
     },
     "metadata": {
      "needs_background": "light"
     },
     "output_type": "display_data"
    }
   ],
   "source": [
    "df_eu.plot(x=\"mes\", y =\"total\", label=\"Total\")"
   ]
  },
  {
   "cell_type": "markdown",
   "metadata": {},
   "source": [
    "### Comparación en paises\n",
    "#### Ecuador."
   ]
  },
  {
   "cell_type": "code",
   "execution_count": 158,
   "metadata": {},
   "outputs": [
    {
     "data": {
      "text/plain": [
       "<matplotlib.axes._subplots.AxesSubplot at 0x2417a4c06d0>"
      ]
     },
     "execution_count": 158,
     "metadata": {},
     "output_type": "execute_result"
    },
    {
     "data": {
      "image/png": "[encoded data removed]",
      "text/plain": [
       "<Figure size 432x288 with 1 Axes>"
      ]
     },
     "metadata": {
      "needs_background": "light"
     },
     "output_type": "display_data"
    }
   ],
   "source": [
    "df.plot(x='fecha', y =\"total\", label=\"Dosis Ecuador\")\n"
   ]
  },
  {
   "cell_type": "markdown",
   "metadata": {},
   "source": [
    "### España"
   ]
  },
  {
   "cell_type": "code",
   "execution_count": 159,
   "metadata": {},
   "outputs": [
    {
     "name": "stdout",
     "output_type": "stream",
     "text": [
      "total 1           2004\n",
      "2           9380\n",
      "3            153\n",
      "4           4846\n",
      "5            304\n",
      "          ...   \n",
      "1830     1039070\n",
      "1831       26314\n",
      "1832       21973\n",
      "1833       75974\n",
      "1834    20162661\n",
      "Name: Dosis administradas, Length: 1834, dtype: int64\n"
     ]
    },
    {
     "data": {
      "image/png": "[encoded data removed]",
      "text/plain": [
       "<Figure size 432x288 with 1 Axes>"
      ]
     },
     "metadata": {
      "needs_background": "light"
     },
     "output_type": "display_data"
    }
   ],
   "source": [
    "df_es.plot(x=\"date_pub\",y = \"Dosis administradas\")\n",
    "plt.title(\"España\")\n",
    "print('total',df_es[\"Dosis administradas\"].tail(-1))"
   ]
  },
  {
   "cell_type": "markdown",
   "metadata": {},
   "source": [
    "### Chile"
   ]
  },
  {
   "cell_type": "code",
   "execution_count": 160,
   "metadata": {},
   "outputs": [
    {
     "data": {
      "text/plain": [
       "Text(0.5, 1.0, 'Dosis administradas Chile')"
      ]
     },
     "execution_count": 160,
     "metadata": {},
     "output_type": "execute_result"
    },
    {
     "data": {
      "image/png": "[encoded data removed]",
      "text/plain": [
       "<Figure size 432x288 with 1 Axes>"
      ]
     },
     "metadata": {
      "needs_background": "light"
     },
     "output_type": "display_data"
    }
   ],
   "source": [
    "df_ch.plot(x=\"date_pub\", y = \"Dosis administradas\")\n",
    "plt.title(\"Dosis administradas Chile\")"
   ]
  },
  {
   "cell_type": "markdown",
   "metadata": {},
   "source": [
    "### Estados Unidos"
   ]
  },
  {
   "cell_type": "code",
   "execution_count": 162,
   "metadata": {},
   "outputs": [
    {
     "name": "stdout",
     "output_type": "stream",
     "text": [
      "26670    107.0\n",
      "Name: total, dtype: float64\n"
     ]
    },
    {
     "data": {
      "image/png": "[encoded data removed]",
      "text/plain": [
       "<Figure size 432x288 with 1 Axes>"
      ]
     },
     "metadata": {
      "needs_background": "light"
     },
     "output_type": "display_data"
    }
   ],
   "source": [
    "df_eu.plot(x='FECHA_INMUNIZACION', y=\"SUM_of_SUM_of_2aDOSIS\", label=\"Total dosis\")\n",
    "plt.title(\"Estados Unidos\")\n",
    "print(df_eu[\"total\"].tail(1))"
   ]
  },
  {
   "cell_type": "code",
   "execution_count": null,
   "metadata": {},
   "outputs": [],
   "source": []
  },
  {
   "cell_type": "markdown",
   "metadata": {},
   "source": [
    "### Bibliografia.\n",
    "\n",
    "[link] https://github.com/montera34/escovid19data/blob/master/data/original/vacunas/estado_vacunacion_.csv\n",
    "<br>\n",
    "[link] https://raw.githubusercontent.com/MinCiencia/Datos-COVID19/master/input/Vacunacion/WORK_ARCHIVO_1.csv\n",
    "<br>\n",
    "[link] https://github.com/andrab/ecuacovid/blob/master/datos_crudos/vacunas/vacunas.csv\n",
    "\n",
    "![La funcion exponencial y logaritmica] https://www.superprof.es/apuntes/escolar/matematicas/calculo/funciones/funcion-exponencial.html\n"
   ]
  }
 ],
 "metadata": {
  "kernelspec": {
   "display_name": "Python 3",
   "language": "python",
   "name": "python3"
  },
  "language_info": {
   "codemirror_mode": {
    "name": "ipython",
    "version": 3
   },
   "file_extension": ".py",
   "mimetype": "text/x-python",
   "name": "python",
   "nbconvert_exporter": "python",
   "pygments_lexer": "ipython3",
   "version": "3.8.3"
  }
 },
 "nbformat": 4,
 "nbformat_minor": 4
}
